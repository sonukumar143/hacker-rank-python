{
 "cells": [
  {
   "cell_type": "code",
   "execution_count": 1,
   "id": "31a3164b",
   "metadata": {},
   "outputs": [],
   "source": [
    "import numpy as np\n",
    "import pandas as pd\n",
    "import matplotlib.pyplot as plt"
   ]
  },
  {
   "cell_type": "code",
   "execution_count": 2,
   "id": "5c862bed",
   "metadata": {},
   "outputs": [],
   "source": [
    "df = pd.read_csv(\"C:\\\\Users\\\\sonu kumar\\\\Desktop\\\\dataframe_.csv\")"
   ]
  },
  {
   "cell_type": "code",
   "execution_count": 3,
   "id": "0e2f6342",
   "metadata": {},
   "outputs": [
    {
     "data": {
      "text/html": [
       "<div>\n",
       "<style scoped>\n",
       "    .dataframe tbody tr th:only-of-type {\n",
       "        vertical-align: middle;\n",
       "    }\n",
       "\n",
       "    .dataframe tbody tr th {\n",
       "        vertical-align: top;\n",
       "    }\n",
       "\n",
       "    .dataframe thead th {\n",
       "        text-align: right;\n",
       "    }\n",
       "</style>\n",
       "<table border=\"1\" class=\"dataframe\">\n",
       "  <thead>\n",
       "    <tr style=\"text-align: right;\">\n",
       "      <th></th>\n",
       "      <th>input</th>\n",
       "      <th>output</th>\n",
       "    </tr>\n",
       "  </thead>\n",
       "  <tbody>\n",
       "    <tr>\n",
       "      <th>count</th>\n",
       "      <td>1696.000000</td>\n",
       "      <td>1696.000000</td>\n",
       "    </tr>\n",
       "    <tr>\n",
       "      <th>mean</th>\n",
       "      <td>1.159933</td>\n",
       "      <td>-34.088017</td>\n",
       "    </tr>\n",
       "    <tr>\n",
       "      <th>std</th>\n",
       "      <td>79.005970</td>\n",
       "      <td>65.771112</td>\n",
       "    </tr>\n",
       "    <tr>\n",
       "      <th>min</th>\n",
       "      <td>-134.962839</td>\n",
       "      <td>-132.422167</td>\n",
       "    </tr>\n",
       "    <tr>\n",
       "      <th>25%</th>\n",
       "      <td>-63.386506</td>\n",
       "      <td>-80.026767</td>\n",
       "    </tr>\n",
       "    <tr>\n",
       "      <th>50%</th>\n",
       "      <td>10.195194</td>\n",
       "      <td>-50.470981</td>\n",
       "    </tr>\n",
       "    <tr>\n",
       "      <th>75%</th>\n",
       "      <td>70.264109</td>\n",
       "      <td>-11.000000</td>\n",
       "    </tr>\n",
       "    <tr>\n",
       "      <th>max</th>\n",
       "      <td>134.605775</td>\n",
       "      <td>134.425495</td>\n",
       "    </tr>\n",
       "  </tbody>\n",
       "</table>\n",
       "</div>"
      ],
      "text/plain": [
       "             input       output\n",
       "count  1696.000000  1696.000000\n",
       "mean      1.159933   -34.088017\n",
       "std      79.005970    65.771112\n",
       "min    -134.962839  -132.422167\n",
       "25%     -63.386506   -80.026767\n",
       "50%      10.195194   -50.470981\n",
       "75%      70.264109   -11.000000\n",
       "max     134.605775   134.425495"
      ]
     },
     "execution_count": 3,
     "metadata": {},
     "output_type": "execute_result"
    }
   ],
   "source": [
    "df.describe()"
   ]
  },
  {
   "cell_type": "code",
   "execution_count": 4,
   "id": "3b6ebc38",
   "metadata": {},
   "outputs": [
    {
     "data": {
      "text/plain": [
       "(1697, 2)"
      ]
     },
     "execution_count": 4,
     "metadata": {},
     "output_type": "execute_result"
    }
   ],
   "source": [
    "df.shape"
   ]
  },
  {
   "cell_type": "code",
   "execution_count": 5,
   "id": "c9ad03ca",
   "metadata": {},
   "outputs": [
    {
     "data": {
      "text/plain": [
       "input     1\n",
       "output    1\n",
       "dtype: int64"
      ]
     },
     "execution_count": 5,
     "metadata": {},
     "output_type": "execute_result"
    }
   ],
   "source": [
    "df.isnull().sum()"
   ]
  },
  {
   "cell_type": "code",
   "execution_count": 6,
   "id": "f95425bc",
   "metadata": {},
   "outputs": [
    {
     "name": "stdout",
     "output_type": "stream",
     "text": [
      "(array([1439, 1439], dtype=int64), array([0, 1], dtype=int64))\n"
     ]
    }
   ],
   "source": [
    "l=np.where(df.isna())\n",
    "print(l)"
   ]
  },
  {
   "cell_type": "code",
   "execution_count": 7,
   "id": "9faa72a0",
   "metadata": {},
   "outputs": [
    {
     "name": "stdout",
     "output_type": "stream",
     "text": [
      "      input  output\n",
      "1439    NaN     NaN\n"
     ]
    }
   ],
   "source": [
    "#printing the location \n",
    "print(df.iloc[[1439]])"
   ]
  },
  {
   "cell_type": "code",
   "execution_count": 8,
   "id": "a391a203",
   "metadata": {},
   "outputs": [
    {
     "data": {
      "text/plain": [
       "[0, 1]"
      ]
     },
     "execution_count": 8,
     "metadata": {},
     "output_type": "execute_result"
    }
   ],
   "source": [
    "real_int = [i for i in range(len(df.iloc[0])) if type(df.iloc[0, i]) != str]\n",
    "real_int"
   ]
  },
  {
   "cell_type": "code",
   "execution_count": 9,
   "id": "dec3552b",
   "metadata": {},
   "outputs": [],
   "source": [
    "for i in real_int:\n",
    "    from sklearn.impute import SimpleImputer\n",
    "    sim=SimpleImputer(missing_values=np.nan,strategy='mean')\n",
    "    df.iloc[:,[i]]=sim.fit_transform(df.iloc[:,[i]])"
   ]
  },
  {
   "cell_type": "code",
   "execution_count": 10,
   "id": "bde43d15",
   "metadata": {},
   "outputs": [
    {
     "data": {
      "text/plain": [
       "input     0\n",
       "output    0\n",
       "dtype: int64"
      ]
     },
     "execution_count": 10,
     "metadata": {},
     "output_type": "execute_result"
    }
   ],
   "source": [
    "df.isnull().sum()"
   ]
  },
  {
   "cell_type": "code",
   "execution_count": 11,
   "id": "18aa6ac2",
   "metadata": {},
   "outputs": [
    {
     "name": "stdout",
     "output_type": "stream",
     "text": [
      "         input     output\n",
      "1439  1.159933 -34.088017\n"
     ]
    }
   ],
   "source": [
    "#printing the location \n",
    "print(df.iloc[[1439]])"
   ]
  },
  {
   "cell_type": "markdown",
   "id": "0b86b3d0",
   "metadata": {},
   "source": [
    "### So above we have fill the NanN with the mean."
   ]
  },
  {
   "cell_type": "markdown",
   "id": "14c16204",
   "metadata": {},
   "source": [
    "## finding the outliers "
   ]
  },
  {
   "cell_type": "code",
   "execution_count": 12,
   "id": "c46119f2",
   "metadata": {},
   "outputs": [
    {
     "data": {
      "image/png": "[encoded data removed]",
      "text/plain": [
       "<Figure size 432x288 with 1 Axes>"
      ]
     },
     "metadata": {
      "needs_background": "light"
     },
     "output_type": "display_data"
    }
   ],
   "source": [
    "plt.boxplot(df, vert=False)\n",
    "plt.title(\"Detecting outliers using Boxplot\")\n",
    "plt.xlabel('df')\n",
    "plt.show()"
   ]
  },
  {
   "cell_type": "code",
   "execution_count": 13,
   "id": "893391c7",
   "metadata": {},
   "outputs": [],
   "source": [
    "def detect_outliers(x):\n",
    "    q1, q3 = np.percentile(x, [25, 75])\n",
    "    iqr = q3 - q1\n",
    "    lower_bound = q1 - (1.5 * iqr)\n",
    "    upper_bound = q3 + (1.5 * iqr)\n",
    "    return np.where((x > upper_bound) | (x < lower_bound))"
   ]
  },
  {
   "cell_type": "code",
   "execution_count": 14,
   "id": "02431e9b",
   "metadata": {},
   "outputs": [
    {
     "data": {
      "text/plain": [
       "(array([], dtype=int64),)"
      ]
     },
     "execution_count": 14,
     "metadata": {},
     "output_type": "execute_result"
    }
   ],
   "source": [
    "detect_outliers(df['input'])\n"
   ]
  },
  {
   "cell_type": "code",
   "execution_count": 15,
   "id": "462ab42f",
   "metadata": {},
   "outputs": [
    {
     "name": "stdout",
     "output_type": "stream",
     "text": [
      "(array([ 339,  341,  342,  343,  345,  346,  347,  350,  351,  352,  353,\n",
      "        354,  355,  356,  357,  358,  359,  360,  361,  362,  363,  453,\n",
      "        456,  457,  460,  461,  462,  464,  465,  466,  467,  468,  470,\n",
      "        471,  472,  473,  474,  475,  476,  477,  478,  479,  480,  481,\n",
      "        482,  483,  484,  485,  486,  487,  488,  489,  490,  491,  492,\n",
      "        493,  496,  498, 1038, 1043, 1044, 1046, 1048, 1050, 1052, 1053,\n",
      "       1054, 1055, 1056, 1057, 1058, 1059, 1060, 1061, 1062, 1063, 1064,\n",
      "       1065, 1066, 1067, 1068, 1069, 1070, 1071, 1072, 1073, 1074, 1075,\n",
      "       1076, 1077, 1078, 1079, 1080, 1081, 1082, 1083, 1084, 1085, 1086,\n",
      "       1087, 1088, 1089, 1090, 1091, 1092, 1093, 1094, 1095, 1096, 1097,\n",
      "       1098, 1099, 1100, 1101, 1102, 1103, 1104, 1105, 1106, 1107, 1108,\n",
      "       1109, 1110, 1450, 1452, 1453, 1454, 1456, 1457, 1458, 1461, 1462,\n",
      "       1463, 1464, 1465, 1466, 1467, 1468, 1469, 1470, 1471, 1472, 1473,\n",
      "       1474], dtype=int64),)\n"
     ]
    }
   ],
   "source": [
    "do=detect_outliers(df['output'])\n",
    "print(do)"
   ]
  },
  {
   "cell_type": "code",
   "execution_count": 16,
   "id": "9cbf4a4f",
   "metadata": {},
   "outputs": [],
   "source": [
    "for x in ['output']:\n",
    "    q75,q25 = np.percentile(df.loc[:,x],[75,25])\n",
    "    intr_qr = q75-q25\n",
    " \n",
    "    max = q75+(1.5*intr_qr)\n",
    "    min = q25-(1.5*intr_qr)\n",
    " \n",
    "    df.loc[df[x] < min,x] = np.nan\n",
    "    df.loc[df[x] > max,x] = np.nan"
   ]
  },
  {
   "cell_type": "code",
   "execution_count": 17,
   "id": "8f572434",
   "metadata": {},
   "outputs": [
    {
     "data": {
      "text/plain": [
       "input       0\n",
       "output    144\n",
       "dtype: int64"
      ]
     },
     "execution_count": 17,
     "metadata": {},
     "output_type": "execute_result"
    }
   ],
   "source": [
    "df.isnull().sum()"
   ]
  },
  {
   "cell_type": "markdown",
   "id": "c1952ecf",
   "metadata": {},
   "source": [
    "### there are 144 outlier we will remove all these..\n"
   ]
  },
  {
   "cell_type": "code",
   "execution_count": 18,
   "id": "366a9a46",
   "metadata": {},
   "outputs": [],
   "source": [
    " df=df. dropna()"
   ]
  },
  {
   "cell_type": "code",
   "execution_count": 19,
   "id": "d60d3163",
   "metadata": {},
   "outputs": [
    {
     "data": {
      "text/plain": [
       "input     0\n",
       "output    0\n",
       "dtype: int64"
      ]
     },
     "execution_count": 19,
     "metadata": {},
     "output_type": "execute_result"
    }
   ],
   "source": [
    "df.isnull().sum()"
   ]
  },
  {
   "cell_type": "code",
   "execution_count": 20,
   "id": "7e15224c",
   "metadata": {},
   "outputs": [
    {
     "data": {
      "text/plain": [
       "(1553, 2)"
      ]
     },
     "execution_count": 20,
     "metadata": {},
     "output_type": "execute_result"
    }
   ],
   "source": [
    "df.shape"
   ]
  },
  {
   "cell_type": "markdown",
   "id": "6c7717fc",
   "metadata": {},
   "source": [
    "### before sahpe was(1697,2) and now (1553,2) its becuse we have remove the outliers 1697-144=1533. "
   ]
  },
  {
   "cell_type": "code",
   "execution_count": 21,
   "id": "71f5a692",
   "metadata": {},
   "outputs": [],
   "source": [
    "X=df.loc[:,[\"input\"]]\n",
    "y=df.loc[:,[\"output\"]]"
   ]
  },
  {
   "cell_type": "code",
   "execution_count": 22,
   "id": "79113777",
   "metadata": {},
   "outputs": [
    {
     "name": "stdout",
     "output_type": "stream",
     "text": [
      "           input\n",
      "0    -122.740667\n",
      "1    -121.531419\n",
      "2    -134.917019\n",
      "3    -120.605951\n",
      "4    -129.894781\n",
      "...          ...\n",
      "1692   25.410184\n",
      "1693   29.537304\n",
      "1694   31.633331\n",
      "1695   29.091458\n",
      "1696   17.145296\n",
      "\n",
      "[1553 rows x 1 columns]\n"
     ]
    }
   ],
   "source": [
    "print(X)"
   ]
  },
  {
   "cell_type": "code",
   "execution_count": 23,
   "id": "def4b8c9",
   "metadata": {},
   "outputs": [
    {
     "name": "stdout",
     "output_type": "stream",
     "text": [
      "          output\n",
      "0    -130.572085\n",
      "1    -129.938929\n",
      "2    -130.141832\n",
      "3    -125.760932\n",
      "4    -112.785214\n",
      "...          ...\n",
      "1692  -76.380902\n",
      "1693  -82.796934\n",
      "1694  -87.000000\n",
      "1695 -104.943052\n",
      "1696 -101.726894\n",
      "\n",
      "[1553 rows x 1 columns]\n"
     ]
    }
   ],
   "source": [
    "print(y)"
   ]
  },
  {
   "cell_type": "markdown",
   "id": "31a5ddea",
   "metadata": {},
   "source": [
    "## descion tree"
   ]
  },
  {
   "cell_type": "code",
   "execution_count": 24,
   "id": "1a36f9cd",
   "metadata": {},
   "outputs": [
    {
     "name": "stdout",
     "output_type": "stream",
     "text": [
      "0.9298132646490663\n"
     ]
    },
    {
     "name": "stderr",
     "output_type": "stream",
     "text": [
      "C:\\Users\\sonu kumar\\anaconda3\\lib\\site-packages\\sklearn\\preprocessing\\_label.py:115: DataConversionWarning: A column-vector y was passed when a 1d array was expected. Please change the shape of y to (n_samples, ), for example using ravel().\n",
      "  y = column_or_1d(y, warn=True)\n"
     ]
    }
   ],
   "source": [
    "from sklearn.tree import DecisionTreeClassifier\n",
    "from sklearn import preprocessing\n",
    "from sklearn import utils\n",
    "\n",
    "#convert y values to categorical values\n",
    "\n",
    "lab = preprocessing.LabelEncoder()\n",
    "y_t = lab.fit_transform(y)\n",
    "clf = DecisionTreeClassifier(random_state=0).fit(X,y_t)\n",
    "\n",
    "dec_score=clf.score(X, y_t)\n",
    "print(dec_score)"
   ]
  },
  {
   "cell_type": "markdown",
   "id": "73b53293",
   "metadata": {},
   "source": [
    "## KNN"
   ]
  },
  {
   "cell_type": "code",
   "execution_count": 25,
   "id": "a42363de",
   "metadata": {},
   "outputs": [
    {
     "name": "stderr",
     "output_type": "stream",
     "text": [
      "C:\\Users\\sonu kumar\\anaconda3\\lib\\site-packages\\sklearn\\preprocessing\\_label.py:115: DataConversionWarning: A column-vector y was passed when a 1d array was expected. Please change the shape of y to (n_samples, ), for example using ravel().\n",
      "  y = column_or_1d(y, warn=True)\n"
     ]
    },
    {
     "name": "stdout",
     "output_type": "stream",
     "text": [
      "0.7366387636831938\n"
     ]
    }
   ],
   "source": [
    "from sklearn.neighbors import KNeighborsClassifier\n",
    "from sklearn import preprocessing\n",
    "from sklearn import utils\n",
    "\n",
    "#convert y values to categorical values\n",
    "\n",
    "lab = preprocessing.LabelEncoder()\n",
    "y_t = lab.fit_transform(y)\n",
    "clf2 = KNeighborsClassifier(n_neighbors=3).fit(X, y_t)\n",
    "\n",
    "knn_score=clf2.score(X, y_t)\n",
    "print(knn_score)"
   ]
  },
  {
   "cell_type": "markdown",
   "id": "f81ce6f4",
   "metadata": {},
   "source": [
    "## SVM LINEAR"
   ]
  },
  {
   "cell_type": "code",
   "execution_count": 26,
   "id": "e41f37ec",
   "metadata": {},
   "outputs": [
    {
     "name": "stderr",
     "output_type": "stream",
     "text": [
      "C:\\Users\\sonu kumar\\anaconda3\\lib\\site-packages\\sklearn\\preprocessing\\_label.py:115: DataConversionWarning: A column-vector y was passed when a 1d array was expected. Please change the shape of y to (n_samples, ), for example using ravel().\n",
      "  y = column_or_1d(y, warn=True)\n"
     ]
    },
    {
     "name": "stdout",
     "output_type": "stream",
     "text": [
      "0.21506761107533806\n"
     ]
    }
   ],
   "source": [
    "from sklearn import svm\n",
    "from sklearn import preprocessing\n",
    "from sklearn import utils\n",
    "\n",
    "#convert y values to categorical values\n",
    "\n",
    "lab = preprocessing.LabelEncoder()\n",
    "y_t = lab.fit_transform(y)\n",
    "\n",
    "\n",
    "lin_clf3 = svm.SVC(kernel='linear')\n",
    "lin_clf3.fit(X, y_t)\n",
    "\n",
    "svml_score=lin_clf3.score(X, y_t)\n",
    "print(svml_score)"
   ]
  },
  {
   "cell_type": "markdown",
   "id": "c88fa660",
   "metadata": {},
   "source": [
    "\n",
    "# hence we can see that Decision Tree is best one modle with 0.9298132646490663 score. "
   ]
  },
  {
   "cell_type": "markdown",
   "id": "d17d95ae",
   "metadata": {},
   "source": [
    "## Logistic Regression"
   ]
  },
  {
   "cell_type": "code",
   "execution_count": 27,
   "id": "3cea88b5",
   "metadata": {},
   "outputs": [
    {
     "name": "stderr",
     "output_type": "stream",
     "text": [
      "C:\\Users\\sonu kumar\\anaconda3\\lib\\site-packages\\sklearn\\preprocessing\\_label.py:115: DataConversionWarning: A column-vector y was passed when a 1d array was expected. Please change the shape of y to (n_samples, ), for example using ravel().\n",
      "  y = column_or_1d(y, warn=True)\n"
     ]
    },
    {
     "name": "stdout",
     "output_type": "stream",
     "text": [
      "0.021249195106245976\n"
     ]
    },
    {
     "name": "stderr",
     "output_type": "stream",
     "text": [
      "C:\\Users\\sonu kumar\\anaconda3\\lib\\site-packages\\sklearn\\linear_model\\_logistic.py:814: ConvergenceWarning: lbfgs failed to converge (status=1):\n",
      "STOP: TOTAL NO. of ITERATIONS REACHED LIMIT.\n",
      "\n",
      "Increase the number of iterations (max_iter) or scale the data as shown in:\n",
      "    https://scikit-learn.org/stable/modules/preprocessing.html\n",
      "Please also refer to the documentation for alternative solver options:\n",
      "    https://scikit-learn.org/stable/modules/linear_model.html#logistic-regression\n",
      "  n_iter_i = _check_optimize_result(\n"
     ]
    }
   ],
   "source": [
    "from sklearn.linear_model import LogisticRegression\n",
    "from sklearn import preprocessing\n",
    "from sklearn import utils\n",
    "\n",
    "#convert y values to categorical values\n",
    "\n",
    "lab = preprocessing.LabelEncoder()\n",
    "y_t = lab.fit_transform(y)\n",
    "\n",
    "\n",
    "clf5 = LogisticRegression(random_state=0).fit(X, y_t)\n",
    "\n",
    "reg_score=clf5.score(X, y_t)\n",
    "print(reg_score)"
   ]
  },
  {
   "cell_type": "code",
   "execution_count": null,
   "id": "4629a50b",
   "metadata": {},
   "outputs": [],
   "source": []
  }
 ],
 "metadata": {
  "kernelspec": {
   "display_name": "Python 3 (ipykernel)",
   "language": "python",
   "name": "python3"
  },
  "language_info": {
   "codemirror_mode": {
    "name": "ipython",
    "version": 3
   },
   "file_extension": ".py",
   "mimetype": "text/x-python",
   "name": "python",
   "nbconvert_exporter": "python",
   "pygments_lexer": "ipython3",
   "version": "3.9.12"
  }
 },
 "nbformat": 4,
 "nbformat_minor": 5
}
