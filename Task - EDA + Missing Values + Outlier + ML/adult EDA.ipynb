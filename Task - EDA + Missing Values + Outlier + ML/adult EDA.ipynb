{
 "cells": [
  {
   "cell_type": "markdown",
   "id": "cf08af81",
   "metadata": {},
   "source": [
    "# Exploratory Data Analysis:"
   ]
  },
  {
   "cell_type": "markdown",
   "id": "a07bb0a6",
   "metadata": {},
   "source": [
    "\n",
    "# Adult.csv"
   ]
  },
  {
   "cell_type": "markdown",
   "id": "fb4e2b1e",
   "metadata": {},
   "source": [
    "# Introduction :\n",
    "The US Adult Census dataset is a repository of 48,842 entries extracted from the 1994 US Census database. \n",
    "\n",
    "\n",
    "## Data Description :\n",
    "\n",
    "The Dataset \n",
    "The Census Income dataset has 48,842 entries. Each entry contains the following information about an individual:\n",
    "- age\n",
    "- workclass\n",
    "- fnlwgt: final weight. \n",
    "- education\n",
    "- education-num\n",
    "- marital-status: marital status of an individual.  \n",
    "- occupation\n",
    "- relationship\n",
    "- race\n",
    "- capital-gain\n",
    "- capital-loss \n",
    "- hours-per-week \n",
    "- native-country: country of origin for an individual \n",
    "- Income: whether or not an individual makes more than $50,000 annually. ○ <=50k, >50k"
   ]
  },
  {
   "cell_type": "markdown",
   "id": "07dc6053",
   "metadata": {},
   "source": [
    "## Objective:\n",
    "- To import the data and extract basic information\n",
    "- To perform univariate and bivariate analysis and take down observations\n",
    "- Find and treat the outliers and missing values in each column\n",
    "- Perform feature transformation\n",
    "- Build various Machine Learning models considering ‘income’ as target variable.\n",
    "- Create a table to compare the performance of each of the ML Model.\n",
    "- To test the data based on research questions\n",
    "- Make conclusions based on observations"
   ]
  },
  {
   "cell_type": "code",
   "execution_count": 1,
   "id": "8e8e903f",
   "metadata": {},
   "outputs": [],
   "source": [
    "import numpy as np\n",
    "import pandas as pd\n",
    "import matplotlib.pyplot as plt\n",
    "import seaborn as sns"
   ]
  },
  {
   "cell_type": "code",
   "execution_count": 2,
   "id": "af65bcf2",
   "metadata": {},
   "outputs": [],
   "source": [
    "from scipy import stats"
   ]
  },
  {
   "cell_type": "code",
   "execution_count": 3,
   "id": "b911519d",
   "metadata": {},
   "outputs": [],
   "source": [
    "from scipy.stats import norm"
   ]
  },
  {
   "cell_type": "code",
   "execution_count": 4,
   "id": "647f61d5",
   "metadata": {},
   "outputs": [],
   "source": [
    "from sklearn import preprocessing"
   ]
  },
  {
   "cell_type": "code",
   "execution_count": 5,
   "id": "4291832f",
   "metadata": {},
   "outputs": [],
   "source": [
    "import warnings\n",
    "warnings.filterwarnings('ignore')"
   ]
  },
  {
   "cell_type": "code",
   "execution_count": 6,
   "id": "8d7b311f",
   "metadata": {},
   "outputs": [],
   "source": [
    "df = pd.read_csv('adult.csv')"
   ]
  },
  {
   "cell_type": "code",
   "execution_count": 7,
   "id": "279578a0",
   "metadata": {
    "scrolled": false
   },
   "outputs": [
    {
     "data": {
      "text/html": [
       "<div>\n",
       "<style scoped>\n",
       "    .dataframe tbody tr th:only-of-type {\n",
       "        vertical-align: middle;\n",
       "    }\n",
       "\n",
       "    .dataframe tbody tr th {\n",
       "        vertical-align: top;\n",
       "    }\n",
       "\n",
       "    .dataframe thead th {\n",
       "        text-align: right;\n",
       "    }\n",
       "</style>\n",
       "<table border=\"1\" class=\"dataframe\">\n",
       "  <thead>\n",
       "    <tr style=\"text-align: right;\">\n",
       "      <th></th>\n",
       "      <th>age</th>\n",
       "      <th>workclass</th>\n",
       "      <th>fnlwgt</th>\n",
       "      <th>education</th>\n",
       "      <th>educational-num</th>\n",
       "      <th>marital-status</th>\n",
       "      <th>occupation</th>\n",
       "      <th>relationship</th>\n",
       "      <th>race</th>\n",
       "      <th>gender</th>\n",
       "      <th>capital-gain</th>\n",
       "      <th>capital-loss</th>\n",
       "      <th>hours-per-week</th>\n",
       "      <th>native-country</th>\n",
       "      <th>income</th>\n",
       "    </tr>\n",
       "  </thead>\n",
       "  <tbody>\n",
       "    <tr>\n",
       "      <th>0</th>\n",
       "      <td>25</td>\n",
       "      <td>Private</td>\n",
       "      <td>226802</td>\n",
       "      <td>11th</td>\n",
       "      <td>7</td>\n",
       "      <td>Never-married</td>\n",
       "      <td>Machine-op-inspct</td>\n",
       "      <td>Own-child</td>\n",
       "      <td>Black</td>\n",
       "      <td>Male</td>\n",
       "      <td>0</td>\n",
       "      <td>0</td>\n",
       "      <td>40</td>\n",
       "      <td>United-States</td>\n",
       "      <td>&lt;=50K</td>\n",
       "    </tr>\n",
       "    <tr>\n",
       "      <th>1</th>\n",
       "      <td>38</td>\n",
       "      <td>Private</td>\n",
       "      <td>89814</td>\n",
       "      <td>HS-grad</td>\n",
       "      <td>9</td>\n",
       "      <td>Married-civ-spouse</td>\n",
       "      <td>Farming-fishing</td>\n",
       "      <td>Husband</td>\n",
       "      <td>White</td>\n",
       "      <td>Male</td>\n",
       "      <td>0</td>\n",
       "      <td>0</td>\n",
       "      <td>50</td>\n",
       "      <td>United-States</td>\n",
       "      <td>&lt;=50K</td>\n",
       "    </tr>\n",
       "    <tr>\n",
       "      <th>2</th>\n",
       "      <td>28</td>\n",
       "      <td>Local-gov</td>\n",
       "      <td>336951</td>\n",
       "      <td>Assoc-acdm</td>\n",
       "      <td>12</td>\n",
       "      <td>Married-civ-spouse</td>\n",
       "      <td>Protective-serv</td>\n",
       "      <td>Husband</td>\n",
       "      <td>White</td>\n",
       "      <td>Male</td>\n",
       "      <td>0</td>\n",
       "      <td>0</td>\n",
       "      <td>40</td>\n",
       "      <td>United-States</td>\n",
       "      <td>&gt;50K</td>\n",
       "    </tr>\n",
       "    <tr>\n",
       "      <th>3</th>\n",
       "      <td>44</td>\n",
       "      <td>Private</td>\n",
       "      <td>160323</td>\n",
       "      <td>Some-college</td>\n",
       "      <td>10</td>\n",
       "      <td>Married-civ-spouse</td>\n",
       "      <td>Machine-op-inspct</td>\n",
       "      <td>Husband</td>\n",
       "      <td>Black</td>\n",
       "      <td>Male</td>\n",
       "      <td>7688</td>\n",
       "      <td>0</td>\n",
       "      <td>40</td>\n",
       "      <td>United-States</td>\n",
       "      <td>&gt;50K</td>\n",
       "    </tr>\n",
       "    <tr>\n",
       "      <th>4</th>\n",
       "      <td>18</td>\n",
       "      <td>?</td>\n",
       "      <td>103497</td>\n",
       "      <td>Some-college</td>\n",
       "      <td>10</td>\n",
       "      <td>Never-married</td>\n",
       "      <td>?</td>\n",
       "      <td>Own-child</td>\n",
       "      <td>White</td>\n",
       "      <td>Female</td>\n",
       "      <td>0</td>\n",
       "      <td>0</td>\n",
       "      <td>30</td>\n",
       "      <td>United-States</td>\n",
       "      <td>&lt;=50K</td>\n",
       "    </tr>\n",
       "    <tr>\n",
       "      <th>...</th>\n",
       "      <td>...</td>\n",
       "      <td>...</td>\n",
       "      <td>...</td>\n",
       "      <td>...</td>\n",
       "      <td>...</td>\n",
       "      <td>...</td>\n",
       "      <td>...</td>\n",
       "      <td>...</td>\n",
       "      <td>...</td>\n",
       "      <td>...</td>\n",
       "      <td>...</td>\n",
       "      <td>...</td>\n",
       "      <td>...</td>\n",
       "      <td>...</td>\n",
       "      <td>...</td>\n",
       "    </tr>\n",
       "    <tr>\n",
       "      <th>48837</th>\n",
       "      <td>27</td>\n",
       "      <td>Private</td>\n",
       "      <td>257302</td>\n",
       "      <td>Assoc-acdm</td>\n",
       "      <td>12</td>\n",
       "      <td>Married-civ-spouse</td>\n",
       "      <td>Tech-support</td>\n",
       "      <td>Wife</td>\n",
       "      <td>White</td>\n",
       "      <td>Female</td>\n",
       "      <td>0</td>\n",
       "      <td>0</td>\n",
       "      <td>38</td>\n",
       "      <td>United-States</td>\n",
       "      <td>&lt;=50K</td>\n",
       "    </tr>\n",
       "    <tr>\n",
       "      <th>48838</th>\n",
       "      <td>40</td>\n",
       "      <td>Private</td>\n",
       "      <td>154374</td>\n",
       "      <td>HS-grad</td>\n",
       "      <td>9</td>\n",
       "      <td>Married-civ-spouse</td>\n",
       "      <td>Machine-op-inspct</td>\n",
       "      <td>Husband</td>\n",
       "      <td>White</td>\n",
       "      <td>Male</td>\n",
       "      <td>0</td>\n",
       "      <td>0</td>\n",
       "      <td>40</td>\n",
       "      <td>United-States</td>\n",
       "      <td>&gt;50K</td>\n",
       "    </tr>\n",
       "    <tr>\n",
       "      <th>48839</th>\n",
       "      <td>58</td>\n",
       "      <td>Private</td>\n",
       "      <td>151910</td>\n",
       "      <td>HS-grad</td>\n",
       "      <td>9</td>\n",
       "      <td>Widowed</td>\n",
       "      <td>Adm-clerical</td>\n",
       "      <td>Unmarried</td>\n",
       "      <td>White</td>\n",
       "      <td>Female</td>\n",
       "      <td>0</td>\n",
       "      <td>0</td>\n",
       "      <td>40</td>\n",
       "      <td>United-States</td>\n",
       "      <td>&lt;=50K</td>\n",
       "    </tr>\n",
       "    <tr>\n",
       "      <th>48840</th>\n",
       "      <td>22</td>\n",
       "      <td>Private</td>\n",
       "      <td>201490</td>\n",
       "      <td>HS-grad</td>\n",
       "      <td>9</td>\n",
       "      <td>Never-married</td>\n",
       "      <td>Adm-clerical</td>\n",
       "      <td>Own-child</td>\n",
       "      <td>White</td>\n",
       "      <td>Male</td>\n",
       "      <td>0</td>\n",
       "      <td>0</td>\n",
       "      <td>20</td>\n",
       "      <td>United-States</td>\n",
       "      <td>&lt;=50K</td>\n",
       "    </tr>\n",
       "    <tr>\n",
       "      <th>48841</th>\n",
       "      <td>52</td>\n",
       "      <td>Self-emp-inc</td>\n",
       "      <td>287927</td>\n",
       "      <td>HS-grad</td>\n",
       "      <td>9</td>\n",
       "      <td>Married-civ-spouse</td>\n",
       "      <td>Exec-managerial</td>\n",
       "      <td>Wife</td>\n",
       "      <td>White</td>\n",
       "      <td>Female</td>\n",
       "      <td>15024</td>\n",
       "      <td>0</td>\n",
       "      <td>40</td>\n",
       "      <td>United-States</td>\n",
       "      <td>&gt;50K</td>\n",
       "    </tr>\n",
       "  </tbody>\n",
       "</table>\n",
       "<p>48842 rows × 15 columns</p>\n",
       "</div>"
      ],
      "text/plain": [
       "       age     workclass  fnlwgt     education  educational-num  \\\n",
       "0       25       Private  226802          11th                7   \n",
       "1       38       Private   89814       HS-grad                9   \n",
       "2       28     Local-gov  336951    Assoc-acdm               12   \n",
       "3       44       Private  160323  Some-college               10   \n",
       "4       18             ?  103497  Some-college               10   \n",
       "...    ...           ...     ...           ...              ...   \n",
       "48837   27       Private  257302    Assoc-acdm               12   \n",
       "48838   40       Private  154374       HS-grad                9   \n",
       "48839   58       Private  151910       HS-grad                9   \n",
       "48840   22       Private  201490       HS-grad                9   \n",
       "48841   52  Self-emp-inc  287927       HS-grad                9   \n",
       "\n",
       "           marital-status         occupation relationship   race  gender  \\\n",
       "0           Never-married  Machine-op-inspct    Own-child  Black    Male   \n",
       "1      Married-civ-spouse    Farming-fishing      Husband  White    Male   \n",
       "2      Married-civ-spouse    Protective-serv      Husband  White    Male   \n",
       "3      Married-civ-spouse  Machine-op-inspct      Husband  Black    Male   \n",
       "4           Never-married                  ?    Own-child  White  Female   \n",
       "...                   ...                ...          ...    ...     ...   \n",
       "48837  Married-civ-spouse       Tech-support         Wife  White  Female   \n",
       "48838  Married-civ-spouse  Machine-op-inspct      Husband  White    Male   \n",
       "48839             Widowed       Adm-clerical    Unmarried  White  Female   \n",
       "48840       Never-married       Adm-clerical    Own-child  White    Male   \n",
       "48841  Married-civ-spouse    Exec-managerial         Wife  White  Female   \n",
       "\n",
       "       capital-gain  capital-loss  hours-per-week native-country income  \n",
       "0                 0             0              40  United-States  <=50K  \n",
       "1                 0             0              50  United-States  <=50K  \n",
       "2                 0             0              40  United-States   >50K  \n",
       "3              7688             0              40  United-States   >50K  \n",
       "4                 0             0              30  United-States  <=50K  \n",
       "...             ...           ...             ...            ...    ...  \n",
       "48837             0             0              38  United-States  <=50K  \n",
       "48838             0             0              40  United-States   >50K  \n",
       "48839             0             0              40  United-States  <=50K  \n",
       "48840             0             0              20  United-States  <=50K  \n",
       "48841         15024             0              40  United-States   >50K  \n",
       "\n",
       "[48842 rows x 15 columns]"
      ]
     },
     "execution_count": 7,
     "metadata": {},
     "output_type": "execute_result"
    }
   ],
   "source": [
    "df"
   ]
  },
  {
   "cell_type": "code",
   "execution_count": 8,
   "id": "eeb1d240",
   "metadata": {},
   "outputs": [
    {
     "data": {
      "text/plain": [
       "Index(['age', 'workclass', 'fnlwgt', 'education', 'educational-num',\n",
       "       'marital-status', 'occupation', 'relationship', 'race', 'gender',\n",
       "       'capital-gain', 'capital-loss', 'hours-per-week', 'native-country',\n",
       "       'income'],\n",
       "      dtype='object')"
      ]
     },
     "execution_count": 8,
     "metadata": {},
     "output_type": "execute_result"
    }
   ],
   "source": [
    "df.columns"
   ]
  },
  {
   "cell_type": "code",
   "execution_count": 9,
   "id": "7be994ab",
   "metadata": {},
   "outputs": [
    {
     "data": {
      "text/html": [
       "<div>\n",
       "<style scoped>\n",
       "    .dataframe tbody tr th:only-of-type {\n",
       "        vertical-align: middle;\n",
       "    }\n",
       "\n",
       "    .dataframe tbody tr th {\n",
       "        vertical-align: top;\n",
       "    }\n",
       "\n",
       "    .dataframe thead th {\n",
       "        text-align: right;\n",
       "    }\n",
       "</style>\n",
       "<table border=\"1\" class=\"dataframe\">\n",
       "  <thead>\n",
       "    <tr style=\"text-align: right;\">\n",
       "      <th></th>\n",
       "      <th>age</th>\n",
       "      <th>workclass</th>\n",
       "      <th>fnlwgt</th>\n",
       "      <th>education</th>\n",
       "      <th>educational-num</th>\n",
       "      <th>marital-status</th>\n",
       "      <th>occupation</th>\n",
       "      <th>relationship</th>\n",
       "      <th>race</th>\n",
       "      <th>gender</th>\n",
       "      <th>capital-gain</th>\n",
       "      <th>capital-loss</th>\n",
       "      <th>hours-per-week</th>\n",
       "      <th>native-country</th>\n",
       "      <th>income</th>\n",
       "    </tr>\n",
       "  </thead>\n",
       "  <tbody>\n",
       "    <tr>\n",
       "      <th>0</th>\n",
       "      <td>25</td>\n",
       "      <td>Private</td>\n",
       "      <td>226802</td>\n",
       "      <td>11th</td>\n",
       "      <td>7</td>\n",
       "      <td>Never-married</td>\n",
       "      <td>Machine-op-inspct</td>\n",
       "      <td>Own-child</td>\n",
       "      <td>Black</td>\n",
       "      <td>Male</td>\n",
       "      <td>0</td>\n",
       "      <td>0</td>\n",
       "      <td>40</td>\n",
       "      <td>United-States</td>\n",
       "      <td>&lt;=50K</td>\n",
       "    </tr>\n",
       "    <tr>\n",
       "      <th>1</th>\n",
       "      <td>38</td>\n",
       "      <td>Private</td>\n",
       "      <td>89814</td>\n",
       "      <td>HS-grad</td>\n",
       "      <td>9</td>\n",
       "      <td>Married-civ-spouse</td>\n",
       "      <td>Farming-fishing</td>\n",
       "      <td>Husband</td>\n",
       "      <td>White</td>\n",
       "      <td>Male</td>\n",
       "      <td>0</td>\n",
       "      <td>0</td>\n",
       "      <td>50</td>\n",
       "      <td>United-States</td>\n",
       "      <td>&lt;=50K</td>\n",
       "    </tr>\n",
       "    <tr>\n",
       "      <th>2</th>\n",
       "      <td>28</td>\n",
       "      <td>Local-gov</td>\n",
       "      <td>336951</td>\n",
       "      <td>Assoc-acdm</td>\n",
       "      <td>12</td>\n",
       "      <td>Married-civ-spouse</td>\n",
       "      <td>Protective-serv</td>\n",
       "      <td>Husband</td>\n",
       "      <td>White</td>\n",
       "      <td>Male</td>\n",
       "      <td>0</td>\n",
       "      <td>0</td>\n",
       "      <td>40</td>\n",
       "      <td>United-States</td>\n",
       "      <td>&gt;50K</td>\n",
       "    </tr>\n",
       "    <tr>\n",
       "      <th>3</th>\n",
       "      <td>44</td>\n",
       "      <td>Private</td>\n",
       "      <td>160323</td>\n",
       "      <td>Some-college</td>\n",
       "      <td>10</td>\n",
       "      <td>Married-civ-spouse</td>\n",
       "      <td>Machine-op-inspct</td>\n",
       "      <td>Husband</td>\n",
       "      <td>Black</td>\n",
       "      <td>Male</td>\n",
       "      <td>7688</td>\n",
       "      <td>0</td>\n",
       "      <td>40</td>\n",
       "      <td>United-States</td>\n",
       "      <td>&gt;50K</td>\n",
       "    </tr>\n",
       "    <tr>\n",
       "      <th>4</th>\n",
       "      <td>18</td>\n",
       "      <td>?</td>\n",
       "      <td>103497</td>\n",
       "      <td>Some-college</td>\n",
       "      <td>10</td>\n",
       "      <td>Never-married</td>\n",
       "      <td>?</td>\n",
       "      <td>Own-child</td>\n",
       "      <td>White</td>\n",
       "      <td>Female</td>\n",
       "      <td>0</td>\n",
       "      <td>0</td>\n",
       "      <td>30</td>\n",
       "      <td>United-States</td>\n",
       "      <td>&lt;=50K</td>\n",
       "    </tr>\n",
       "  </tbody>\n",
       "</table>\n",
       "</div>"
      ],
      "text/plain": [
       "   age  workclass  fnlwgt     education  educational-num      marital-status  \\\n",
       "0   25    Private  226802          11th                7       Never-married   \n",
       "1   38    Private   89814       HS-grad                9  Married-civ-spouse   \n",
       "2   28  Local-gov  336951    Assoc-acdm               12  Married-civ-spouse   \n",
       "3   44    Private  160323  Some-college               10  Married-civ-spouse   \n",
       "4   18          ?  103497  Some-college               10       Never-married   \n",
       "\n",
       "          occupation relationship   race  gender  capital-gain  capital-loss  \\\n",
       "0  Machine-op-inspct    Own-child  Black    Male             0             0   \n",
       "1    Farming-fishing      Husband  White    Male             0             0   \n",
       "2    Protective-serv      Husband  White    Male             0             0   \n",
       "3  Machine-op-inspct      Husband  Black    Male          7688             0   \n",
       "4                  ?    Own-child  White  Female             0             0   \n",
       "\n",
       "   hours-per-week native-country income  \n",
       "0              40  United-States  <=50K  \n",
       "1              50  United-States  <=50K  \n",
       "2              40  United-States   >50K  \n",
       "3              40  United-States   >50K  \n",
       "4              30  United-States  <=50K  "
      ]
     },
     "execution_count": 9,
     "metadata": {},
     "output_type": "execute_result"
    }
   ],
   "source": [
    "df.head()"
   ]
  },
  {
   "cell_type": "code",
   "execution_count": 10,
   "id": "c7db14a9",
   "metadata": {
    "scrolled": true
   },
   "outputs": [
    {
     "data": {
      "text/html": [
       "<div>\n",
       "<style scoped>\n",
       "    .dataframe tbody tr th:only-of-type {\n",
       "        vertical-align: middle;\n",
       "    }\n",
       "\n",
       "    .dataframe tbody tr th {\n",
       "        vertical-align: top;\n",
       "    }\n",
       "\n",
       "    .dataframe thead th {\n",
       "        text-align: right;\n",
       "    }\n",
       "</style>\n",
       "<table border=\"1\" class=\"dataframe\">\n",
       "  <thead>\n",
       "    <tr style=\"text-align: right;\">\n",
       "      <th></th>\n",
       "      <th>age</th>\n",
       "      <th>workclass</th>\n",
       "      <th>fnlwgt</th>\n",
       "      <th>education</th>\n",
       "      <th>educational-num</th>\n",
       "      <th>marital-status</th>\n",
       "      <th>occupation</th>\n",
       "      <th>relationship</th>\n",
       "      <th>race</th>\n",
       "      <th>gender</th>\n",
       "      <th>capital-gain</th>\n",
       "      <th>capital-loss</th>\n",
       "      <th>hours-per-week</th>\n",
       "      <th>native-country</th>\n",
       "      <th>income</th>\n",
       "    </tr>\n",
       "  </thead>\n",
       "  <tbody>\n",
       "    <tr>\n",
       "      <th>48837</th>\n",
       "      <td>27</td>\n",
       "      <td>Private</td>\n",
       "      <td>257302</td>\n",
       "      <td>Assoc-acdm</td>\n",
       "      <td>12</td>\n",
       "      <td>Married-civ-spouse</td>\n",
       "      <td>Tech-support</td>\n",
       "      <td>Wife</td>\n",
       "      <td>White</td>\n",
       "      <td>Female</td>\n",
       "      <td>0</td>\n",
       "      <td>0</td>\n",
       "      <td>38</td>\n",
       "      <td>United-States</td>\n",
       "      <td>&lt;=50K</td>\n",
       "    </tr>\n",
       "    <tr>\n",
       "      <th>48838</th>\n",
       "      <td>40</td>\n",
       "      <td>Private</td>\n",
       "      <td>154374</td>\n",
       "      <td>HS-grad</td>\n",
       "      <td>9</td>\n",
       "      <td>Married-civ-spouse</td>\n",
       "      <td>Machine-op-inspct</td>\n",
       "      <td>Husband</td>\n",
       "      <td>White</td>\n",
       "      <td>Male</td>\n",
       "      <td>0</td>\n",
       "      <td>0</td>\n",
       "      <td>40</td>\n",
       "      <td>United-States</td>\n",
       "      <td>&gt;50K</td>\n",
       "    </tr>\n",
       "    <tr>\n",
       "      <th>48839</th>\n",
       "      <td>58</td>\n",
       "      <td>Private</td>\n",
       "      <td>151910</td>\n",
       "      <td>HS-grad</td>\n",
       "      <td>9</td>\n",
       "      <td>Widowed</td>\n",
       "      <td>Adm-clerical</td>\n",
       "      <td>Unmarried</td>\n",
       "      <td>White</td>\n",
       "      <td>Female</td>\n",
       "      <td>0</td>\n",
       "      <td>0</td>\n",
       "      <td>40</td>\n",
       "      <td>United-States</td>\n",
       "      <td>&lt;=50K</td>\n",
       "    </tr>\n",
       "    <tr>\n",
       "      <th>48840</th>\n",
       "      <td>22</td>\n",
       "      <td>Private</td>\n",
       "      <td>201490</td>\n",
       "      <td>HS-grad</td>\n",
       "      <td>9</td>\n",
       "      <td>Never-married</td>\n",
       "      <td>Adm-clerical</td>\n",
       "      <td>Own-child</td>\n",
       "      <td>White</td>\n",
       "      <td>Male</td>\n",
       "      <td>0</td>\n",
       "      <td>0</td>\n",
       "      <td>20</td>\n",
       "      <td>United-States</td>\n",
       "      <td>&lt;=50K</td>\n",
       "    </tr>\n",
       "    <tr>\n",
       "      <th>48841</th>\n",
       "      <td>52</td>\n",
       "      <td>Self-emp-inc</td>\n",
       "      <td>287927</td>\n",
       "      <td>HS-grad</td>\n",
       "      <td>9</td>\n",
       "      <td>Married-civ-spouse</td>\n",
       "      <td>Exec-managerial</td>\n",
       "      <td>Wife</td>\n",
       "      <td>White</td>\n",
       "      <td>Female</td>\n",
       "      <td>15024</td>\n",
       "      <td>0</td>\n",
       "      <td>40</td>\n",
       "      <td>United-States</td>\n",
       "      <td>&gt;50K</td>\n",
       "    </tr>\n",
       "  </tbody>\n",
       "</table>\n",
       "</div>"
      ],
      "text/plain": [
       "       age     workclass  fnlwgt   education  educational-num  \\\n",
       "48837   27       Private  257302  Assoc-acdm               12   \n",
       "48838   40       Private  154374     HS-grad                9   \n",
       "48839   58       Private  151910     HS-grad                9   \n",
       "48840   22       Private  201490     HS-grad                9   \n",
       "48841   52  Self-emp-inc  287927     HS-grad                9   \n",
       "\n",
       "           marital-status         occupation relationship   race  gender  \\\n",
       "48837  Married-civ-spouse       Tech-support         Wife  White  Female   \n",
       "48838  Married-civ-spouse  Machine-op-inspct      Husband  White    Male   \n",
       "48839             Widowed       Adm-clerical    Unmarried  White  Female   \n",
       "48840       Never-married       Adm-clerical    Own-child  White    Male   \n",
       "48841  Married-civ-spouse    Exec-managerial         Wife  White  Female   \n",
       "\n",
       "       capital-gain  capital-loss  hours-per-week native-country income  \n",
       "48837             0             0              38  United-States  <=50K  \n",
       "48838             0             0              40  United-States   >50K  \n",
       "48839             0             0              40  United-States  <=50K  \n",
       "48840             0             0              20  United-States  <=50K  \n",
       "48841         15024             0              40  United-States   >50K  "
      ]
     },
     "execution_count": 10,
     "metadata": {},
     "output_type": "execute_result"
    }
   ],
   "source": [
    "df.tail()"
   ]
  },
  {
   "cell_type": "code",
   "execution_count": 11,
   "id": "9a8ba44a",
   "metadata": {},
   "outputs": [
    {
     "data": {
      "text/html": [
       "<div>\n",
       "<style scoped>\n",
       "    .dataframe tbody tr th:only-of-type {\n",
       "        vertical-align: middle;\n",
       "    }\n",
       "\n",
       "    .dataframe tbody tr th {\n",
       "        vertical-align: top;\n",
       "    }\n",
       "\n",
       "    .dataframe thead th {\n",
       "        text-align: right;\n",
       "    }\n",
       "</style>\n",
       "<table border=\"1\" class=\"dataframe\">\n",
       "  <thead>\n",
       "    <tr style=\"text-align: right;\">\n",
       "      <th></th>\n",
       "      <th>age</th>\n",
       "      <th>workclass</th>\n",
       "      <th>fnlwgt</th>\n",
       "      <th>education</th>\n",
       "      <th>educational-num</th>\n",
       "      <th>marital-status</th>\n",
       "      <th>occupation</th>\n",
       "      <th>relationship</th>\n",
       "      <th>race</th>\n",
       "      <th>gender</th>\n",
       "      <th>capital-gain</th>\n",
       "      <th>capital-loss</th>\n",
       "      <th>hours-per-week</th>\n",
       "      <th>native-country</th>\n",
       "      <th>income</th>\n",
       "    </tr>\n",
       "  </thead>\n",
       "  <tbody>\n",
       "    <tr>\n",
       "      <th>count</th>\n",
       "      <td>48842.000000</td>\n",
       "      <td>48842</td>\n",
       "      <td>4.884200e+04</td>\n",
       "      <td>48842</td>\n",
       "      <td>48842.000000</td>\n",
       "      <td>48842</td>\n",
       "      <td>48842</td>\n",
       "      <td>48842</td>\n",
       "      <td>48842</td>\n",
       "      <td>48842</td>\n",
       "      <td>48842.000000</td>\n",
       "      <td>48842.000000</td>\n",
       "      <td>48842.000000</td>\n",
       "      <td>48842</td>\n",
       "      <td>48842</td>\n",
       "    </tr>\n",
       "    <tr>\n",
       "      <th>unique</th>\n",
       "      <td>NaN</td>\n",
       "      <td>9</td>\n",
       "      <td>NaN</td>\n",
       "      <td>16</td>\n",
       "      <td>NaN</td>\n",
       "      <td>7</td>\n",
       "      <td>15</td>\n",
       "      <td>6</td>\n",
       "      <td>5</td>\n",
       "      <td>2</td>\n",
       "      <td>NaN</td>\n",
       "      <td>NaN</td>\n",
       "      <td>NaN</td>\n",
       "      <td>42</td>\n",
       "      <td>2</td>\n",
       "    </tr>\n",
       "    <tr>\n",
       "      <th>top</th>\n",
       "      <td>NaN</td>\n",
       "      <td>Private</td>\n",
       "      <td>NaN</td>\n",
       "      <td>HS-grad</td>\n",
       "      <td>NaN</td>\n",
       "      <td>Married-civ-spouse</td>\n",
       "      <td>Prof-specialty</td>\n",
       "      <td>Husband</td>\n",
       "      <td>White</td>\n",
       "      <td>Male</td>\n",
       "      <td>NaN</td>\n",
       "      <td>NaN</td>\n",
       "      <td>NaN</td>\n",
       "      <td>United-States</td>\n",
       "      <td>&lt;=50K</td>\n",
       "    </tr>\n",
       "    <tr>\n",
       "      <th>freq</th>\n",
       "      <td>NaN</td>\n",
       "      <td>33906</td>\n",
       "      <td>NaN</td>\n",
       "      <td>15784</td>\n",
       "      <td>NaN</td>\n",
       "      <td>22379</td>\n",
       "      <td>6172</td>\n",
       "      <td>19716</td>\n",
       "      <td>41762</td>\n",
       "      <td>32650</td>\n",
       "      <td>NaN</td>\n",
       "      <td>NaN</td>\n",
       "      <td>NaN</td>\n",
       "      <td>43832</td>\n",
       "      <td>37155</td>\n",
       "    </tr>\n",
       "    <tr>\n",
       "      <th>mean</th>\n",
       "      <td>38.643585</td>\n",
       "      <td>NaN</td>\n",
       "      <td>1.896641e+05</td>\n",
       "      <td>NaN</td>\n",
       "      <td>10.078089</td>\n",
       "      <td>NaN</td>\n",
       "      <td>NaN</td>\n",
       "      <td>NaN</td>\n",
       "      <td>NaN</td>\n",
       "      <td>NaN</td>\n",
       "      <td>1079.067626</td>\n",
       "      <td>87.502314</td>\n",
       "      <td>40.422382</td>\n",
       "      <td>NaN</td>\n",
       "      <td>NaN</td>\n",
       "    </tr>\n",
       "    <tr>\n",
       "      <th>std</th>\n",
       "      <td>13.710510</td>\n",
       "      <td>NaN</td>\n",
       "      <td>1.056040e+05</td>\n",
       "      <td>NaN</td>\n",
       "      <td>2.570973</td>\n",
       "      <td>NaN</td>\n",
       "      <td>NaN</td>\n",
       "      <td>NaN</td>\n",
       "      <td>NaN</td>\n",
       "      <td>NaN</td>\n",
       "      <td>7452.019058</td>\n",
       "      <td>403.004552</td>\n",
       "      <td>12.391444</td>\n",
       "      <td>NaN</td>\n",
       "      <td>NaN</td>\n",
       "    </tr>\n",
       "    <tr>\n",
       "      <th>min</th>\n",
       "      <td>17.000000</td>\n",
       "      <td>NaN</td>\n",
       "      <td>1.228500e+04</td>\n",
       "      <td>NaN</td>\n",
       "      <td>1.000000</td>\n",
       "      <td>NaN</td>\n",
       "      <td>NaN</td>\n",
       "      <td>NaN</td>\n",
       "      <td>NaN</td>\n",
       "      <td>NaN</td>\n",
       "      <td>0.000000</td>\n",
       "      <td>0.000000</td>\n",
       "      <td>1.000000</td>\n",
       "      <td>NaN</td>\n",
       "      <td>NaN</td>\n",
       "    </tr>\n",
       "    <tr>\n",
       "      <th>25%</th>\n",
       "      <td>28.000000</td>\n",
       "      <td>NaN</td>\n",
       "      <td>1.175505e+05</td>\n",
       "      <td>NaN</td>\n",
       "      <td>9.000000</td>\n",
       "      <td>NaN</td>\n",
       "      <td>NaN</td>\n",
       "      <td>NaN</td>\n",
       "      <td>NaN</td>\n",
       "      <td>NaN</td>\n",
       "      <td>0.000000</td>\n",
       "      <td>0.000000</td>\n",
       "      <td>40.000000</td>\n",
       "      <td>NaN</td>\n",
       "      <td>NaN</td>\n",
       "    </tr>\n",
       "    <tr>\n",
       "      <th>50%</th>\n",
       "      <td>37.000000</td>\n",
       "      <td>NaN</td>\n",
       "      <td>1.781445e+05</td>\n",
       "      <td>NaN</td>\n",
       "      <td>10.000000</td>\n",
       "      <td>NaN</td>\n",
       "      <td>NaN</td>\n",
       "      <td>NaN</td>\n",
       "      <td>NaN</td>\n",
       "      <td>NaN</td>\n",
       "      <td>0.000000</td>\n",
       "      <td>0.000000</td>\n",
       "      <td>40.000000</td>\n",
       "      <td>NaN</td>\n",
       "      <td>NaN</td>\n",
       "    </tr>\n",
       "    <tr>\n",
       "      <th>75%</th>\n",
       "      <td>48.000000</td>\n",
       "      <td>NaN</td>\n",
       "      <td>2.376420e+05</td>\n",
       "      <td>NaN</td>\n",
       "      <td>12.000000</td>\n",
       "      <td>NaN</td>\n",
       "      <td>NaN</td>\n",
       "      <td>NaN</td>\n",
       "      <td>NaN</td>\n",
       "      <td>NaN</td>\n",
       "      <td>0.000000</td>\n",
       "      <td>0.000000</td>\n",
       "      <td>45.000000</td>\n",
       "      <td>NaN</td>\n",
       "      <td>NaN</td>\n",
       "    </tr>\n",
       "    <tr>\n",
       "      <th>max</th>\n",
       "      <td>90.000000</td>\n",
       "      <td>NaN</td>\n",
       "      <td>1.490400e+06</td>\n",
       "      <td>NaN</td>\n",
       "      <td>16.000000</td>\n",
       "      <td>NaN</td>\n",
       "      <td>NaN</td>\n",
       "      <td>NaN</td>\n",
       "      <td>NaN</td>\n",
       "      <td>NaN</td>\n",
       "      <td>99999.000000</td>\n",
       "      <td>4356.000000</td>\n",
       "      <td>99.000000</td>\n",
       "      <td>NaN</td>\n",
       "      <td>NaN</td>\n",
       "    </tr>\n",
       "  </tbody>\n",
       "</table>\n",
       "</div>"
      ],
      "text/plain": [
       "                 age workclass        fnlwgt education  educational-num  \\\n",
       "count   48842.000000     48842  4.884200e+04     48842     48842.000000   \n",
       "unique           NaN         9           NaN        16              NaN   \n",
       "top              NaN   Private           NaN   HS-grad              NaN   \n",
       "freq             NaN     33906           NaN     15784              NaN   \n",
       "mean       38.643585       NaN  1.896641e+05       NaN        10.078089   \n",
       "std        13.710510       NaN  1.056040e+05       NaN         2.570973   \n",
       "min        17.000000       NaN  1.228500e+04       NaN         1.000000   \n",
       "25%        28.000000       NaN  1.175505e+05       NaN         9.000000   \n",
       "50%        37.000000       NaN  1.781445e+05       NaN        10.000000   \n",
       "75%        48.000000       NaN  2.376420e+05       NaN        12.000000   \n",
       "max        90.000000       NaN  1.490400e+06       NaN        16.000000   \n",
       "\n",
       "            marital-status      occupation relationship   race gender  \\\n",
       "count                48842           48842        48842  48842  48842   \n",
       "unique                   7              15            6      5      2   \n",
       "top     Married-civ-spouse  Prof-specialty      Husband  White   Male   \n",
       "freq                 22379            6172        19716  41762  32650   \n",
       "mean                   NaN             NaN          NaN    NaN    NaN   \n",
       "std                    NaN             NaN          NaN    NaN    NaN   \n",
       "min                    NaN             NaN          NaN    NaN    NaN   \n",
       "25%                    NaN             NaN          NaN    NaN    NaN   \n",
       "50%                    NaN             NaN          NaN    NaN    NaN   \n",
       "75%                    NaN             NaN          NaN    NaN    NaN   \n",
       "max                    NaN             NaN          NaN    NaN    NaN   \n",
       "\n",
       "        capital-gain  capital-loss  hours-per-week native-country income  \n",
       "count   48842.000000  48842.000000    48842.000000          48842  48842  \n",
       "unique           NaN           NaN             NaN             42      2  \n",
       "top              NaN           NaN             NaN  United-States  <=50K  \n",
       "freq             NaN           NaN             NaN          43832  37155  \n",
       "mean     1079.067626     87.502314       40.422382            NaN    NaN  \n",
       "std      7452.019058    403.004552       12.391444            NaN    NaN  \n",
       "min         0.000000      0.000000        1.000000            NaN    NaN  \n",
       "25%         0.000000      0.000000       40.000000            NaN    NaN  \n",
       "50%         0.000000      0.000000       40.000000            NaN    NaN  \n",
       "75%         0.000000      0.000000       45.000000            NaN    NaN  \n",
       "max     99999.000000   4356.000000       99.000000            NaN    NaN  "
      ]
     },
     "execution_count": 11,
     "metadata": {},
     "output_type": "execute_result"
    }
   ],
   "source": [
    "df.describe(include='all')"
   ]
  },
  {
   "cell_type": "code",
   "execution_count": 12,
   "id": "37405dbe",
   "metadata": {},
   "outputs": [
    {
     "data": {
      "text/plain": [
       "(48842, 15)"
      ]
     },
     "execution_count": 12,
     "metadata": {},
     "output_type": "execute_result"
    }
   ],
   "source": [
    "df.shape"
   ]
  },
  {
   "cell_type": "code",
   "execution_count": 13,
   "id": "b43775f2",
   "metadata": {
    "scrolled": false
   },
   "outputs": [
    {
     "name": "stdout",
     "output_type": "stream",
     "text": [
      "<class 'pandas.core.frame.DataFrame'>\n",
      "RangeIndex: 48842 entries, 0 to 48841\n",
      "Data columns (total 15 columns):\n",
      " #   Column           Non-Null Count  Dtype \n",
      "---  ------           --------------  ----- \n",
      " 0   age              48842 non-null  int64 \n",
      " 1   workclass        48842 non-null  object\n",
      " 2   fnlwgt           48842 non-null  int64 \n",
      " 3   education        48842 non-null  object\n",
      " 4   educational-num  48842 non-null  int64 \n",
      " 5   marital-status   48842 non-null  object\n",
      " 6   occupation       48842 non-null  object\n",
      " 7   relationship     48842 non-null  object\n",
      " 8   race             48842 non-null  object\n",
      " 9   gender           48842 non-null  object\n",
      " 10  capital-gain     48842 non-null  int64 \n",
      " 11  capital-loss     48842 non-null  int64 \n",
      " 12  hours-per-week   48842 non-null  int64 \n",
      " 13  native-country   48842 non-null  object\n",
      " 14  income           48842 non-null  object\n",
      "dtypes: int64(6), object(9)\n",
      "memory usage: 5.6+ MB\n"
     ]
    }
   ],
   "source": [
    "df.info()"
   ]
  },
  {
   "cell_type": "code",
   "execution_count": 18,
   "id": "882337ea",
   "metadata": {},
   "outputs": [
    {
     "data": {
      "text/plain": [
       "age                    38.643585\n",
       "fnlwgt             189664.134597\n",
       "educational-num        10.078089\n",
       "capital-gain         1079.067626\n",
       "capital-loss           87.502314\n",
       "hours-per-week         40.422382\n",
       "dtype: float64"
      ]
     },
     "execution_count": 18,
     "metadata": {},
     "output_type": "execute_result"
    }
   ],
   "source": [
    "df.mean()"
   ]
  },
  {
   "cell_type": "code",
   "execution_count": 15,
   "id": "cebbc53f",
   "metadata": {},
   "outputs": [
    {
     "data": {
      "text/plain": [
       "age                   74\n",
       "workclass              9\n",
       "fnlwgt             28523\n",
       "education             16\n",
       "educational-num       16\n",
       "marital-status         7\n",
       "occupation            15\n",
       "relationship           6\n",
       "race                   5\n",
       "gender                 2\n",
       "capital-gain         123\n",
       "capital-loss          99\n",
       "hours-per-week        96\n",
       "native-country        42\n",
       "income                 2\n",
       "dtype: int64"
      ]
     },
     "execution_count": 15,
     "metadata": {},
     "output_type": "execute_result"
    }
   ],
   "source": [
    "df.nunique()"
   ]
  },
  {
   "cell_type": "code",
   "execution_count": 21,
   "id": "68dddfe6",
   "metadata": {},
   "outputs": [
    {
     "data": {
      "text/html": [
       "<div>\n",
       "<style scoped>\n",
       "    .dataframe tbody tr th:only-of-type {\n",
       "        vertical-align: middle;\n",
       "    }\n",
       "\n",
       "    .dataframe tbody tr th {\n",
       "        vertical-align: top;\n",
       "    }\n",
       "\n",
       "    .dataframe thead th {\n",
       "        text-align: right;\n",
       "    }\n",
       "</style>\n",
       "<table border=\"1\" class=\"dataframe\">\n",
       "  <thead>\n",
       "    <tr style=\"text-align: right;\">\n",
       "      <th></th>\n",
       "      <th>age</th>\n",
       "      <th>workclass</th>\n",
       "      <th>fnlwgt</th>\n",
       "      <th>education</th>\n",
       "      <th>educational-num</th>\n",
       "      <th>marital-status</th>\n",
       "      <th>relationship</th>\n",
       "      <th>race</th>\n",
       "      <th>gender</th>\n",
       "      <th>capital-gain</th>\n",
       "      <th>capital-loss</th>\n",
       "      <th>hours-per-week</th>\n",
       "      <th>native-country</th>\n",
       "      <th>income</th>\n",
       "    </tr>\n",
       "    <tr>\n",
       "      <th>occupation</th>\n",
       "      <th></th>\n",
       "      <th></th>\n",
       "      <th></th>\n",
       "      <th></th>\n",
       "      <th></th>\n",
       "      <th></th>\n",
       "      <th></th>\n",
       "      <th></th>\n",
       "      <th></th>\n",
       "      <th></th>\n",
       "      <th></th>\n",
       "      <th></th>\n",
       "      <th></th>\n",
       "      <th></th>\n",
       "    </tr>\n",
       "  </thead>\n",
       "  <tbody>\n",
       "    <tr>\n",
       "      <th>?</th>\n",
       "      <td>2809</td>\n",
       "      <td>2809</td>\n",
       "      <td>2809</td>\n",
       "      <td>2809</td>\n",
       "      <td>2809</td>\n",
       "      <td>2809</td>\n",
       "      <td>2809</td>\n",
       "      <td>2809</td>\n",
       "      <td>2809</td>\n",
       "      <td>2809</td>\n",
       "      <td>2809</td>\n",
       "      <td>2809</td>\n",
       "      <td>2809</td>\n",
       "      <td>2809</td>\n",
       "    </tr>\n",
       "    <tr>\n",
       "      <th>Adm-clerical</th>\n",
       "      <td>5611</td>\n",
       "      <td>5611</td>\n",
       "      <td>5611</td>\n",
       "      <td>5611</td>\n",
       "      <td>5611</td>\n",
       "      <td>5611</td>\n",
       "      <td>5611</td>\n",
       "      <td>5611</td>\n",
       "      <td>5611</td>\n",
       "      <td>5611</td>\n",
       "      <td>5611</td>\n",
       "      <td>5611</td>\n",
       "      <td>5611</td>\n",
       "      <td>5611</td>\n",
       "    </tr>\n",
       "    <tr>\n",
       "      <th>Armed-Forces</th>\n",
       "      <td>15</td>\n",
       "      <td>15</td>\n",
       "      <td>15</td>\n",
       "      <td>15</td>\n",
       "      <td>15</td>\n",
       "      <td>15</td>\n",
       "      <td>15</td>\n",
       "      <td>15</td>\n",
       "      <td>15</td>\n",
       "      <td>15</td>\n",
       "      <td>15</td>\n",
       "      <td>15</td>\n",
       "      <td>15</td>\n",
       "      <td>15</td>\n",
       "    </tr>\n",
       "    <tr>\n",
       "      <th>Craft-repair</th>\n",
       "      <td>6112</td>\n",
       "      <td>6112</td>\n",
       "      <td>6112</td>\n",
       "      <td>6112</td>\n",
       "      <td>6112</td>\n",
       "      <td>6112</td>\n",
       "      <td>6112</td>\n",
       "      <td>6112</td>\n",
       "      <td>6112</td>\n",
       "      <td>6112</td>\n",
       "      <td>6112</td>\n",
       "      <td>6112</td>\n",
       "      <td>6112</td>\n",
       "      <td>6112</td>\n",
       "    </tr>\n",
       "    <tr>\n",
       "      <th>Exec-managerial</th>\n",
       "      <td>6086</td>\n",
       "      <td>6086</td>\n",
       "      <td>6086</td>\n",
       "      <td>6086</td>\n",
       "      <td>6086</td>\n",
       "      <td>6086</td>\n",
       "      <td>6086</td>\n",
       "      <td>6086</td>\n",
       "      <td>6086</td>\n",
       "      <td>6086</td>\n",
       "      <td>6086</td>\n",
       "      <td>6086</td>\n",
       "      <td>6086</td>\n",
       "      <td>6086</td>\n",
       "    </tr>\n",
       "    <tr>\n",
       "      <th>Farming-fishing</th>\n",
       "      <td>1490</td>\n",
       "      <td>1490</td>\n",
       "      <td>1490</td>\n",
       "      <td>1490</td>\n",
       "      <td>1490</td>\n",
       "      <td>1490</td>\n",
       "      <td>1490</td>\n",
       "      <td>1490</td>\n",
       "      <td>1490</td>\n",
       "      <td>1490</td>\n",
       "      <td>1490</td>\n",
       "      <td>1490</td>\n",
       "      <td>1490</td>\n",
       "      <td>1490</td>\n",
       "    </tr>\n",
       "    <tr>\n",
       "      <th>Handlers-cleaners</th>\n",
       "      <td>2072</td>\n",
       "      <td>2072</td>\n",
       "      <td>2072</td>\n",
       "      <td>2072</td>\n",
       "      <td>2072</td>\n",
       "      <td>2072</td>\n",
       "      <td>2072</td>\n",
       "      <td>2072</td>\n",
       "      <td>2072</td>\n",
       "      <td>2072</td>\n",
       "      <td>2072</td>\n",
       "      <td>2072</td>\n",
       "      <td>2072</td>\n",
       "      <td>2072</td>\n",
       "    </tr>\n",
       "    <tr>\n",
       "      <th>Machine-op-inspct</th>\n",
       "      <td>3022</td>\n",
       "      <td>3022</td>\n",
       "      <td>3022</td>\n",
       "      <td>3022</td>\n",
       "      <td>3022</td>\n",
       "      <td>3022</td>\n",
       "      <td>3022</td>\n",
       "      <td>3022</td>\n",
       "      <td>3022</td>\n",
       "      <td>3022</td>\n",
       "      <td>3022</td>\n",
       "      <td>3022</td>\n",
       "      <td>3022</td>\n",
       "      <td>3022</td>\n",
       "    </tr>\n",
       "    <tr>\n",
       "      <th>Other-service</th>\n",
       "      <td>4923</td>\n",
       "      <td>4923</td>\n",
       "      <td>4923</td>\n",
       "      <td>4923</td>\n",
       "      <td>4923</td>\n",
       "      <td>4923</td>\n",
       "      <td>4923</td>\n",
       "      <td>4923</td>\n",
       "      <td>4923</td>\n",
       "      <td>4923</td>\n",
       "      <td>4923</td>\n",
       "      <td>4923</td>\n",
       "      <td>4923</td>\n",
       "      <td>4923</td>\n",
       "    </tr>\n",
       "    <tr>\n",
       "      <th>Priv-house-serv</th>\n",
       "      <td>242</td>\n",
       "      <td>242</td>\n",
       "      <td>242</td>\n",
       "      <td>242</td>\n",
       "      <td>242</td>\n",
       "      <td>242</td>\n",
       "      <td>242</td>\n",
       "      <td>242</td>\n",
       "      <td>242</td>\n",
       "      <td>242</td>\n",
       "      <td>242</td>\n",
       "      <td>242</td>\n",
       "      <td>242</td>\n",
       "      <td>242</td>\n",
       "    </tr>\n",
       "    <tr>\n",
       "      <th>Prof-specialty</th>\n",
       "      <td>6172</td>\n",
       "      <td>6172</td>\n",
       "      <td>6172</td>\n",
       "      <td>6172</td>\n",
       "      <td>6172</td>\n",
       "      <td>6172</td>\n",
       "      <td>6172</td>\n",
       "      <td>6172</td>\n",
       "      <td>6172</td>\n",
       "      <td>6172</td>\n",
       "      <td>6172</td>\n",
       "      <td>6172</td>\n",
       "      <td>6172</td>\n",
       "      <td>6172</td>\n",
       "    </tr>\n",
       "    <tr>\n",
       "      <th>Protective-serv</th>\n",
       "      <td>983</td>\n",
       "      <td>983</td>\n",
       "      <td>983</td>\n",
       "      <td>983</td>\n",
       "      <td>983</td>\n",
       "      <td>983</td>\n",
       "      <td>983</td>\n",
       "      <td>983</td>\n",
       "      <td>983</td>\n",
       "      <td>983</td>\n",
       "      <td>983</td>\n",
       "      <td>983</td>\n",
       "      <td>983</td>\n",
       "      <td>983</td>\n",
       "    </tr>\n",
       "    <tr>\n",
       "      <th>Sales</th>\n",
       "      <td>5504</td>\n",
       "      <td>5504</td>\n",
       "      <td>5504</td>\n",
       "      <td>5504</td>\n",
       "      <td>5504</td>\n",
       "      <td>5504</td>\n",
       "      <td>5504</td>\n",
       "      <td>5504</td>\n",
       "      <td>5504</td>\n",
       "      <td>5504</td>\n",
       "      <td>5504</td>\n",
       "      <td>5504</td>\n",
       "      <td>5504</td>\n",
       "      <td>5504</td>\n",
       "    </tr>\n",
       "    <tr>\n",
       "      <th>Tech-support</th>\n",
       "      <td>1446</td>\n",
       "      <td>1446</td>\n",
       "      <td>1446</td>\n",
       "      <td>1446</td>\n",
       "      <td>1446</td>\n",
       "      <td>1446</td>\n",
       "      <td>1446</td>\n",
       "      <td>1446</td>\n",
       "      <td>1446</td>\n",
       "      <td>1446</td>\n",
       "      <td>1446</td>\n",
       "      <td>1446</td>\n",
       "      <td>1446</td>\n",
       "      <td>1446</td>\n",
       "    </tr>\n",
       "    <tr>\n",
       "      <th>Transport-moving</th>\n",
       "      <td>2355</td>\n",
       "      <td>2355</td>\n",
       "      <td>2355</td>\n",
       "      <td>2355</td>\n",
       "      <td>2355</td>\n",
       "      <td>2355</td>\n",
       "      <td>2355</td>\n",
       "      <td>2355</td>\n",
       "      <td>2355</td>\n",
       "      <td>2355</td>\n",
       "      <td>2355</td>\n",
       "      <td>2355</td>\n",
       "      <td>2355</td>\n",
       "      <td>2355</td>\n",
       "    </tr>\n",
       "  </tbody>\n",
       "</table>\n",
       "</div>"
      ],
      "text/plain": [
       "                    age  workclass  fnlwgt  education  educational-num  \\\n",
       "occupation                                                               \n",
       "?                  2809       2809    2809       2809             2809   \n",
       "Adm-clerical       5611       5611    5611       5611             5611   \n",
       "Armed-Forces         15         15      15         15               15   \n",
       "Craft-repair       6112       6112    6112       6112             6112   \n",
       "Exec-managerial    6086       6086    6086       6086             6086   \n",
       "Farming-fishing    1490       1490    1490       1490             1490   \n",
       "Handlers-cleaners  2072       2072    2072       2072             2072   \n",
       "Machine-op-inspct  3022       3022    3022       3022             3022   \n",
       "Other-service      4923       4923    4923       4923             4923   \n",
       "Priv-house-serv     242        242     242        242              242   \n",
       "Prof-specialty     6172       6172    6172       6172             6172   \n",
       "Protective-serv     983        983     983        983              983   \n",
       "Sales              5504       5504    5504       5504             5504   \n",
       "Tech-support       1446       1446    1446       1446             1446   \n",
       "Transport-moving   2355       2355    2355       2355             2355   \n",
       "\n",
       "                   marital-status  relationship  race  gender  capital-gain  \\\n",
       "occupation                                                                    \n",
       "?                            2809          2809  2809    2809          2809   \n",
       "Adm-clerical                 5611          5611  5611    5611          5611   \n",
       "Armed-Forces                   15            15    15      15            15   \n",
       "Craft-repair                 6112          6112  6112    6112          6112   \n",
       "Exec-managerial              6086          6086  6086    6086          6086   \n",
       "Farming-fishing              1490          1490  1490    1490          1490   \n",
       "Handlers-cleaners            2072          2072  2072    2072          2072   \n",
       "Machine-op-inspct            3022          3022  3022    3022          3022   \n",
       "Other-service                4923          4923  4923    4923          4923   \n",
       "Priv-house-serv               242           242   242     242           242   \n",
       "Prof-specialty               6172          6172  6172    6172          6172   \n",
       "Protective-serv               983           983   983     983           983   \n",
       "Sales                        5504          5504  5504    5504          5504   \n",
       "Tech-support                 1446          1446  1446    1446          1446   \n",
       "Transport-moving             2355          2355  2355    2355          2355   \n",
       "\n",
       "                   capital-loss  hours-per-week  native-country  income  \n",
       "occupation                                                               \n",
       "?                          2809            2809            2809    2809  \n",
       "Adm-clerical               5611            5611            5611    5611  \n",
       "Armed-Forces                 15              15              15      15  \n",
       "Craft-repair               6112            6112            6112    6112  \n",
       "Exec-managerial            6086            6086            6086    6086  \n",
       "Farming-fishing            1490            1490            1490    1490  \n",
       "Handlers-cleaners          2072            2072            2072    2072  \n",
       "Machine-op-inspct          3022            3022            3022    3022  \n",
       "Other-service              4923            4923            4923    4923  \n",
       "Priv-house-serv             242             242             242     242  \n",
       "Prof-specialty             6172            6172            6172    6172  \n",
       "Protective-serv             983             983             983     983  \n",
       "Sales                      5504            5504            5504    5504  \n",
       "Tech-support               1446            1446            1446    1446  \n",
       "Transport-moving           2355            2355            2355    2355  "
      ]
     },
     "execution_count": 21,
     "metadata": {},
     "output_type": "execute_result"
    }
   ],
   "source": [
    "df.groupby(['occupation']).count()"
   ]
  },
  {
   "cell_type": "code",
   "execution_count": 22,
   "id": "0c4d821e",
   "metadata": {},
   "outputs": [
    {
     "data": {
      "text/plain": [
       "United-States                 44689\n",
       "Mexico                          951\n",
       "Philippines                     295\n",
       "Germany                         206\n",
       "Puerto-Rico                     184\n",
       "Canada                          182\n",
       "El-Salvador                     155\n",
       "India                           151\n",
       "Cuba                            138\n",
       "England                         127\n",
       "China                           122\n",
       "South                           115\n",
       "Jamaica                         106\n",
       "Italy                           105\n",
       "Dominican-Republic              103\n",
       "Japan                            92\n",
       "Guatemala                        88\n",
       "Poland                           87\n",
       "Vietnam                          86\n",
       "Columbia                         85\n",
       "Haiti                            75\n",
       "Portugal                         67\n",
       "Taiwan                           65\n",
       "Iran                             59\n",
       "Nicaragua                        49\n",
       "Greece                           49\n",
       "Peru                             46\n",
       "Ecuador                          45\n",
       "France                           38\n",
       "Ireland                          37\n",
       "Thailand                         30\n",
       "Hong                             30\n",
       "Cambodia                         28\n",
       "Trinadad&Tobago                  27\n",
       "Outlying-US(Guam-USVI-etc)       23\n",
       "Laos                             23\n",
       "Yugoslavia                       23\n",
       "Scotland                         21\n",
       "Honduras                         20\n",
       "Hungary                          19\n",
       "Holand-Netherlands                1\n",
       "Name: native-country, dtype: int64"
      ]
     },
     "execution_count": 22,
     "metadata": {},
     "output_type": "execute_result"
    }
   ],
   "source": [
    "df['native-country'].value_counts()"
   ]
  },
  {
   "cell_type": "code",
   "execution_count": 23,
   "id": "78eba43d",
   "metadata": {},
   "outputs": [
    {
     "data": {
      "text/plain": [
       "<=50K    37155\n",
       ">50K     11687\n",
       "Name: income, dtype: int64"
      ]
     },
     "execution_count": 23,
     "metadata": {},
     "output_type": "execute_result"
    }
   ],
   "source": [
    "df['income'].value_counts()"
   ]
  },
  {
   "cell_type": "code",
   "execution_count": 24,
   "id": "8273fcaa",
   "metadata": {},
   "outputs": [
    {
     "data": {
      "text/plain": [
       "Prof-specialty       8981\n",
       "Craft-repair         6112\n",
       "Exec-managerial      6086\n",
       "Adm-clerical         5611\n",
       "Sales                5504\n",
       "Other-service        4923\n",
       "Machine-op-inspct    3022\n",
       "Transport-moving     2355\n",
       "Handlers-cleaners    2072\n",
       "Farming-fishing      1490\n",
       "Tech-support         1446\n",
       "Protective-serv       983\n",
       "Priv-house-serv       242\n",
       "Armed-Forces           15\n",
       "Name: occupation, dtype: int64"
      ]
     },
     "execution_count": 24,
     "metadata": {},
     "output_type": "execute_result"
    }
   ],
   "source": [
    "df['occupation'].value_counts()"
   ]
  },
  {
   "cell_type": "code",
   "execution_count": 25,
   "id": "26fe744c",
   "metadata": {},
   "outputs": [
    {
     "data": {
      "text/plain": [
       "HS-grad         15784\n",
       "Some-college    10878\n",
       "Bachelors        8025\n",
       "Masters          2657\n",
       "Assoc-voc        2061\n",
       "11th             1812\n",
       "Assoc-acdm       1601\n",
       "10th             1389\n",
       "7th-8th           955\n",
       "Prof-school       834\n",
       "9th               756\n",
       "12th              657\n",
       "Doctorate         594\n",
       "5th-6th           509\n",
       "1st-4th           247\n",
       "Preschool          83\n",
       "Name: education, dtype: int64"
      ]
     },
     "execution_count": 25,
     "metadata": {},
     "output_type": "execute_result"
    }
   ],
   "source": [
    "df['education'].value_counts()"
   ]
  },
  {
   "cell_type": "markdown",
   "id": "ad2893ed",
   "metadata": {},
   "source": [
    "# Univariate Analysis:"
   ]
  },
  {
   "cell_type": "code",
   "execution_count": 34,
   "id": "01be523a",
   "metadata": {},
   "outputs": [
    {
     "data": {
      "text/plain": [
       "<AxesSubplot:xlabel='gender', ylabel='count'>"
      ]
     },
     "execution_count": 34,
     "metadata": {},
     "output_type": "execute_result"
    },
    {
     "data": {
      "image/png": "[encoded data removed]",
      "text/plain": [
       "<Figure size 432x288 with 1 Axes>"
      ]
     },
     "metadata": {
      "needs_background": "light"
     },
     "output_type": "display_data"
    }
   ],
   "source": [
    "# Gender\n",
    "sns.countplot(x='gender', data=df)"
   ]
  },
  {
   "cell_type": "markdown",
   "id": "10a114f2",
   "metadata": {},
   "source": [
    "There are 2 unique categories in gender. frequency of male is higher than female.\n"
   ]
  },
  {
   "cell_type": "code",
   "execution_count": 35,
   "id": "ca1b4459",
   "metadata": {
    "scrolled": true
   },
   "outputs": [
    {
     "data": {
      "text/plain": [
       "<AxesSubplot:xlabel='income', ylabel='count'>"
      ]
     },
     "execution_count": 35,
     "metadata": {},
     "output_type": "execute_result"
    },
    {
     "data": {
      "image/png": "[encoded data removed]",
      "text/plain": [
       "<Figure size 432x288 with 1 Axes>"
      ]
     },
     "metadata": {
      "needs_background": "light"
     },
     "output_type": "display_data"
    }
   ],
   "source": [
    "# Income\n",
    "sns.countplot(x='income',data=df,palette='ocean')"
   ]
  },
  {
   "cell_type": "markdown",
   "id": "4962a94c",
   "metadata": {},
   "source": [
    "- In income there is 2 groups \n",
    "     - group1:who earns less than or equal to 50k and \n",
    "     - group2 : who earns greater than 50k .\n",
    "       - Group 1 has more ppl than group 2.\n"
   ]
  },
  {
   "cell_type": "code",
   "execution_count": 38,
   "id": "f288129f",
   "metadata": {},
   "outputs": [
    {
     "data": {
      "text/plain": [
       "<AxesSubplot:xlabel='count', ylabel='occupation'>"
      ]
     },
     "execution_count": 38,
     "metadata": {},
     "output_type": "execute_result"
    },
    {
     "data": {
      "image/png": "[encoded data removed]",
      "text/plain": [
       "<Figure size 432x288 with 1 Axes>"
      ]
     },
     "metadata": {
      "needs_background": "light"
     },
     "output_type": "display_data"
    }
   ],
   "source": [
    "# Occupation\n",
    "sns.countplot(y='occupation', data=df, palette='winter_r')"
   ]
  },
  {
   "cell_type": "markdown",
   "id": "b1a98ef0",
   "metadata": {},
   "source": [
    "In occupation Prof-specialty has the maximum count. Armed-Forces has minimum count .\n"
   ]
  },
  {
   "cell_type": "code",
   "execution_count": 57,
   "id": "581e376e",
   "metadata": {
    "scrolled": false
   },
   "outputs": [
    {
     "data": {
      "text/plain": [
       "<function matplotlib.pyplot.show(close=None, block=None)>"
      ]
     },
     "execution_count": 57,
     "metadata": {},
     "output_type": "execute_result"
    },
    {
     "data": {
      "image/png": "[encoded data removed]",
      "text/plain": [
       "<Figure size 432x432 with 1 Axes>"
      ]
     },
     "metadata": {
      "needs_background": "light"
     },
     "output_type": "display_data"
    }
   ],
   "source": [
    "# Age\n",
    "df['age'].hist(figsize = (6,6))\n",
    "plt.show"
   ]
  },
  {
   "cell_type": "markdown",
   "id": "c48aa666",
   "metadata": {},
   "source": [
    " By observation age attribute is right-skewed and not symetric. min age is between 83-90. Max age is between 41-46.\n"
   ]
  },
  {
   "cell_type": "code",
   "execution_count": 47,
   "id": "b829a0ab",
   "metadata": {},
   "outputs": [
    {
     "data": {
      "text/plain": [
       "<AxesSubplot:xlabel='count', ylabel='workclass'>"
      ]
     },
     "execution_count": 47,
     "metadata": {},
     "output_type": "execute_result"
    },
    {
     "data": {
      "image/png": "[encoded data removed]",
      "text/plain": [
       "<Figure size 432x288 with 1 Axes>"
      ]
     },
     "metadata": {
      "needs_background": "light"
     },
     "output_type": "display_data"
    }
   ],
   "source": [
    "# Workclass\n",
    "sns.countplot(y='workclass', data=df)"
   ]
  },
  {
   "cell_type": "markdown",
   "id": "7c94107b",
   "metadata": {},
   "source": [
    "- In workclass most of them belong to private workclass. \n",
    "    - without-play and never-play workclass has min count."
   ]
  },
  {
   "cell_type": "code",
   "execution_count": 58,
   "id": "fa8991f6",
   "metadata": {},
   "outputs": [
    {
     "data": {
      "text/plain": [
       "<function matplotlib.pyplot.show(close=None, block=None)>"
      ]
     },
     "execution_count": 58,
     "metadata": {},
     "output_type": "execute_result"
    },
    {
     "data": {
      "image/png": "[encoded data removed]",
      "text/plain": [
       "<Figure size 432x432 with 1 Axes>"
      ]
     },
     "metadata": {
      "needs_background": "light"
     },
     "output_type": "display_data"
    }
   ],
   "source": [
    "#Final weight\n",
    "df['fnlwgt'].hist(figsize = (6,6))\n",
    "plt.show"
   ]
  },
  {
   "cell_type": "markdown",
   "id": "9817f8f5",
   "metadata": {},
   "source": [
    "- Final weight is right skewed."
   ]
  },
  {
   "cell_type": "code",
   "execution_count": 51,
   "id": "00043023",
   "metadata": {},
   "outputs": [
    {
     "data": {
      "text/plain": [
       "<AxesSubplot:xlabel='count', ylabel='education'>"
      ]
     },
     "execution_count": 51,
     "metadata": {},
     "output_type": "execute_result"
    },
    {
     "data": {
      "image/png": "[encoded data removed]",
      "text/plain": [
       "<Figure size 432x288 with 1 Axes>"
      ]
     },
     "metadata": {
      "needs_background": "light"
     },
     "output_type": "display_data"
    }
   ],
   "source": [
    "#Education\n",
    "sns.countplot(y='education', data=df, palette='Greens_d')"
   ]
  },
  {
   "cell_type": "markdown",
   "id": "9f107049",
   "metadata": {},
   "source": [
    " In education attribute HS-grad has max count and Preschool has least count.\n"
   ]
  },
  {
   "cell_type": "code",
   "execution_count": 45,
   "id": "e63ae513",
   "metadata": {},
   "outputs": [
    {
     "data": {
      "image/png": "[encoded data removed]",
      "text/plain": [
       "<Figure size 504x360 with 1 Axes>"
      ]
     },
     "metadata": {
      "needs_background": "light"
     },
     "output_type": "display_data"
    }
   ],
   "source": [
    "#Education\n",
    "plt.subplots(figsize=(7,5))\n",
    "df['educational-num'].value_counts().plot.bar(title = 'frequency dist of educational-num')\n",
    "plt.show()"
   ]
  },
  {
   "cell_type": "markdown",
   "id": "bfc6f4c3",
   "metadata": {},
   "source": [
    " In educational-num attribute 9 has more count than 1.\n"
   ]
  },
  {
   "cell_type": "code",
   "execution_count": 54,
   "id": "b820f9a9",
   "metadata": {},
   "outputs": [
    {
     "data": {
      "text/plain": [
       "<AxesSubplot:xlabel='count', ylabel='marital-status'>"
      ]
     },
     "execution_count": 54,
     "metadata": {},
     "output_type": "execute_result"
    },
    {
     "data": {
      "image/png": "[encoded data removed]",
      "text/plain": [
       "<Figure size 432x288 with 1 Axes>"
      ]
     },
     "metadata": {
      "needs_background": "light"
     },
     "output_type": "display_data"
    }
   ],
   "source": [
    "#Marital-status\n",
    "sns.countplot(y='marital-status', data=df, palette='magma')"
   ]
  },
  {
   "cell_type": "markdown",
   "id": "a446443e",
   "metadata": {},
   "source": [
    " Married-civ-spouse has maximum number of counts. Married-AF-spouse has minimum number of counts.\n"
   ]
  },
  {
   "cell_type": "code",
   "execution_count": 56,
   "id": "feb1ceae",
   "metadata": {},
   "outputs": [
    {
     "data": {
      "text/plain": [
       "<AxesSubplot:xlabel='count', ylabel='occupation'>"
      ]
     },
     "execution_count": 56,
     "metadata": {},
     "output_type": "execute_result"
    },
    {
     "data": {
      "image/png": "[encoded data removed]",
      "text/plain": [
       "<Figure size 432x288 with 1 Axes>"
      ]
     },
     "metadata": {
      "needs_background": "light"
     },
     "output_type": "display_data"
    }
   ],
   "source": [
    "#Occupation\n",
    "sns.countplot(y='occupation', data=df)"
   ]
  },
  {
   "cell_type": "markdown",
   "id": "f6224d00",
   "metadata": {},
   "source": [
    "Prof-specialty has the maximum count. Armed-Forces has minimum samples in the occupation attribute.\n"
   ]
  },
  {
   "cell_type": "code",
   "execution_count": 60,
   "id": "1b349186",
   "metadata": {},
   "outputs": [
    {
     "data": {
      "text/plain": [
       "<AxesSubplot:xlabel='count', ylabel='relationship'>"
      ]
     },
     "execution_count": 60,
     "metadata": {},
     "output_type": "execute_result"
    },
    {
     "data": {
      "image/png": "[encoded data removed]",
      "text/plain": [
       "<Figure size 432x288 with 1 Axes>"
      ]
     },
     "metadata": {
      "needs_background": "light"
     },
     "output_type": "display_data"
    }
   ],
   "source": [
    "#Relationship\n",
    "sns.countplot(y='relationship', data=df)"
   ]
  },
  {
   "cell_type": "markdown",
   "id": "246eba27",
   "metadata": {},
   "source": [
    " Husband has maximum count among all.\n"
   ]
  },
  {
   "cell_type": "code",
   "execution_count": 66,
   "id": "f84bc15d",
   "metadata": {},
   "outputs": [
    {
     "data": {
      "text/plain": [
       "<AxesSubplot:xlabel='count', ylabel='race'>"
      ]
     },
     "execution_count": 66,
     "metadata": {},
     "output_type": "execute_result"
    },
    {
     "data": {
      "image/png": "[encoded data removed]",
      "text/plain": [
       "<Figure size 432x288 with 1 Axes>"
      ]
     },
     "metadata": {
      "needs_background": "light"
     },
     "output_type": "display_data"
    }
   ],
   "source": [
    "#Race\n",
    "sns.countplot(y='race', data=df, palette='inferno_r')"
   ]
  },
  {
   "cell_type": "markdown",
   "id": "d1f45182",
   "metadata": {},
   "source": [
    "white is maximun among all and black is second maximum.\n"
   ]
  },
  {
   "cell_type": "code",
   "execution_count": 33,
   "id": "1e945c9f",
   "metadata": {},
   "outputs": [
    {
     "data": {
      "text/plain": [
       "<AxesSubplot:xlabel='capital-gain', ylabel='Density'>"
      ]
     },
     "execution_count": 33,
     "metadata": {},
     "output_type": "execute_result"
    },
    {
     "data": {
      "image/png": "[encoded data removed]",
      "text/plain": [
       "<Figure size 432x288 with 1 Axes>"
      ]
     },
     "metadata": {
      "needs_background": "light"
     },
     "output_type": "display_data"
    }
   ],
   "source": [
    "#Capital-gain\n",
    "sns.kdeplot(df[ 'capital-gain'],shade=True)"
   ]
  },
  {
   "cell_type": "markdown",
   "id": "1c312730",
   "metadata": {},
   "source": [
    "capital-gain shows that either a person has no gain or has gain of very large amount (10,000 or 99,000).\n"
   ]
  },
  {
   "cell_type": "code",
   "execution_count": 34,
   "id": "aa53dbf9",
   "metadata": {},
   "outputs": [
    {
     "data": {
      "text/plain": [
       "<AxesSubplot:xlabel='capital-loss', ylabel='Density'>"
      ]
     },
     "execution_count": 34,
     "metadata": {},
     "output_type": "execute_result"
    },
    {
     "data": {
      "image/png": "[encoded data removed]",
      "text/plain": [
       "<Figure size 432x288 with 1 Axes>"
      ]
     },
     "metadata": {
      "needs_background": "light"
     },
     "output_type": "display_data"
    }
   ],
   "source": [
    "#Capital-loss\n",
    "sns.kdeplot(df[ 'capital-loss'],shade=True)"
   ]
  },
  {
   "cell_type": "markdown",
   "id": "0806b565",
   "metadata": {},
   "source": [
    "This attribute is similar to the capital-gain i.e. most of the values are centered on 0.\n"
   ]
  },
  {
   "cell_type": "code",
   "execution_count": 35,
   "id": "aaf3f187",
   "metadata": {},
   "outputs": [
    {
     "data": {
      "text/plain": [
       "<AxesSubplot:xlabel='hours-per-week', ylabel='Density'>"
      ]
     },
     "execution_count": 35,
     "metadata": {},
     "output_type": "execute_result"
    },
    {
     "data": {
      "image/png": "[encoded data removed]",
      "text/plain": [
       "<Figure size 432x288 with 1 Axes>"
      ]
     },
     "metadata": {
      "needs_background": "light"
     },
     "output_type": "display_data"
    }
   ],
   "source": [
    "#Hours-per-week\n",
    "sns.kdeplot(df['hours-per-week'],shade=True)"
   ]
  },
  {
   "cell_type": "markdown",
   "id": "840afa8b",
   "metadata": {},
   "source": [
    "By observation,30-40 hrs people work per week. There are also few people who works 80-100 hours per week and some less than 20 which is unusual.\n"
   ]
  },
  {
   "cell_type": "code",
   "execution_count": 50,
   "id": "db6cb747",
   "metadata": {},
   "outputs": [
    {
     "data": {
      "image/png": "[encoded data removed]",
      "text/plain": [
       "<Figure size 504x360 with 1 Axes>"
      ]
     },
     "metadata": {
      "needs_background": "light"
     },
     "output_type": "display_data"
    }
   ],
   "source": [
    "#Native-country\n",
    "plt.subplots(figsize=(7,5))\n",
    "df['native-country'].value_counts().plot.bar(title = 'frequency dist of native-country')\n",
    "plt.show()"
   ]
  },
  {
   "cell_type": "markdown",
   "id": "5a688038",
   "metadata": {},
   "source": [
    " Most of the ppl have US as native country.\n"
   ]
  },
  {
   "cell_type": "markdown",
   "id": "7b6622df",
   "metadata": {},
   "source": [
    "# Observations:\n",
    "- There are 2 unique categories in gender. frequency of male is higher than female.\n",
    "- In income there is 2 groups \n",
    "     - group1:who earns less than or equal to 50k and \n",
    "     - group2 : who earns greater than 50k .\n",
    "       - Group 1 has more ppl than group 2.\n",
    "- In occupation Prof-specialty has the maximum count. Armed-Forces has minimum count .\n",
    "- By observation age attribute is right-skewed and not symetric. min age is between 83-90. Max age is between 41-46.\n",
    "- In workclass most of them belong to private workclass. \n",
    "    - without-play and never-play workclass has min count.\n",
    "- Final weight is right skewed.\n",
    "- In education attribute HS-grad has max count and Preschool has least count.\n",
    "- In educational-num attribute 9 has more count than 1.\n",
    "-  Married-civ-spouse has maximum number of counts. Married-AF-spouse has minimum number of counts.\n",
    "- Prof-specialty has the maximum count. Armed-Forces has minimum samples in the occupation attribute.\n",
    "- Husband has maximum count among all.\n",
    "- white is maximun among all and black is second maximum.\n",
    "- capital-gain shows that either a person has no gain or has gain of very large amount (10,000 or 99,000).\n",
    "- This attribute is similar to the capital-gain i.e. most of the values are centered on 0.\n",
    "-  By observation,30-40 hrs people work per week. There are also few people who works 80-100 hours per week and some less than 20 which is unusual.\n",
    "- Most of the ppl have US as native country.\n"
   ]
  },
  {
   "cell_type": "markdown",
   "id": "86015fd4",
   "metadata": {},
   "source": [
    "# Bivariate Analysis:"
   ]
  },
  {
   "cell_type": "markdown",
   "id": "e9374b2e",
   "metadata": {},
   "source": [
    "### Relation between Numerical values:"
   ]
  },
  {
   "cell_type": "code",
   "execution_count": 69,
   "id": "f0cf5084",
   "metadata": {},
   "outputs": [
    {
     "data": {
      "text/plain": [
       "<AxesSubplot:xlabel='age', ylabel='income'>"
      ]
     },
     "execution_count": 69,
     "metadata": {},
     "output_type": "execute_result"
    },
    {
     "data": {
      "image/png": "[encoded data removed]",
      "text/plain": [
       "<Figure size 360x288 with 1 Axes>"
      ]
     },
     "metadata": {
      "needs_background": "light"
     },
     "output_type": "display_data"
    }
   ],
   "source": [
    "# plot age vs income\n",
    "plt.figure(figsize=(5,4))\n",
    "sns.boxplot(x='age',y='income', data=df)"
   ]
  },
  {
   "cell_type": "markdown",
   "id": "b3e3e8c4",
   "metadata": {},
   "source": [
    "- Income group(<=50k) has lower median \"age\"(34 year) than the Income group(>50k) which has median \"age\"(42 year).\n"
   ]
  },
  {
   "cell_type": "code",
   "execution_count": 85,
   "id": "18ade591",
   "metadata": {},
   "outputs": [
    {
     "data": {
      "text/plain": [
       "<AxesSubplot:xlabel='income', ylabel='capital-gain'>"
      ]
     },
     "execution_count": 85,
     "metadata": {},
     "output_type": "execute_result"
    },
    {
     "data": {
      "image/png": "[encoded data removed]",
      "text/plain": [
       "<Figure size 360x360 with 1 Axes>"
      ]
     },
     "metadata": {
      "needs_background": "light"
     },
     "output_type": "display_data"
    }
   ],
   "source": [
    "#plot income vs capital-gain\n",
    "plt.figure(figsize=(5,5))\n",
    "sns.boxplot(x='income', y='capital-gain', data=df)"
   ]
  },
  {
   "cell_type": "markdown",
   "id": "ae6babb9",
   "metadata": {},
   "source": [
    "Most of the capital gains value is accumulated at 0-20k for both the income group .\n"
   ]
  },
  {
   "cell_type": "code",
   "execution_count": 82,
   "id": "0ffaaca0",
   "metadata": {},
   "outputs": [
    {
     "data": {
      "text/plain": [
       "<AxesSubplot:xlabel='income', ylabel='capital-loss'>"
      ]
     },
     "execution_count": 82,
     "metadata": {},
     "output_type": "execute_result"
    },
    {
     "data": {
      "image/png": "[encoded data removed]",
      "text/plain": [
       "<Figure size 360x360 with 1 Axes>"
      ]
     },
     "metadata": {
      "needs_background": "light"
     },
     "output_type": "display_data"
    }
   ],
   "source": [
    "#plot income vs capital-loss\n",
    "plt.figure(figsize=(5,5))\n",
    "sns.boxplot(x='income', y='capital-loss', data=df)"
   ]
  },
  {
   "cell_type": "markdown",
   "id": "a3142a52",
   "metadata": {},
   "source": [
    "This boxplot shows capital loss of 0-2800 for group 1 of income and 1500-3000 for group 2 of income.\n"
   ]
  },
  {
   "cell_type": "code",
   "execution_count": 108,
   "id": "101ae0db",
   "metadata": {},
   "outputs": [
    {
     "data": {
      "text/plain": [
       "<AxesSubplot:xlabel='income', ylabel='hours-per-week'>"
      ]
     },
     "execution_count": 108,
     "metadata": {},
     "output_type": "execute_result"
    },
    {
     "data": {
      "image/png": "[encoded data removed]",
      "text/plain": [
       "<Figure size 360x360 with 1 Axes>"
      ]
     },
     "metadata": {
      "needs_background": "light"
     },
     "output_type": "display_data"
    }
   ],
   "source": [
    "#plot income vs hours-per-week \n",
    "plt.figure(figsize=(5,5))\n",
    "sns.boxplot(x='income', y='hours-per-week', data=df)"
   ]
  },
  {
   "cell_type": "markdown",
   "id": "28259151",
   "metadata": {},
   "source": [
    "People with income >50k work almost 10 hours extra than people with <=50k.\n"
   ]
  },
  {
   "cell_type": "markdown",
   "id": "5766d21d",
   "metadata": {},
   "source": [
    "### Relation between Categorical Values and Numerical Values:"
   ]
  },
  {
   "cell_type": "code",
   "execution_count": 31,
   "id": "50cc1ac0",
   "metadata": {},
   "outputs": [
    {
     "data": {
      "text/plain": [
       "<AxesSubplot:xlabel='gender', ylabel='age'>"
      ]
     },
     "execution_count": 31,
     "metadata": {},
     "output_type": "execute_result"
    },
    {
     "data": {
      "image/png": "[encoded data removed]",
      "text/plain": [
       "<Figure size 432x288 with 1 Axes>"
      ]
     },
     "metadata": {
      "needs_background": "light"
     },
     "output_type": "display_data"
    }
   ],
   "source": [
    "#plost gender vs age\n",
    "sns.barplot(x = 'gender', y='age', data=df, palette = 'autumn')"
   ]
  },
  {
   "cell_type": "markdown",
   "id": "2c514f37",
   "metadata": {},
   "source": [
    "In barplot of age and gender , the count of age is almost equal for both genders.\n"
   ]
  },
  {
   "cell_type": "code",
   "execution_count": 81,
   "id": "730a1004",
   "metadata": {},
   "outputs": [
    {
     "data": {
      "text/plain": [
       "<AxesSubplot:xlabel='count', ylabel='workclass'>"
      ]
     },
     "execution_count": 81,
     "metadata": {},
     "output_type": "execute_result"
    },
    {
     "data": {
      "image/png": "[encoded data removed]",
      "text/plain": [
       "<Figure size 360x360 with 1 Axes>"
      ]
     },
     "metadata": {
      "needs_background": "light"
     },
     "output_type": "display_data"
    }
   ],
   "source": [
    "#plot workclass vs income\n",
    "plt.figure(figsize=(5,5))\n",
    "sns.countplot(y='workclass', hue='income', data=df, palette='gist_rainbow_r')"
   ]
  },
  {
   "cell_type": "markdown",
   "id": "89e80a57",
   "metadata": {},
   "source": [
    "In count plot of work class and Income private work class is more with both income groups.\n"
   ]
  },
  {
   "cell_type": "code",
   "execution_count": 93,
   "id": "4b454296",
   "metadata": {},
   "outputs": [
    {
     "data": {
      "text/plain": [
       "<AxesSubplot:xlabel='count', ylabel='education'>"
      ]
     },
     "execution_count": 93,
     "metadata": {},
     "output_type": "execute_result"
    },
    {
     "data": {
      "image/png": "[encoded data removed]",
      "text/plain": [
       "<Figure size 360x360 with 1 Axes>"
      ]
     },
     "metadata": {
      "needs_background": "light"
     },
     "output_type": "display_data"
    }
   ],
   "source": [
    "# plot educcation vs income\n",
    "plt.figure(figsize=(5,5))\n",
    "sns.countplot(y='education', hue='income', data=df, palette='gist_rainbow')"
   ]
  },
  {
   "cell_type": "markdown",
   "id": "c1a8ea69",
   "metadata": {},
   "source": [
    "This data mostly consist of people who has education as HS-grad.\n"
   ]
  },
  {
   "cell_type": "code",
   "execution_count": 88,
   "id": "00b04c86",
   "metadata": {},
   "outputs": [
    {
     "data": {
      "text/plain": [
       "<AxesSubplot:xlabel='count', ylabel='relationship'>"
      ]
     },
     "execution_count": 88,
     "metadata": {},
     "output_type": "execute_result"
    },
    {
     "data": {
      "image/png": "[encoded data removed]",
      "text/plain": [
       "<Figure size 360x360 with 1 Axes>"
      ]
     },
     "metadata": {
      "needs_background": "light"
     },
     "output_type": "display_data"
    }
   ],
   "source": [
    "# plotting relationship vs income\n",
    "plt.figure(figsize=(5,5))\n",
    "sns.countplot(y='relationship',hue='income', data=df, palette='ocean')"
   ]
  },
  {
   "cell_type": "markdown",
   "id": "1004bcf3",
   "metadata": {},
   "source": [
    "Mostly a person with relation as husband in a family has most count of people with more then 50k income.\n"
   ]
  },
  {
   "cell_type": "code",
   "execution_count": 99,
   "id": "e8d716df",
   "metadata": {},
   "outputs": [
    {
     "data": {
      "text/plain": [
       "<AxesSubplot:xlabel='count', ylabel='marital-status'>"
      ]
     },
     "execution_count": 99,
     "metadata": {},
     "output_type": "execute_result"
    },
    {
     "data": {
      "image/png": "[encoded data removed]",
      "text/plain": [
       "<Figure size 360x360 with 1 Axes>"
      ]
     },
     "metadata": {
      "needs_background": "light"
     },
     "output_type": "display_data"
    }
   ],
   "source": [
    "#plot marital-status vs income\n",
    "plt.figure(figsize=(5,5))\n",
    "sns.countplot(y='marital-status', hue='income', data=df, palette='autumn')"
   ]
  },
  {
   "cell_type": "markdown",
   "id": "1cd7f2da",
   "metadata": {},
   "source": [
    "The people with marital status as Married-civ-spouce has highest people with income more then 50k.\n"
   ]
  },
  {
   "cell_type": "code",
   "execution_count": 92,
   "id": "0ff47915",
   "metadata": {},
   "outputs": [
    {
     "data": {
      "text/plain": [
       "<AxesSubplot:xlabel='count', ylabel='occupation'>"
      ]
     },
     "execution_count": 92,
     "metadata": {},
     "output_type": "execute_result"
    },
    {
     "data": {
      "image/png": "[encoded data removed]",
      "text/plain": [
       "<Figure size 360x360 with 1 Axes>"
      ]
     },
     "metadata": {
      "needs_background": "light"
     },
     "output_type": "display_data"
    }
   ],
   "source": [
    "# plot occupation vs income\n",
    "plt.figure(figsize=(5,5))\n",
    "sns.countplot(y='occupation',hue='income', data=df, palette='rainbow')"
   ]
  },
  {
   "cell_type": "markdown",
   "id": "217b8168",
   "metadata": {},
   "source": [
    " Prof-speciality have more people with both income groups.\n"
   ]
  },
  {
   "cell_type": "code",
   "execution_count": 97,
   "id": "f2e61411",
   "metadata": {
    "scrolled": false
   },
   "outputs": [
    {
     "data": {
      "text/plain": [
       "<AxesSubplot:xlabel='count', ylabel='relationship'>"
      ]
     },
     "execution_count": 97,
     "metadata": {},
     "output_type": "execute_result"
    },
    {
     "data": {
      "image/png": "[encoded data removed]",
      "text/plain": [
       "<Figure size 360x360 with 1 Axes>"
      ]
     },
     "metadata": {
      "needs_background": "light"
     },
     "output_type": "display_data"
    }
   ],
   "source": [
    "# plot relationship vs income\n",
    "plt.figure(figsize=(5,5))\n",
    "sns.countplot(y='relationship', hue='income', data=df, palette='turbo')"
   ]
  },
  {
   "cell_type": "markdown",
   "id": "05ab9548",
   "metadata": {},
   "source": [
    "Husbands have more people with both income groups.\n"
   ]
  },
  {
   "cell_type": "code",
   "execution_count": 102,
   "id": "c789999d",
   "metadata": {},
   "outputs": [
    {
     "data": {
      "text/plain": [
       "<AxesSubplot:xlabel='count', ylabel='race'>"
      ]
     },
     "execution_count": 102,
     "metadata": {},
     "output_type": "execute_result"
    },
    {
     "data": {
      "image/png": "[encoded data removed]",
      "text/plain": [
       "<Figure size 360x360 with 1 Axes>"
      ]
     },
     "metadata": {
      "needs_background": "light"
     },
     "output_type": "display_data"
    }
   ],
   "source": [
    "#plot race vs income\n",
    "plt.figure(figsize=(5,5))\n",
    "sns.countplot(y='race', hue='income', data=df, palette='autumn')"
   ]
  },
  {
   "cell_type": "markdown",
   "id": "e4a0c62a",
   "metadata": {},
   "source": [
    "White people have more persons in both income groups.\n"
   ]
  },
  {
   "cell_type": "code",
   "execution_count": 107,
   "id": "615fd56a",
   "metadata": {
    "scrolled": false
   },
   "outputs": [
    {
     "data": {
      "text/plain": [
       "<AxesSubplot:xlabel='count', ylabel='native-country'>"
      ]
     },
     "execution_count": 107,
     "metadata": {},
     "output_type": "execute_result"
    },
    {
     "data": {
      "image/png": "[encoded data removed]",
      "text/plain": [
       "<Figure size 720x720 with 1 Axes>"
      ]
     },
     "metadata": {
      "needs_background": "light"
     },
     "output_type": "display_data"
    }
   ],
   "source": [
    "# plot native-country vs income\n",
    "plt.figure(figsize=(10,10))\n",
    "sns.countplot(y='native-country', hue='income', data=df, palette='autumn')"
   ]
  },
  {
   "cell_type": "markdown",
   "id": "c60ac05b",
   "metadata": {},
   "source": [
    "US has most people with income of <=50k more.\n"
   ]
  },
  {
   "cell_type": "markdown",
   "id": "6cabb9a5",
   "metadata": {},
   "source": [
    "#### Correlation:"
   ]
  },
  {
   "cell_type": "code",
   "execution_count": 67,
   "id": "adb495d0",
   "metadata": {},
   "outputs": [
    {
     "data": {
      "text/plain": [
       "<AxesSubplot:>"
      ]
     },
     "execution_count": 67,
     "metadata": {},
     "output_type": "execute_result"
    },
    {
     "data": {
      "image/png": "[encoded data removed]",
      "text/plain": [
       "<Figure size 432x288 with 2 Axes>"
      ]
     },
     "metadata": {
      "needs_background": "light"
     },
     "output_type": "display_data"
    }
   ],
   "source": [
    "sns.heatmap(df.corr())"
   ]
  },
  {
   "cell_type": "markdown",
   "id": "5d543c55",
   "metadata": {},
   "source": [
    "## Observations:\n",
    "- Income group(<=50k) has lower median \"age\"(34 year) than the Income group(>50k) which has median \"age\"(42 year).\n",
    "- Most of the capital gains value is accumulated at 0-20k for both the income group .\n",
    "- This boxplot shows capital loss of 0-2800 for group 1 of income and 1500-3000 for group 2 of income.\n",
    "- People with income >50k work almost 10 hours extra than people with <=50k.\n",
    "\n",
    "- In barplot of age and gender , the count of age is almost equal for both genders.\n",
    "- In count plot of work class and Income private work class is more with both income groups.\n",
    "- This data mostly consist of people who has education as HS-grad.\n",
    "- Mostly a person with relation as husband in a family has most count of people with more then 50k income.\n",
    "- The people with marital status as Married-civ-spouce has highest people with income more then 50k.\n",
    "- Prof-speciality have more people with both income groups.\n",
    "- Husbands have more people with both income groups.\n",
    "- White people have more persons in both income groups.\n",
    "- US has most people with income of <=50k more.\n"
   ]
  },
  {
   "cell_type": "markdown",
   "id": "c6802658",
   "metadata": {},
   "source": [
    "# Missing value treatment:\n",
    "\n",
    "The data set contains alot of missing values . We will find them in each attribute and treat them ."
   ]
  },
  {
   "cell_type": "markdown",
   "id": "084bb318",
   "metadata": {},
   "source": [
    "### Age:"
   ]
  },
  {
   "cell_type": "code",
   "execution_count": 8,
   "id": "c681afe7",
   "metadata": {},
   "outputs": [
    {
     "data": {
      "text/plain": [
       "0"
      ]
     },
     "execution_count": 8,
     "metadata": {},
     "output_type": "execute_result"
    }
   ],
   "source": [
    "#To see how many null values are there in the data\n",
    "df['age'].isnull().sum()"
   ]
  },
  {
   "cell_type": "code",
   "execution_count": 9,
   "id": "88df6c0b",
   "metadata": {},
   "outputs": [],
   "source": [
    "# Filling null values with median\n",
    "df['age']=df['age'].fillna(df['age'].median())"
   ]
  },
  {
   "cell_type": "code",
   "execution_count": 10,
   "id": "58bc2a55",
   "metadata": {},
   "outputs": [
    {
     "data": {
      "text/plain": [
       "0"
      ]
     },
     "execution_count": 10,
     "metadata": {},
     "output_type": "execute_result"
    }
   ],
   "source": [
    "df['age'].isnull().sum()"
   ]
  },
  {
   "cell_type": "markdown",
   "id": "196d7fca",
   "metadata": {},
   "source": [
    "### Workclass:"
   ]
  },
  {
   "cell_type": "code",
   "execution_count": 11,
   "id": "8e888ee6",
   "metadata": {},
   "outputs": [
    {
     "data": {
      "text/plain": [
       "0"
      ]
     },
     "execution_count": 11,
     "metadata": {},
     "output_type": "execute_result"
    }
   ],
   "source": [
    "#To see how many null values are there in the data\n",
    "df['workclass'].isnull().sum()"
   ]
  },
  {
   "cell_type": "code",
   "execution_count": 12,
   "id": "054224f4",
   "metadata": {},
   "outputs": [],
   "source": [
    "#It has missing values in the form of '?' so we will replace it with nan\n",
    "df['workclass']=df['workclass'].replace('?',np.nan)"
   ]
  },
  {
   "cell_type": "code",
   "execution_count": 13,
   "id": "adf4e0e8",
   "metadata": {},
   "outputs": [
    {
     "data": {
      "text/plain": [
       "2799"
      ]
     },
     "execution_count": 13,
     "metadata": {},
     "output_type": "execute_result"
    }
   ],
   "source": [
    "##Again seeing how many null values are there in the data\n",
    "df['workclass'].isnull().sum()"
   ]
  },
  {
   "cell_type": "code",
   "execution_count": 14,
   "id": "bb5fec83",
   "metadata": {},
   "outputs": [],
   "source": [
    "# since it is categorical value we will find its mode\n",
    "mode=df['workclass'].mode()[0]"
   ]
  },
  {
   "cell_type": "code",
   "execution_count": 15,
   "id": "c975c5a0",
   "metadata": {},
   "outputs": [],
   "source": [
    "#Filling missing value with mode\n",
    "\n",
    "df['workclass'].replace(np.nan,'Private',inplace=True)"
   ]
  },
  {
   "cell_type": "code",
   "execution_count": 16,
   "id": "8439dbf6",
   "metadata": {},
   "outputs": [
    {
     "data": {
      "text/plain": [
       "0"
      ]
     },
     "execution_count": 16,
     "metadata": {},
     "output_type": "execute_result"
    }
   ],
   "source": [
    "##Again seeing how many null values are there in the data\n",
    "df['workclass'].isnull().sum()"
   ]
  },
  {
   "cell_type": "markdown",
   "id": "6c78022f",
   "metadata": {},
   "source": [
    "### Final weight:"
   ]
  },
  {
   "cell_type": "code",
   "execution_count": 19,
   "id": "2a80f77b",
   "metadata": {},
   "outputs": [],
   "source": [
    "#Filling missing value with median\n",
    "\n",
    "df['fnlwgt'].fillna(df['fnlwgt'].median(),inplace=True)"
   ]
  },
  {
   "cell_type": "markdown",
   "id": "011a35b6",
   "metadata": {},
   "source": [
    "### Education:"
   ]
  },
  {
   "cell_type": "code",
   "execution_count": 20,
   "id": "d7efc9d1",
   "metadata": {},
   "outputs": [
    {
     "data": {
      "text/plain": [
       "0"
      ]
     },
     "execution_count": 20,
     "metadata": {},
     "output_type": "execute_result"
    }
   ],
   "source": [
    "#To see how many null values are there in the data\n",
    "df['education'].isnull().sum()"
   ]
  },
  {
   "cell_type": "markdown",
   "id": "cee398bb",
   "metadata": {},
   "source": [
    "### Marital- Status:"
   ]
  },
  {
   "cell_type": "code",
   "execution_count": 22,
   "id": "495666f9",
   "metadata": {},
   "outputs": [
    {
     "data": {
      "text/plain": [
       "0"
      ]
     },
     "execution_count": 22,
     "metadata": {},
     "output_type": "execute_result"
    }
   ],
   "source": [
    "#To see how many null values are there in the data\n",
    "\n",
    "df['marital-status'].isnull().sum()"
   ]
  },
  {
   "cell_type": "markdown",
   "id": "09739fcc",
   "metadata": {},
   "source": [
    "### Occupation:"
   ]
  },
  {
   "cell_type": "code",
   "execution_count": 23,
   "id": "4d0c6eae",
   "metadata": {},
   "outputs": [],
   "source": [
    "#Imputing the missing values with mode\n",
    "\n",
    "df['occupation'].replace('?','Prof-specialty',inplace=True)"
   ]
  },
  {
   "cell_type": "markdown",
   "id": "e29d3463",
   "metadata": {},
   "source": [
    "### Race:"
   ]
  },
  {
   "cell_type": "code",
   "execution_count": 24,
   "id": "f77959f0",
   "metadata": {},
   "outputs": [
    {
     "data": {
      "text/plain": [
       "0"
      ]
     },
     "execution_count": 24,
     "metadata": {},
     "output_type": "execute_result"
    }
   ],
   "source": [
    "#To see how many null values are there in the data\n",
    "\n",
    "df['race'].isnull().sum()"
   ]
  },
  {
   "cell_type": "markdown",
   "id": "374c2588",
   "metadata": {},
   "source": [
    "### Gender:"
   ]
  },
  {
   "cell_type": "code",
   "execution_count": 25,
   "id": "997e701a",
   "metadata": {},
   "outputs": [
    {
     "data": {
      "text/plain": [
       "0"
      ]
     },
     "execution_count": 25,
     "metadata": {},
     "output_type": "execute_result"
    }
   ],
   "source": [
    "#To see how many null values are there in the data\n",
    "df['gender'].isnull().sum()"
   ]
  },
  {
   "cell_type": "markdown",
   "id": "af6443eb",
   "metadata": {},
   "source": [
    "### Capital-gain:"
   ]
  },
  {
   "cell_type": "code",
   "execution_count": 28,
   "id": "da567e77",
   "metadata": {},
   "outputs": [],
   "source": [
    "# The value 99999 appears to be nan let's replace it with median of the data as it is very different from the data values.\n",
    "\n",
    "df['capital-gain'].replace(99999,df['capital-gain'].median(0),inplace=True)"
   ]
  },
  {
   "cell_type": "code",
   "execution_count": 27,
   "id": "93725bdb",
   "metadata": {},
   "outputs": [
    {
     "data": {
      "text/plain": [
       "0"
      ]
     },
     "execution_count": 27,
     "metadata": {},
     "output_type": "execute_result"
    }
   ],
   "source": [
    "#To see how many null values are there in the data\n",
    "\n",
    "df['capital-gain'].isnull().sum()"
   ]
  },
  {
   "cell_type": "markdown",
   "id": "7903047e",
   "metadata": {},
   "source": [
    "### Hours-per-week:"
   ]
  },
  {
   "cell_type": "code",
   "execution_count": 29,
   "id": "0a2b0543",
   "metadata": {},
   "outputs": [
    {
     "data": {
      "text/plain": [
       "0"
      ]
     },
     "execution_count": 29,
     "metadata": {},
     "output_type": "execute_result"
    }
   ],
   "source": [
    "#To see how many null values are there in the data\n",
    "\n",
    "df['hours-per-week'].isnull().sum()"
   ]
  },
  {
   "cell_type": "code",
   "execution_count": 31,
   "id": "f60b4c76",
   "metadata": {},
   "outputs": [],
   "source": [
    "#Imputing the missing values with median\n",
    "\n",
    "df['hours-per-week']=df['hours-per-week'].fillna(df['hours-per-week'].median())"
   ]
  },
  {
   "cell_type": "code",
   "execution_count": 32,
   "id": "54580283",
   "metadata": {},
   "outputs": [
    {
     "data": {
      "text/plain": [
       "0"
      ]
     },
     "execution_count": 32,
     "metadata": {},
     "output_type": "execute_result"
    }
   ],
   "source": [
    "#Again checking how many null values are there in the data\n",
    "\n",
    "df['hours-per-week'].isnull().sum()"
   ]
  },
  {
   "cell_type": "markdown",
   "id": "6a1ab276",
   "metadata": {},
   "source": [
    "### Native-country:"
   ]
  },
  {
   "cell_type": "code",
   "execution_count": 33,
   "id": "1f991124",
   "metadata": {},
   "outputs": [
    {
     "data": {
      "text/plain": [
       "'United-States'"
      ]
     },
     "execution_count": 33,
     "metadata": {},
     "output_type": "execute_result"
    }
   ],
   "source": [
    "# Since it is a categorical value . Finding mode value from the data\n",
    "\n",
    "df['native-country'].mode()[0]"
   ]
  },
  {
   "cell_type": "code",
   "execution_count": 34,
   "id": "c87d5818",
   "metadata": {},
   "outputs": [],
   "source": [
    "#Imputing null values with mode\n",
    "\n",
    "df['native-country'].replace(\"?\",'United-States',inplace=True)\n"
   ]
  },
  {
   "cell_type": "code",
   "execution_count": 36,
   "id": "b569157f",
   "metadata": {},
   "outputs": [
    {
     "data": {
      "text/plain": [
       "0"
      ]
     },
     "execution_count": 36,
     "metadata": {},
     "output_type": "execute_result"
    }
   ],
   "source": [
    "#again checking how many null values are there in the data\n",
    "\n",
    "df['native-country'].isnull().sum()"
   ]
  },
  {
   "cell_type": "markdown",
   "id": "74198b74",
   "metadata": {},
   "source": [
    "### Income:"
   ]
  },
  {
   "cell_type": "code",
   "execution_count": 35,
   "id": "07e4ce70",
   "metadata": {},
   "outputs": [
    {
     "data": {
      "text/plain": [
       "0"
      ]
     },
     "execution_count": 35,
     "metadata": {},
     "output_type": "execute_result"
    }
   ],
   "source": [
    "#To see how many null values are there in the data\n",
    "\n",
    "df['income'].isnull().sum()"
   ]
  },
  {
   "cell_type": "markdown",
   "id": "3d86fdd6",
   "metadata": {},
   "source": [
    "# Outlier Treatment:\n",
    "\n",
    "The data set contains alot of Outliers . We will find them in each attribute and treat them "
   ]
  },
  {
   "cell_type": "code",
   "execution_count": 37,
   "id": "3958a8bd",
   "metadata": {},
   "outputs": [],
   "source": [
    "# Using IQR to find the outlier information\n",
    "out=[]\n",
    "def iqr_outliers(df):\n",
    "    q1 = df.quantile(0.25)\n",
    "    q3 = df.quantile(0.75)\n",
    "    iqr = q3-q1\n",
    "    Lower_tail = q1 - 1.5 * iqr\n",
    "    Upper_tail = q3 + 1.5 * iqr\n",
    "    print('lower limit:',Lower_tail)\n",
    "    print('upper limit:',Upper_tail)\n",
    "    for i in df:\n",
    "        if i > Upper_tail or i < Lower_tail:\n",
    "            out.append(i)\n",
    "    print(\"Outliers:\",out)\n",
    "\n"
   ]
  },
  {
   "cell_type": "markdown",
   "id": "ddfe7a10",
   "metadata": {},
   "source": [
    "### Age:"
   ]
  },
  {
   "cell_type": "code",
   "execution_count": 38,
   "id": "3d7fe7d5",
   "metadata": {
    "scrolled": true
   },
   "outputs": [
    {
     "data": {
      "text/plain": [
       "<AxesSubplot:xlabel='age'>"
      ]
     },
     "execution_count": 38,
     "metadata": {},
     "output_type": "execute_result"
    },
    {
     "data": {
      "image/png": "[encoded data removed]",
      "text/plain": [
       "<Figure size 432x288 with 1 Axes>"
      ]
     },
     "metadata": {
      "needs_background": "light"
     },
     "output_type": "display_data"
    }
   ],
   "source": [
    "#Box Plot before outlier removing\n",
    "sns.boxplot(df['age'])"
   ]
  },
  {
   "cell_type": "code",
   "execution_count": 39,
   "id": "0f3c5699",
   "metadata": {},
   "outputs": [
    {
     "name": "stdout",
     "output_type": "stream",
     "text": [
      "lower limit: -2.0\n",
      "upper limit: 78.0\n",
      "Outliers: [79, 80, 90, 79, 80, 81, 82, 83, 81, 85, 80, 90, 81, 84, 81, 89, 81, 83, 81, 82, 80, 90, 81, 83, 80, 90, 90, 84, 80, 80, 80, 81, 90, 85, 90, 81, 81, 80, 80, 79, 81, 80, 88, 87, 90, 79, 83, 79, 80, 90, 79, 79, 81, 81, 90, 82, 90, 87, 81, 88, 80, 81, 80, 81, 90, 88, 89, 84, 80, 80, 83, 79, 81, 79, 90, 80, 81, 90, 88, 90, 90, 80, 90, 81, 82, 79, 81, 80, 83, 90, 90, 79, 81, 90, 90, 80, 90, 90, 79, 79, 84, 90, 80, 90, 81, 83, 84, 81, 79, 85, 82, 79, 80, 90, 90, 90, 84, 80, 90, 90, 79, 84, 90, 79, 90, 90, 90, 82, 81, 90, 84, 79, 81, 82, 81, 80, 90, 80, 84, 82, 79, 90, 84, 90, 83, 79, 81, 80, 79, 80, 79, 80, 90, 90, 80, 90, 90, 81, 83, 82, 90, 90, 81, 80, 80, 90, 79, 80, 82, 85, 80, 79, 90, 81, 79, 80, 79, 81, 82, 88, 90, 82, 88, 84, 83, 79, 86, 90, 90, 82, 83, 81, 79, 90, 80, 81, 79, 84, 84, 79, 90, 80, 81, 81, 81, 90, 87, 90, 80, 80, 82, 90, 90, 85, 82, 81]\n"
     ]
    }
   ],
   "source": [
    "# Finding outliers in the data\n",
    "age_outliers=iqr_outliers(df['age'])"
   ]
  },
  {
   "cell_type": "code",
   "execution_count": 40,
   "id": "dbc1762c",
   "metadata": {},
   "outputs": [
    {
     "data": {
      "image/png": "[encoded data removed]",
      "text/plain": [
       "<Figure size 432x288 with 1 Axes>"
      ]
     },
     "metadata": {
      "needs_background": "light"
     },
     "output_type": "display_data"
    }
   ],
   "source": [
    "def drop_outliers(df, field_name):\n",
    "    iqr = 1.5 * (np.percentile(df[field_name], 75) - np.percentile(df[field_name], 25))\n",
    "    df.drop(df[df[field_name] > (iqr + np.percentile(df[field_name], 75))].index, inplace=True)\n",
    "    df.drop(df[df[field_name] < (np.percentile(df[field_name], 25) - iqr)].index, inplace=True)\n",
    "drop_outliers(df, 'age')\n",
    "sns.boxplot(df['age'])\n",
    "plt.title(\"Box Plot after outlier removing\")\n",
    "plt.show()"
   ]
  },
  {
   "cell_type": "markdown",
   "id": "5aad64c5",
   "metadata": {},
   "source": [
    "### Final weight:"
   ]
  },
  {
   "cell_type": "code",
   "execution_count": 41,
   "id": "01a9d133",
   "metadata": {
    "scrolled": false
   },
   "outputs": [
    {
     "data": {
      "image/png": "[encoded data removed]",
      "text/plain": [
       "<Figure size 432x288 with 1 Axes>"
      ]
     },
     "metadata": {
      "needs_background": "light"
     },
     "output_type": "display_data"
    }
   ],
   "source": [
    "#Box Plot before outlier removing\n",
    "sns.boxplot(df['fnlwgt'])\n",
    "plt.title(\"Box Plot before outlier removing\")\n",
    "plt.show()"
   ]
  },
  {
   "cell_type": "code",
   "execution_count": 42,
   "id": "a4f62866",
   "metadata": {
    "scrolled": true
   },
   "outputs": [
    {
     "data": {
      "image/png": "[encoded data removed]",
      "text/plain": [
       "<Figure size 432x288 with 1 Axes>"
      ]
     },
     "metadata": {
      "needs_background": "light"
     },
     "output_type": "display_data"
    }
   ],
   "source": [
    "def drop_outliers(df, field_name):\n",
    "    iqr = 1.5 * (np.percentile(df[field_name], 75) - np.percentile(df[field_name], 25))\n",
    "    df.drop(df[df[field_name] > (iqr + np.percentile(df[field_name], 75))].index, inplace=True)\n",
    "    df.drop(df[df[field_name] < (np.percentile(df[field_name], 25) - iqr)].index, inplace=True)\n",
    "drop_outliers(df, 'fnlwgt')\n",
    "sns.boxplot(df['fnlwgt'])\n",
    "plt.title(\"Box Plot after outlier removing\")\n",
    "plt.show()"
   ]
  },
  {
   "cell_type": "markdown",
   "id": "cf270154",
   "metadata": {},
   "source": [
    "### Educational-num:"
   ]
  },
  {
   "cell_type": "code",
   "execution_count": 43,
   "id": "adf35c18",
   "metadata": {},
   "outputs": [
    {
     "data": {
      "image/png": "[encoded data removed]",
      "text/plain": [
       "<Figure size 432x288 with 1 Axes>"
      ]
     },
     "metadata": {
      "needs_background": "light"
     },
     "output_type": "display_data"
    }
   ],
   "source": [
    "sns.boxplot(df['educational-num'])\n",
    "plt.title(\"Box Plot before outlier removing\")\n",
    "plt.show()"
   ]
  },
  {
   "cell_type": "code",
   "execution_count": 44,
   "id": "5418c818",
   "metadata": {},
   "outputs": [
    {
     "data": {
      "image/png": "[encoded data removed]",
      "text/plain": [
       "<Figure size 432x288 with 1 Axes>"
      ]
     },
     "metadata": {
      "needs_background": "light"
     },
     "output_type": "display_data"
    }
   ],
   "source": [
    "def drop_outliers(df, field_name):\n",
    "    iqr = 1.5 * (np.percentile(df[field_name], 75) - np.percentile(df[field_name], 25))\n",
    "    df.drop(df[df[field_name] > (iqr + np.percentile(df[field_name], 75))].index, inplace=True)\n",
    "    df.drop(df[df[field_name] < (np.percentile(df[field_name], 25) - iqr)].index, inplace=True)\n",
    "drop_outliers(df, 'educational-num')\n",
    "sns.boxplot(df['educational-num'])\n",
    "plt.title(\"Box Plot after outlier removing\")\n",
    "plt.show()"
   ]
  },
  {
   "cell_type": "markdown",
   "id": "0763eaea",
   "metadata": {},
   "source": [
    "### Hours-per-week:"
   ]
  },
  {
   "cell_type": "code",
   "execution_count": 16,
   "id": "76aa1002",
   "metadata": {},
   "outputs": [
    {
     "data": {
      "image/png": "[encoded data removed]",
      "text/plain": [
       "<Figure size 432x288 with 1 Axes>"
      ]
     },
     "metadata": {
      "needs_background": "light"
     },
     "output_type": "display_data"
    }
   ],
   "source": [
    "sns.boxplot(df['hours-per-week'])\n",
    "plt.title(\"Box Plot before outlier removing\")\n",
    "plt.show()"
   ]
  },
  {
   "cell_type": "code",
   "execution_count": 17,
   "id": "1b28dce0",
   "metadata": {},
   "outputs": [
    {
     "name": "stdout",
     "output_type": "stream",
     "text": [
      "lower limit: 32.5\n",
      "upper limit: 52.5\n",
      "Outliers: [79, 80, 90, 79, 80, 81, 82, 83, 81, 85, 80, 90, 81, 84, 81, 89, 81, 83, 81, 82, 80, 90, 81, 83, 80, 90, 90, 84, 80, 80, 80, 81, 90, 85, 90, 81, 81, 80, 80, 79, 81, 80, 88, 87, 90, 79, 83, 79, 80, 90, 79, 79, 81, 81, 90, 82, 90, 87, 81, 88, 80, 81, 80, 81, 90, 88, 89, 84, 80, 80, 83, 79, 81, 79, 90, 80, 81, 90, 88, 90, 90, 80, 90, 81, 82, 79, 81, 80, 83, 90, 90, 79, 81, 90, 90, 80, 90, 90, 79, 79, 84, 90, 80, 90, 81, 83, 84, 81, 79, 85, 82, 79, 80, 90, 90, 90, 84, 80, 90, 90, 79, 84, 90, 79, 90, 90, 90, 82, 81, 90, 84, 79, 81, 82, 81, 80, 90, 80, 84, 82, 79, 90, 84, 90, 83, 79, 81, 80, 79, 80, 79, 80, 90, 90, 80, 90, 90, 81, 83, 82, 90, 90, 81, 80, 80, 90, 79, 80, 82, 85, 80, 79, 90, 81, 79, 80, 79, 81, 82, 88, 90, 82, 88, 84, 83, 79, 86, 90, 90, 82, 83, 81, 79, 90, 80, 81, 79, 84, 84, 79, 90, 80, 81, 81, 81, 90, 87, 90, 80, 80, 82, 90, 90, 85, 82, 81, 30, 30, 32, 30, 20, 20, 54, 60, 32, 18, 20, 24, 60, 54, 20, 30, 10, 56, 10, 25, 10, 18, 28, 16, 28, 20, 24, 60, 25, 30, 25, 60, 60, 22, 55, 30, 30, 30, 14, 32, 30, 16, 25, 60, 55, 8, 55, 54, 20, 55, 12, 32, 32, 60, 28, 60, 12, 32, 20, 70, 15, 20, 25, 30, 20, 75, 24, 60, 25, 55, 55, 32, 60, 16, 60, 84, 60, 25, 15, 60, 20, 55, 80, 30, 12, 84, 80, 60, 25, 25, 70, 60, 8, 68, 10, 15, 99, 55, 60, 16, 20, 25, 65, 55, 24, 70, 25, 20, 20, 55, 5, 60, 60, 20, 55, 65, 60, 20, 10, 75, 20, 32, 28, 30, 28, 60, 60, 55, 60, 10, 10, 18, 60, 72, 12, 60, 30, 60, 20, 60, 60, 25, 60, 25, 8, 60, 65, 30, 80, 20, 28, 55, 55, 60, 56, 30, 30, 53, 10, 60, 30, 25, 20, 20, 20, 25, 55, 20, 32, 10, 29, 32, 75, 24, 20, 20, 70, 55, 55, 30, 25, 10, 80, 60, 16, 25, 65, 60, 60, 96, 25, 55, 30, 28, 60, 55, 28, 8, 60, 60, 15, 20, 10, 30, 25, 90, 15, 5, 16, 60, 25, 25, 55, 10, 30, 18, 3, 16, 20, 30, 60, 30, 25, 55, 1, 55, 60, 30, 60, 30, 99, 60, 60, 80, 55, 30, 30, 55, 70, 32, 60, 56, 55, 60, 80, 67, 60, 60, 20, 25, 20, 25, 25, 20, 10, 24, 56, 18, 20, 60, 60, 30, 65, 20, 84, 60, 70, 16, 60, 30, 54, 76, 65, 99, 21, 20, 24, 55, 60, 7, 55, 60, 70, 20, 10, 16, 30, 25, 25, 30, 17, 55, 20, 24, 60, 30, 8, 60, 20, 24, 56, 32, 23, 56, 30, 56, 60, 30, 16, 2, 25, 58, 12, 25, 70, 25, 30, 55, 60, 55, 26, 15, 20, 20, 12, 30, 8, 60, 60, 12, 60, 15, 30, 15, 60, 4, 7, 20, 30, 60, 30, 20, 10, 15, 60, 15, 60, 2, 60, 30, 30, 17, 60, 55, 30, 23, 24, 17, 24, 15, 25, 60, 55, 78, 60, 20, 10, 70, 63, 28, 60, 25, 28, 20, 10, 60, 32, 55, 15, 25, 32, 60, 6, 55, 60, 55, 30, 25, 25, 20, 60, 60, 20, 60, 30, 5, 20, 23, 20, 16, 55, 20, 30, 10, 30, 60, 30, 30, 99, 15, 20, 70, 84, 65, 30, 70, 58, 15, 10, 70, 60, 18, 30, 60, 60, 60, 20, 60, 30, 70, 15, 28, 25, 80, 70, 60, 55, 5, 25, 55, 60, 65, 60, 55, 20, 14, 60, 55, 25, 20, 25, 60, 30, 3, 30, 16, 21, 8, 15, 60, 55, 80, 55, 20, 20, 70, 60, 24, 15, 30, 28, 20, 30, 20, 23, 30, 56, 60, 72, 32, 60, 25, 60, 56, 25, 60, 60, 80, 32, 25, 30, 65, 60, 16, 65, 12, 80, 70, 10, 20, 20, 70, 56, 30, 24, 70, 65, 20, 30, 55, 15, 20, 72, 15, 8, 25, 55, 99, 32, 20, 20, 25, 60, 60, 92, 20, 10, 20, 8, 10, 24, 30, 25, 8, 18, 8, 15, 60, 20, 20, 20, 30, 30, 31, 12, 3, 18, 60, 80, 25, 60, 60, 84, 21, 55, 15, 20, 25, 30, 60, 20, 55, 65, 30, 55, 6, 25, 60, 30, 20, 60, 55, 60, 70, 12, 70, 30, 10, 55, 60, 20, 30, 25, 20, 55, 60, 15, 7, 30, 30, 8, 77, 99, 20, 27, 20, 32, 25, 60, 53, 60, 20, 24, 30, 10, 60, 60, 30, 29, 5, 20, 25, 70, 55, 80, 60, 25, 60, 32, 5, 32, 10, 55, 30, 20, 30, 16, 10, 60, 15, 25, 12, 60, 18, 20, 12, 15, 20, 20, 32, 32, 60, 60, 56, 60, 32, 55, 55, 84, 30, 12, 20, 25, 32, 24, 28, 85, 60, 20, 60, 53, 75, 8, 60, 16, 1, 60, 30, 20, 4, 20, 20, 60, 6, 99, 55, 24, 60, 8, 60, 30, 25, 30, 60, 55, 23, 5, 8, 20, 20, 30, 32, 60, 30, 10, 20, 15, 21, 65, 60, 25, 60, 60, 20, 70, 4, 25, 75, 60, 25, 25, 60, 55, 25, 30, 2, 25, 20, 30, 10, 20, 20, 30, 20, 60, 30, 60, 65, 60, 20, 55, 32, 70, 18, 20, 13, 70, 24, 65, 60, 15, 29, 60, 10, 20, 25, 30, 84, 24, 15, 30, 20, 26, 30, 14, 10, 56, 20, 55, 30, 5, 20, 30, 80, 8, 32, 99, 30, 75, 25, 60, 15, 20, 25, 20, 25, 19, 70, 98, 30, 55, 20, 8, 20, 60, 20, 55, 60, 10, 15, 60, 30, 55, 25, 18, 80, 20, 55, 10, 55, 84, 20, 30, 55, 6, 55, 10, 65, 60, 15, 60, 55, 60, 77, 10, 32, 20, 25, 75, 30, 62, 16, 5, 55, 18, 20, 30, 24, 96, 32, 30, 60, 60, 8, 99, 20, 30, 16, 70, 18, 60, 20, 30, 16, 10, 15, 72, 25, 65, 20, 20, 65, 60, 30, 23, 20, 15, 24, 65, 60, 32, 20, 25, 60, 70, 75, 70, 70, 4, 80, 30, 30, 30, 55, 60, 90, 20, 60, 20, 60, 20, 55, 60, 15, 72, 20, 20, 78, 60, 23, 20, 70, 55, 30, 60, 25, 30, 30, 8, 84, 66, 8, 20, 10, 55, 30, 16, 57, 60, 18, 30, 30, 30, 60, 15, 21, 20, 60, 60, 25, 65, 15, 22, 30, 30, 30, 60, 65, 30, 60, 25, 80, 25, 90, 8, 55, 28, 60, 15, 70, 25, 32, 32, 60, 12, 20, 30, 25, 20, 15, 30, 25, 25, 25, 8, 21, 11, 25, 20, 86, 26, 65, 30, 30, 30, 55, 80, 60, 18, 15, 4, 75, 32, 25, 25, 15, 30, 72, 60, 10, 65, 20, 60, 60, 55, 55, 55, 70, 12, 60, 24, 20, 11, 15, 30, 56, 30, 22, 59, 60, 4, 25, 25, 60, 18, 20, 32, 60, 20, 60, 10, 55, 10, 16, 14, 65, 30, 30, 9, 20, 60, 25, 60, 72, 16, 60, 30, 30, 55, 84, 5, 30, 30, 55, 80, 25, 18, 25, 60, 10, 30, 60, 55, 70, 99, 70, 20, 27, 70, 25, 28, 30, 65, 60, 60, 20, 20, 25, 20, 30, 24, 70, 30, 8, 16, 65, 25, 16, 20, 5, 30, 16, 10, 70, 26, 20, 14, 53, 60, 55, 60, 60, 70, 30, 60, 20, 20, 60, 55, 15, 18, 32, 30, 8, 55, 18, 30, 28, 8, 25, 80, 30, 16, 20, 55, 56, 75, 10, 30, 60, 25, 30, 10, 6, 55, 32, 66, 20, 20, 20, 60, 20, 12, 60, 20, 5, 10, 15, 24, 18, 24, 58, 25, 60, 12, 25, 30, 20, 9, 15, 85, 24, 55, 55, 32, 55, 20, 18, 15, 20, 25, 24, 24, 60, 15, 20, 53, 12, 15, 23, 20, 4, 16, 65, 55, 30, 70, 32, 70, 24, 30, 60, 20, 29, 12, 56, 32, 20, 80, 25, 20, 60, 10, 60, 30, 60, 12, 16, 30, 80, 20, 60, 16, 25, 24, 30, 65, 30, 25, 60, 32, 60, 60, 6, 20, 25, 55, 25, 20, 30, 16, 20, 8, 20, 30, 14, 55, 60, 8, 10, 60, 20, 25, 60, 24, 70, 8, 65, 20, 75, 15, 20, 10, 30, 30, 25, 60, 60, 15, 5, 65, 18, 15, 55, 80, 25, 10, 20, 55, 28, 15, 80, 22, 55, 60, 63, 55, 60, 55, 20, 27, 3, 55, 60, 20, 55, 2, 20, 32, 30, 10, 6, 30, 60, 70, 32, 4, 32, 60, 8, 60, 60, 60, 30, 60, 64, 60, 32, 55, 70, 80, 55, 55, 20, 32, 60, 20, 15, 20, 12, 73, 60, 55, 58, 70, 55, 15, 15, 60, 60, 60, 99, 75, 10, 65, 30, 4, 11, 20, 80, 30, 56, 60, 15, 60, 84, 20, 2, 15, 70, 20, 25, 60, 4, 20, 20, 16, 21, 20, 30, 20, 30, 20, 22, 10, 75, 10, 56, 60, 30, 60, 60, 55, 99, 60, 12, 55, 32, 25, 17, 20, 56, 16, 20, 4, 20, 60, 60, 32, 55, 32, 30, 55, 30, 24, 28, 20, 12, 12, 20, 55, 30, 25, 55, 20, 24, 32, 15, 30, 99, 20, 60, 30, 20, 16, 15, 20, 32, 20, 20, 99, 15, 20, 25, 60, 60, 12, 30, 60, 30, 15, 32, 20, 55, 70, 30, 60, 20, 10, 15, 20, 55, 55, 32, 60, 30, 60, 60, 10, 15, 20, 60, 8, 65, 99, 60, 55, 30, 20, 90, 61, 60, 25, 25, 60, 20, 30, 60, 60, 10, 10, 20, 24, 30, 15, 20, 8, 55, 60, 30, 30, 10, 56, 30, 32, 70, 8, 55, 25, 25, 60, 55, 30, 15, 60, 60, 80, 20, 16, 30, 55, 54, 55, 10, 75, 60, 55, 20, 30, 20, 27, 20, 80, 70, 2, 70, 55, 60, 30, 20, 27, 60, 30, 84, 32, 55, 60, 25, 30, 55, 20, 25, 15, 16, 70, 60, 20, 25, 58, 60, 16, 99, 25, 18, 60, 25, 75, 10, 11, 8, 24, 15, 72, 99, 8, 30, 60, 8, 60, 18, 70, 31, 55, 16, 5, 60, 25, 16, 20, 65, 60, 25, 60, 60, 18, 60, 60, 60, 25, 55, 10, 64, 12, 25, 30, 15, 15, 30, 25, 65, 20, 20, 30, 60, 20, 55, 55, 20, 20, 72, 15, 60, 75, 30, 60, 60, 55, 30, 55, 25, 70, 30, 60, 20, 99, 72, 80, 70, 55, 55, 55, 30, 24, 20, 88, 55, 20, 30, 24, 60, 70, 30, 55, 20, 60, 27, 15, 55, 30, 30, 32, 8, 60, 55, 54, 10, 60, 30, 60, 10, 30, 20, 60, 16, 24, 30, 25, 5, 24, 28, 55, 10, 55, 30, 20, 25, 20, 30, 12, 20, 30, 8, 2, 66, 55, 80, 80, 90, 5, 60, 30, 32, 55, 55, 15, 15, 25, 6, 12, 72, 32, 10, 30, 56, 20, 20, 60, 65, 79, 32, 32, 30, 65, 5, 60, 72, 20, 25, 60, 20, 4, 20, 60, 60, 60, 60, 78, 20, 55, 20, 10, 20, 25, 60, 60, 60, 30, 10, 25, 23, 84, 55, 20, 60, 64, 30, 20, 60, 70, 18, 30, 20, 24, 60, 20, 60, 8, 18, 8, 30, 53, 20, 55, 6, 55, 31, 75, 60, 20, 70, 75, 10, 25, 80, 30, 65, 65, 80, 60, 30, 60, 10, 60, 24, 12, 60, 30, 70, 84, 18, 32, 20, 30, 32, 70, 60, 20, 60, 24, 20, 55, 60, 55, 3, 15, 10, 60, 16, 75, 60, 60, 20, 4, 55, 28, 24, 58, 28, 20, 4, 24, 25, 24, 1, 17, 60, 10, 70, 30, 15, 60, 20, 30, 5, 55, 60, 55, 20, 23, 24, 84, 55, 30, 55, 55, 99, 30, 31, 65, 56, 60, 53, 60, 55, 60, 72, 65, 20, 30, 8, 89, 25, 60, 60, 70, 10, 98, 32, 30, 30, 20, 56, 5, 80, 55, 21, 60, 15, 60, 32, 80, 20, 60, 90, 55, 56, 56, 55, 60, 20, 60, 60, 60, 32, 30, 60, 60, 25, 20, 15, 12, 72, 60, 65, 18, 20, 32, 30, 60, 60, 28, 22, 20, 25, 30, 55, 30, 15, 20, 55, 55, 24, 32, 30, 60, 18, 55, 60, 60, 30, 30, 70, 24, 20, 4, 18, 30, 70, 20, 80, 20, 99, 80, 25, 32, 55, 25, 24, 54, 25, 20, 5, 12, 53, 60, 15, 30, 13, 72, 15, 15, 55, 20, 32, 28, 12, 55, 55, 70, 20, 20, 20, 30, 24, 30, 5, 60, 20, 30, 55, 53, 60, 60, 21, 60, 15, 15, 25, 30, 9, 24, 55, 60, 12, 60, 55, 20, 20, 25, 20, 27, 70, 60, 25, 65, 60, 55, 60, 30, 20, 25, 56, 60, 20, 20, 16, 30, 60, 30, 15, 20, 20, 20, 20, 10, 32, 14, 20, 20, 7, 28, 20, 60, 30, 20, 20, 2, 70, 60, 20, 10, 30, 55, 20, 15, 60, 25, 30, 30, 70, 30, 10, 55, 12, 60, 99, 30, 60, 99, 25, 60, 30, 60, 32, 60, 20, 70, 20, 32, 55, 56, 12, 13, 60, 16, 15, 63, 66, 20, 80, 20, 20, 70, 24, 30, 25, 65, 16, 30, 10, 24, 20, 60, 80, 20, 20, 60, 72, 60, 30, 55, 12, 15, 30, 8, 20, 32, 70, 30, 20, 4, 15, 30, 20, 30, 60, 32, 30, 2, 80, 20, 15, 65, 55, 12, 65, 60, 55, 80, 32, 60, 30, 60, 11, 55, 10, 15, 30, 20, 25, 25, 20, 20, 30, 55, 18, 60, 12, 23, 60, 20, 72, 60, 60, 21, 60, 70, 57, 30, 30, 80, 20, 32, 20, 60, 25, 60, 16, 60, 60, 30, 55, 20, 20, 12, 6, 60, 16, 15, 30, 30, 25, 65, 28, 55, 55, 20, 70, 15, 70, 32, 60, 32, 60, 60, 20, 20, 55, 16, 20, 60, 20, 60, 55, 99, 20, 23, 55, 20, 55, 32, 18, 55, 60, 55, 15, 60, 55, 32, 70, 60, 20, 65, 20, 60, 20, 25, 55, 60, 30, 25, 53, 65, 20, 55, 55, 80, 20, 20, 55, 80, 22, 30, 30, 60, 20, 70, 90, 20, 30, 20, 55, 30, 25, 15, 20, 54, 8, 60, 25, 60, 8, 80, 30, 28, 78, 56, 60, 30, 55, 20, 30, 60, 60, 30, 20, 30, 20, 84, 70, 3, 22, 60, 15, 60, 20, 25, 55, 80, 60, 60, 21, 60, 20, 55, 15, 20, 20, 16, 32, 30, 28, 80, 28, 32, 70, 25, 60, 60, 20, 20, 60, 32, 32, 30, 30, 18, 30, 30, 70, 20, 20, 10, 30, 55, 16, 60, 60, 60, 20, 70, 25, 32, 32, 80, 23, 10, 25, 30, 20, 60, 60, 60, 99, 15, 55, 20, 20, 55, 70, 65, 24, 30, 30, 25, 22, 30, 60, 12, 30, 6, 60, 30, 30, 60, 28, 30, 24, 60, 99, 30, 99, 80, 25, 8, 60, 60, 55, 55, 15, 60, 14, 20, 54, 55, 30, 60, 19, 12, 10, 24, 15, 20, 25, 25, 60, 60, 62, 19, 75, 30, 15, 75, 20, 20, 20, 60, 55, 30, 65, 24, 23, 60, 60, 12, 65, 55, 15, 65, 30, 20, 60, 8, 18, 56, 55, 20, 99, 10, 16, 25, 10, 70, 65, 60, 55, 60, 20, 20, 60, 80, 55, 30, 30, 55, 20, 11, 20, 25, 32, 20, 15, 15, 20, 13, 25, 55, 30, 60, 20, 55, 10, 28, 30, 15, 5, 20, 32, 65, 30, 30, 25, 10, 25, 60, 60, 65, 30, 25, 15, 32, 8, 55, 30, 70, 70, 6, 32, 30, 20, 16, 20, 30, 20, 20, 30, 20, 20, 20, 20, 3, 30, 60, 15, 24, 72, 60, 17, 60, 55, 30, 8, 60, 72, 30, 4, 60, 90, 55, 30, 3, 80, 32, 20, 85, 75, 16, 20, 30, 25, 20, 20, 20, 12, 20, 30, 7, 16, 16, 20, 84, 68, 70, 32, 20, 70, 15, 20, 60, 30, 7, 60, 20, 4, 20, 30, 20, 12, 55, 18, 55, 55, 30, 60, 15, 28, 3, 55, 6, 60, 60, 60, 70, 5, 10, 72, 65, 55, 8, 20, 60, 10, 19, 15, 80, 99, 24, 16, 84, 20, 25, 65, 65, 60, 55, 16, 12, 60, 20, 25, 22, 60, 2, 80, 4, 60, 30, 30, 20, 10, 99, 20, 30, 20, 32, 30, 20, 32, 15, 24, 18, 18, 16, 20, 16, 70, 10, 55, 60, 16, 26, 8, 16, 30, 20, 60, 60, 32, 70, 15, 56, 15, 20, 55, 15, 30, 20, 20, 12, 25, 20, 1, 60, 20, 14, 30, 12, 30, 18, 15, 30, 60, 4, 20, 15, 32, 30, 18, 55, 55, 30, 55, 28, 30, 60, 15, 10, 25, 14, 20, 30, 24, 60, 10, 25, 30, 21, 60, 20, 30, 55, 24, 25, 55, 32, 20, 20, 55, 20, 11, 22, 25, 25, 65, 15, 65, 20, 55, 30, 8, 25, 60, 65, 15, 20, 30, 30, 2, 55, 70, 24, 61, 30, 60, 16, 60, 30, 9, 8, 8, 60, 60, 30, 55, 20, 18, 32, 25, 20, 99, 60, 25, 60, 55, 29, 20, 60, 15, 55, 96, 20, 55, 60, 30, 10, 60, 30, 20, 12, 28, 84, 15, 65, 60, 55, 55, 65, 12, 65, 60, 60, 20, 15, 20, 20, 30, 60, 30, 30, 60, 70, 30, 70, 70, 15, 55, 25, 70, 22, 99, 6, 60, 20, 18, 65, 30, 60, 30, 60, 55, 28, 16, 30, 12, 16, 60, 25, 60, 20, 15, 25, 60, 60, 60, 30, 25, 10, 60, 32, 6, 32, 60, 20, 30, 25, 20, 16, 60, 8, 15, 55, 60, 32, 66, 26, 24, 55, 24, 55, 60, 20, 20, 60, 60, 60, 55, 20, 80, 60, 60, 24, 11, 1, 70, 53, 60, 28, 77, 10, 99, 72, 65, 25, 32, 20, 60, 65, 60, 20, 60, 55, 20, 15, 70, 60, 60, 30, 25, 16, 55, 16, 60, 12, 25, 30, 30, 15, 6, 32, 18, 20, 60, 23, 30, 55, 32, 30, 60, 25, 55, 60, 70, 60, 60, 30, 60, 55, 32, 30, 10, 30, 30, 55, 25, 60, 18, 21, 20, 65, 20, 15, 15, 75, 30, 25, 56, 10, 20, 12, 30, 70, 25, 55, 24, 99, 16, 10, 20, 30, 32, 12, 60, 10, 17, 55, 20, 32, 20, 2, 60, 99, 10, 12, 20, 25, 25, 60, 60, 20, 30, 20, 16, 60, 55, 30, 65, 20, 20, 60, 60, 30, 55, 32, 55, 20, 60, 21, 25, 20, 30, 5, 55, 24, 20, 17, 32, 55, 65, 25, 20, 20, 30, 16, 20, 70, 25, 30, 28, 60, 20, 5, 27, 55, 60, 60, 60, 32, 16, 65, 10, 75, 30, 30, 5, 60, 60, 60, 60, 55, 53, 25, 55, 60, 60, 1, 25, 60, 20, 20, 60, 20, 60, 60, 60, 65, 20, 30, 63, 55, 60, 60, 24, 60, 23, 30, 60, 6, 25, 15, 20, 55, 20, 10, 84, 20, 54, 55, 25, 15, 80, 20, 10, 20, 55, 60, 90, 20, 30, 30, 20, 60, 10, 30, 55, 70, 20, 30, 55, 3, 60, 16, 18, 54, 30, 26, 30, 30, 15, 30, 15, 20, 5, 20, 20, 30, 60, 20, 24, 65, 60, 72, 32, 24, 54, 22, 99, 60, 55, 55, 55, 99, 32, 15, 60, 25, 60, 65, 27, 15, 32, 20, 70, 20, 20, 75, 15, 15, 30, 30, 20, 27, 10, 20, 60, 15, 24, 30, 55, 60, 30, 10, 60, 30, 60, 20, 85, 65, 70, 15, 30, 30, 15, 99, 65, 20, 30, 28, 60, 65, 64, 65, 30, 55, 55, 30, 25, 55, 60, 60, 15, 54, 60, 20, 21, 15, 30, 25, 15, 8, 32, 60, 30, 20, 30, 60, 20, 60, 56, 75, 30, 30, 5, 20, 30, 55, 20, 30, 20, 7, 55, 23, 60, 30, 3, 60, 55, 3, 32, 25, 28, 15, 25, 60, 60, 30, 30, 55, 56, 65, 65, 99, 24, 60, 20, 25, 15, 10, 70, 60, 60, 60, 65, 60, 8, 60, 10, 55, 20, 60, 3, 32, 64, 20, 60, 15, 20, 20, 30, 18, 25, 14, 7, 20, 10, 22, 60, 23, 80, 30, 20, 30, 80, 8, 20, 15, 56, 28, 20, 12, 55, 55, 20, 30, 55, 55, 99, 55, 25, 25, 20, 7, 12, 30, 20, 30, 56, 10, 30, 70, 55, 60, 55, 30, 20, 32, 10, 30, 32, 20, 72, 9, 20, 30, 2, 15, 60, 30, 60, 20, 30, 20, 16, 15, 20, 30, 72, 25, 15, 30, 30, 75, 30, 10, 20, 14, 99, 30, 55, 30, 20, 30, 10, 60, 24, 99, 60, 60, 80, 70, 60, 64, 55, 20, 25, 30, 12, 20, 20, 74, 20, 20, 55, 24, 7, 30, 60, 12, 20, 60, 15, 58, 20, 30, 22, 26, 13, 55, 4, 10, 15, 55, 70, 20, 20, 55, 4, 20, 28, 27, 25, 60, 24, 55, 65, 65, 70, 21, 55, 30, 20, 55, 20, 4, 30, 24, 80, 30, 30, 55, 60, 60, 60, 8, 60, 55, 60, 75, 60, 7, 8, 20, 55, 15, 60, 15, 20, 15, 58, 10, 70, 12, 12, 72, 60, 20, 60, 70, 30, 65, 18, 30, 60, 30, 65, 24, 20, 10, 99, 15, 25, 24, 24, 30, 25, 65, 55, 60, 99, 30, 30, 25, 15, 2, 17, 75, 20, 55, 20, 70, 60, 20, 30, 10, 80, 20, 25, 20, 30, 25, 55, 60, 30, 25, 60, 25, 30, 24, 56, 60, 20, 12, 16, 16, 10, 25, 30, 55, 30, 20, 15, 2, 80, 86, 60, 24, 20, 60, 20, 20, 10, 80, 24, 60, 60, 30, 20, 14, 55, 32, 56, 65, 60, 24, 30, 60, 16, 16, 6, 20, 60, 60, 25, 60, 31, 7, 16, 20, 11, 60, 60, 3, 20, 60, 62, 60, 10, 20, 30, 65, 60, 30, 55, 30, 20, 60, 60, 55, 25, 60, 12, 4, 30, 55, 70, 20, 70, 30, 55, 56, 32, 60, 65, 25, 80, 20, 20, 25, 18, 20, 55, 60, 20, 30, 20, 15, 55, 25, 28, 2, 30, 28, 10, 28, 25, 30, 64, 10, 60, 30, 55, 15, 70, 20, 70, 55, 65, 25, 30, 60, 32, 65, 60, 73, 25, 84, 20, 30, 20, 30, 30, 55, 25, 72, 55, 60, 20, 60, 68, 15, 25, 60, 25, 55, 63, 80, 60, 25, 70, 15, 20, 18, 25, 70, 15, 10, 60, 65, 25, 24, 20, 16, 53, 3, 75, 5, 30, 20, 60, 30, 18, 60, 30, 60, 30, 70, 60, 75, 65, 30, 28, 25, 60, 15, 12, 25, 70, 70, 55, 60, 30, 60, 70, 25, 21, 60, 55, 15, 60, 30, 62, 32, 20, 60, 60, 14, 60, 60, 32, 60, 10, 15, 15, 20, 70, 24, 30, 20, 60, 26, 68, 19, 8, 70, 60, 20, 55, 60, 25, 32, 60, 15, 20, 55, 84, 65, 55, 60, 60, 16, 60, 32, 24, 16, 20, 15, 99, 20, 20, 21, 30, 80, 60, 60, 60, 60, 55, 65, 30, 15, 55, 99, 15, 32, 30, 15, 20, 10, 60, 32, 30, 17, 20, 60, 30, 70, 16, 30, 20, 20, 80, 15, 30, 30, 10, 30, 55, 17, 60, 30, 15, 20, 20, 32, 60, 60, 4, 30, 30, 8, 30, 60, 10, 22, 55, 20, 30, 16, 75, 24, 84, 30, 15, 30, 56, 30, 53, 30, 20, 16, 30, 24, 4, 24, 72, 58, 20, 21, 60, 25, 28, 60, 28, 7, 20, 15, 30, 20, 2, 32, 25, 9, 15, 55, 72, 60, 60, 30, 30, 6, 8, 70, 31, 15, 10, 25, 25, 30, 22, 20, 80, 15, 25, 30, 3, 30, 65, 60, 20, 60, 20, 60, 20, 55, 6, 29, 20, 60, 67, 80, 55, 20, 7, 59, 60, 24, 55, 60, 25, 9, 20, 60, 30, 20, 70, 2, 32, 56, 70, 10, 15, 60, 70, 32, 70, 18, 20, 25, 80, 20, 10, 75, 8, 30, 60, 55, 60, 72, 30, 20, 70, 20, 16, 30, 12, 60, 70, 60, 25, 54, 20, 30, 55, 15, 99, 54, 9, 26, 2, 10, 32, 10, 60, 25, 30, 20, 30, 30, 60, 32, 20, 55, 60, 28, 70, 32, 32, 9, 55, 20, 20, 65, 80, 8, 14, 30, 55, 65, 15, 12, 75, 24, 65, 90, 25, 25, 25, 30, 20, 20, 16, 20, 60, 30, 70, 65, 4, 72, 75, 20, 25, 84, 32, 55, 30, 65, 25, 20, 60, 65, 25, 20, 30, 30, 30, 20, 55, 70, 5, 60, 15, 15, 55, 30, 20, 20, 20, 29, 16, 25, 60, 20, 70, 15, 55, 20, 74, 25, 32, 55, 15, 55, 25, 27, 92, 30, 55, 15, 75, 20, 60, 60, 15, 65, 24, 30, 30, 30, 10, 70, 80, 28, 30, 28, 20, 15, 17, 32, 30, 20, 30, 30, 60, 32, 80, 25, 30, 16, 55, 60, 60, 24, 16, 60, 64, 30, 54, 55, 20, 55, 15, 20, 32, 15, 70, 20, 60, 24, 60, 75, 56, 7, 10, 30, 20, 75, 60, 25, 70, 20, 25, 20, 60, 28, 8, 60, 30, 15, 55, 16, 69, 20, 10, 55, 16, 55, 20, 20, 18, 15, 99, 25, 30, 14, 32, 20, 15, 60, 20, 32, 30, 20, 10, 20, 20, 25, 32, 15, 70, 20, 20, 16, 25, 25, 3, 60, 30, 55, 12, 24, 60, 25, 84, 20, 8, 10, 60, 60, 65, 84, 55, 55, 20, 60, 20, 15, 60, 80, 75, 55, 16, 60, 60, 14, 20, 8, 72, 65, 20, 54, 62, 90, 60, 65, 20, 20, 15, 60, 65, 30, 10, 60, 30, 20, 60, 15, 20, 20, 16, 20, 80, 30, 25, 60, 60, 20, 8, 55, 32, 32, 60, 13, 16, 80, 30, 60, 20, 60, 80, 15, 30, 60, 55, 60, 58, 32, 70, 2, 22, 25, 60, 60, 32, 25, 56, 60, 28, 60, 60, 20, 30, 30, 24, 24, 60, 16, 20, 25, 12, 65, 1, 28, 24, 55, 60, 12, 55, 20, 10, 20, 55, 70, 20, 20, 60, 30, 20, 30, 60, 12, 75, 24, 24, 98, 15, 60, 56, 16, 60, 80, 25, 54, 15, 24, 10, 15, 55, 60, 30, 20, 8, 25, 25, 30, 24, 55, 15, 15, 10, 10, 30, 25, 6, 16, 55, 64, 25, 24, 60, 30, 18, 60, 72, 25, 60, 28, 5, 55, 60, 20, 60, 16, 60, 24, 6, 30, 20, 20, 20, 60, 60, 25, 20, 20, 8, 20, 24, 80, 58, 9, 8, 20, 32, 55, 60, 12, 70, 25, 30, 24, 60, 80, 25, 28, 21, 60, 20, 60, 32, 55, 20, 24, 55, 60, 64, 26, 60, 60, 14, 60, 60, 55, 15, 20, 32, 15, 60, 25, 20, 10, 16, 5, 55, 30, 20, 20, 60, 30, 65, 25, 15, 60, 20, 59, 24, 15, 20, 25, 72, 20, 20, 18, 70, 55, 30, 55, 24, 56, 60, 55, 30, 16, 60, 20, 30, 20, 20, 30, 20, 75, 60, 60, 25, 15, 24, 6, 20, 18, 55, 56, 20, 70, 15, 28, 60, 7, 30, 70, 60, 15, 28, 60, 30, 65, 55, 20, 15, 10, 30, 60, 20, 25, 5, 60, 55, 10, 99, 25, 30, 20, 30, 70, 70, 20, 60, 20, 20, 70, 20, 30, 55, 58, 65, 60, 16, 25, 32, 30, 30, 55, 20, 1, 75, 30, 8, 60, 55, 20, 55, 75, 32, 80, 80, 60, 20, 15, 20, 60, 28, 60, 20, 25, 60, 25, 25, 55, 70, 60, 53, 20, 60, 60, 30, 54, 54, 28, 60, 20, 8, 99, 30, 30, 30, 65, 60, 25, 60, 55, 80, 30, 60, 62, 20, 16, 72, 60, 60, 30, 30, 25, 59, 12, 20, 60, 60, 1, 80, 7, 10, 65, 57, 60, 25, 55, 30, 24, 20, 20, 60, 16, 16, 30, 60, 60, 55, 24, 6, 30, 55, 60, 70, 5, 30, 60, 25, 32, 78, 60, 20, 90, 15, 60, 16, 60, 66, 30, 2, 60, 75, 60, 5, 11, 24, 25, 25, 60, 65, 55, 80, 55, 65, 58, 30, 9, 55, 15, 12, 30, 70, 30, 24, 30, 65, 8, 6, 16, 16, 30, 8, 20, 16, 10, 60, 60, 60, 20, 30, 30, 60, 70, 60, 21, 70, 24, 60, 10, 20, 55, 20, 30, 16, 18, 60, 60, 20, 12, 60, 60, 80, 20, 60, 15, 15, 70, 30, 90, 16, 72, 32, 60, 55, 60, 60, 70, 10, 20, 20, 20, 30, 60, 56, 84, 30, 55, 10, 24, 30, 30, 60, 8, 24, 54, 15, 20, 25, 65, 10, 60, 99, 15, 16, 55, 55, 60, 70, 18, 55, 80, 25, 60, 25, 6, 20, 30, 55, 20, 3, 70, 60, 55, 30, 70, 20, 80, 60, 10, 16, 60, 70, 10, 30, 20, 20, 30, 32, 30, 60, 17, 60, 16, 4, 55, 60, 10, 55, 30, 5, 53, 16, 15, 70, 60, 25, 28, 55, 30, 70, 65, 17, 55, 8, 15, 30, 68, 65, 30, 18, 70, 60, 60, 12, 60, 30, 8, 22, 55, 18, 55, 25, 60, 10, 10, 70, 20, 27, 55, 25, 24, 15, 15, 20, 60, 60, 60, 60, 60, 20, 60, 90, 65, 20, 25, 25, 60, 30, 30, 25, 3, 70, 60, 30, 10, 30, 65, 55, 54, 65, 25, 30, 60, 84, 25, 24, 20, 3, 25, 25, 30, 20, 8, 55, 54, 60, 30, 10, 5, 8, 20, 25, 60, 60, 55, 25, 6, 60, 60, 30, 56, 25, 25, 65, 8, 70, 60, 21, 15, 20, 20, 30, 13, 65, 30, 65, 25, 60, 20, 3, 24, 55, 27, 55, 25, 30, 20, 20, 60, 70, 60, 20, 60, 30, 15, 25, 55, 24, 60, 56, 70, 24, 28, 15, 58, 5, 70, 55, 15, 20, 25, 30, 20, 55, 25, 20, 30, 32, 10, 55, 11, 20, 65, 60, 84, 30, 55, 18, 60, 70, 60, 60, 30, 60, 55, 60, 25, 60, 20, 10, 30, 30, 20, 20, 24, 30, 55, 60, 55, 60, 20, 15, 60, 60, 20, 30, 58, 55, 25, 30, 60, 16, 27, 30, 75, 8, 30, 60, 98, 60, 70, 5, 2, 25, 20, 16, 10, 55, 22, 30, 80, 85, 20, 56, 30, 30, 30, 25, 60, 30, 32, 30, 8, 25, 30, 60, 65, 32, 60, 75, 25, 60, 60, 6, 55, 60, 9, 15, 30, 30, 55, 56, 60, 20, 15, 30, 30, 60, 15, 60, 30, 10, 56, 25, 84, 70, 65, 20, 20, 56, 30, 55, 60, 20, 55, 30, 65, 15, 25, 70, 60, 60, 60, 60, 60, 30, 65, 18, 55, 17, 55, 60, 70, 65, 80, 55, 20, 55, 60, 30, 10, 25, 20, 72, 60, 28, 3, 30, 55, 30, 60, 54, 16, 60, 62, 84, 26, 25, 20, 32, 25, 70, 60, 54, 60, 20, 60, 20, 30, 60, 18, 30, 60, 25, 32, 20, 59, 60, 15, 32, 55, 12, 20, 25, 55, 20, 55, 20, 60, 20, 16, 15, 60, 20, 25, 65, 20, 55, 24, 28, 25, 60, 16, 60, 20, 16, 60, 32, 55, 12, 60, 20, 99, 25, 65, 32, 12, 32, 30, 20, 25, 20, 16, 20, 15, 27, 56, 27, 60, 60, 20, 32, 60, 60, 30, 60, 60, 75, 30, 60, 20, 30, 30, 5, 30, 60, 20, 60, 20, 22, 55, 60, 5, 28, 30, 8, 30, 30, 30, 30, 80, 20, 55, 30, 30, 30, 20, 56, 3, 20, 66, 32, 60, 75, 20, 10, 30, 10, 30, 20, 16, 24, 30, 60, 66, 70, 24, 30, 20, 72, 20, 60, 60, 30, 25, 60, 25, 24, 24, 20, 55, 20, 84, 30, 14, 60, 60, 30, 20, 30, 60, 21, 62, 10, 24, 20, 8, 56, 60, 60, 20, 30, 25, 14, 15, 55, 15, 20, 6, 60, 12, 60, 70, 15, 20, 60, 20, 60, 22, 20, 60, 16, 24, 99, 60, 30, 84, 54, 78, 20, 30, 20, 15, 20, 60, 20, 12, 20, 60, 55, 30, 28, 60, 20, 20, 20, 65, 18, 60, 30, 20, 10, 70, 56, 25, 72, 10, 10, 5, 30, 20, 25, 25, 60, 30, 3, 30, 30, 75, 70, 24, 55, 25, 16, 20, 20, 20, 85, 30, 56, 99, 12, 25, 80, 20, 27, 30, 80, 20, 60, 84, 65, 12, 60, 20, 10, 20, 70, 20, 55, 20, 20, 10, 12, 25, 12, 28, 30, 10, 65, 18, 32, 30, 30, 30, 55, 99, 70, 55, 56, 30, 60, 65, 30, 20, 60, 20, 4, 24, 25, 55, 60, 12, 60, 70, 60, 60, 60, 30, 10, 30, 26, 55, 60, 30, 30, 70, 24, 60, 30, 16, 3, 27, 21, 60, 30, 60, 10, 60, 12, 20, 25, 60, 25, 16, 55, 24, 20, 60, 12, 60, 15, 25, 60, 30, 8, 10, 60, 20, 55, 20, 15, 30, 12, 20, 15, 70, 15, 20, 20, 13, 25, 8, 65, 77, 84, 28, 55, 32, 6, 12, 60, 60, 10, 8, 60, 20, 60, 16, 30, 20, 20, 70, 70, 20, 60, 30, 16, 9, 54, 32, 32, 60, 70, 60, 24, 20, 60, 90, 20, 65, 60, 30, 75, 30, 20, 8, 24, 18, 15, 60, 25, 20, 15, 60, 60, 60, 8, 20, 20, 16, 60, 10, 20, 30, 60, 60, 60, 60, 55, 13, 30, 25, 20, 60, 15, 30, 30, 24, 30, 25, 10, 30, 60, 15, 32, 16, 60, 98, 55, 58, 25, 60, 65, 60, 20, 18, 55, 60, 55, 24, 30, 30, 20, 30, 55, 70, 60, 55, 30, 8, 30, 30, 55, 2, 20, 26, 20, 15, 60, 16, 20, 30, 20, 25, 20, 20, 75, 12, 25, 30, 20, 60, 20, 60, 80, 25, 12, 20, 20, 20, 15, 30, 12, 60, 55, 20, 32, 60, 55, 8, 60, 25, 55, 25, 60, 55, 25, 20, 60, 20, 60, 30, 56, 20, 25, 30, 24, 53, 30, 20, 70, 20, 60, 99, 20, 30, 12, 21, 55, 25, 64, 10, 25, 28, 60, 60, 30, 30, 70, 20, 63, 99, 30, 32, 60, 25, 16, 12, 55, 55, 60, 80, 25, 65, 10, 25, 20, 18, 80, 75, 25, 80, 10, 16, 25, 12, 30, 72, 60, 30, 75, 30, 60, 56, 60, 30, 20, 72, 30, 30, 30, 20, 70, 55, 60, 60, 1, 3, 55, 24, 25, 25, 25, 60, 1, 20, 30, 60, 30, 15, 27, 16, 30, 10, 80, 30, 60, 30, 60, 56, 20, 30, 72, 65, 30, 12, 60, 10, 60, 25, 55, 32, 60, 25, 55, 30, 22, 1, 20, 15, 20, 55, 60, 20, 10, 18, 1, 20, 60, 60, 70, 70, 12, 16, 15, 55, 30, 60, 24, 60, 6, 8, 24, 11, 25, 20, 30, 53, 60, 60, 20, 30, 20, 20, 30, 15, 30, 20, 24, 55, 25, 16, 3, 20, 60, 30, 55, 32, 16, 55, 30, 55, 60, 20, 20, 28, 70, 60, 16, 25, 60, 60, 30, 15, 60, 60, 60, 30, 60, 20, 60, 20, 68, 30, 55, 5, 10, 24, 16, 32, 55, 70, 98, 8, 60, 55, 60, 30, 60, 70, 30, 80, 10, 18, 23, 30, 24, 30, 70, 55, 60, 32, 70, 20, 60, 60, 20, 70, 55, 16, 24, 60, 60, 15, 25, 5, 2, 60, 9, 30, 15, 20, 60, 60, 60, 55, 20, 60, 55, 24, 60, 60, 55, 60, 10, 65, 4, 30, 20, 30, 20, 60, 30, 56, 25, 20, 30, 10, 60, 20, 30, 28, 23, 12, 60, 55, 25, 15, 55, 20, 55, 8, 25, 30, 70, 30, 55, 30, 24, 20, 25, 55, 30, 16, 20, 60, 87, 65, 60, 54, 30, 88, 16, 73, 70, 8, 60, 17, 32, 25, 18, 70, 15, 25, 10, 30, 24, 60, 32, 60, 30, 17, 20, 65, 60, 20, 90, 55, 60, 75, 10, 30, 30, 13, 55, 80, 55, 10, 55, 20, 15, 55, 30, 20, 30, 30, 60, 63, 25, 60, 60, 25, 55, 6, 30, 55, 25, 60, 10, 99, 60, 15, 75, 18, 55, 65, 6, 25, 70, 65, 20, 30, 60, 16, 25, 16, 66, 25, 14, 60, 14, 90, 25, 65, 60, 20, 20, 20, 16, 60, 60, 55, 72, 20, 25, 25, 90, 80, 15, 24, 20, 60, 60, 10, 10, 55, 10, 70, 20, 7, 25, 5, 20, 15, 55, 60, 26, 20, 80, 60, 70, 20, 12, 30, 8, 72, 60, 12, 24, 20, 60, 18, 10, 32, 60, 32, 60, 20, 25, 99, 70, 32, 70, 60, 30, 30, 25, 60, 30, 63, 30, 60, 75, 60, 60, 65, 60, 10, 30, 20, 20, 15, 12, 60, 21, 55, 24, 2, 60, 55, 20, 53, 20, 20, 32, 20, 20, 30, 30, 20, 25, 65, 20, 70, 65, 30, 60, 20, 80, 56, 28, 60, 25, 20, 6, 10, 25, 15, 30, 20, 32, 13, 89, 60, 25, 30, 60, 60, 32, 60, 10, 8, 15, 60, 55, 60, 75, 30, 55, 20, 30, 32, 55, 60, 60, 30, 20, 20, 20, 30, 30, 12, 72, 20, 60, 60, 60, 60, 55, 55, 30, 20, 30, 8, 20, 15, 20, 30, 25, 20, 70, 55, 25, 30, 15, 55, 60, 24, 55, 12, 10, 32, 58, 24, 57, 25, 60, 30, 22, 60, 20, 30, 30, 55, 25, 23, 15, 10, 20, 30, 30, 20, 60, 60, 60, 30, 20, 20, 20, 60, 25, 15, 25, 60, 70, 60, 70, 32, 24, 20, 60, 27, 8, 80, 60, 25, 20, 30, 20, 25, 30, 60, 15, 25, 30, 80, 20, 25, 20, 55, 30, 24, 55, 80, 32, 20, 28, 15, 20, 70, 65, 24, 10, 60, 10, 25, 60, 20, 15, 60, 30, 75, 56, 24, 97, 32, 55, 70, 70, 60, 12, 25, 58, 25, 60, 55, 25, 60, 20, 6, 24, 24, 30, 60, 30, 8, 56, 30, 16, 60, 30, 55, 8, 15, 55, 25, 60, 20, 20, 30, 30, 60, 54, 85, 78, 58, 20, 60, 12, 30, 30, 80, 55, 60, 55, 56, 16, 60, 20, 60, 60, 10, 58, 8, 60, 60, 22, 30, 26, 20, 20, 16, 32, 10, 32, 30, 20, 30, 20, 60, 55, 10, 60, 30, 32, 20, 60, 15, 30, 65, 55, 20, 32, 55, 55, 32, 24, 60, 90, 60, 60, 30, 26, 90, 27, 24, 30, 60, 63, 24, 15, 99, 20, 20, 30, 18, 25, 65, 28, 10, 4, 30, 75, 60, 60, 65, 20, 55, 30, 15, 16, 12, 84, 60, 60, 60, 32, 80, 24, 18, 65, 24, 65, 60, 25, 55, 20, 8, 10, 59, 80, 30, 15, 32, 8, 20, 60, 60, 60, 30, 70, 65, 20, 12, 18, 60, 20, 30, 30, 70, 15, 30, 55, 20, 28, 25, 30, 60, 70, 30, 55, 80, 72, 30, 30, 20, 99, 28, 80, 60, 55, 30, 30, 18, 65, 24, 55, 16, 25, 32, 20, 32, 1, 10, 60, 12, 20, 30, 6, 70, 10, 60, 30, 55, 15, 22, 60, 9, 32, 32, 24, 60, 55, 16, 55, 80, 20, 30, 30, 10, 10, 25, 80, 30, 20, 60, 60, 15, 65, 65, 20, 21, 10, 5, 84, 80, 30, 60, 65, 32, 99, 30, 60, 15, 84, 60, 70, 20, 30, 20, 80, 60, 15, 25, 65, 80, 20, 16, 27, 30, 31, 60, 60, 80, 20, 16, 60, 60, 60, 80, 60, 20, 99, 16, 12, 60, 30, 60, 9, 75, 20, 60, 30, 16, 30, 6, 6, 15, 12, 60, 10, 55, 55, 11, 60, 20, 70, 25, 60, 28, 20, 55, 30, 60, 20, 30, 55, 15, 20, 58, 30, 58, 30, 55, 72, 30, 30, 25, 60, 65, 65, 60, 60, 20, 20, 55, 30, 60, 8, 15, 65, 30, 25, 22, 32, 55, 8, 80, 60, 60, 20, 60, 60, 60, 24, 20, 10, 94, 55, 30, 60, 20, 26, 15, 6, 55, 1, 30, 20, 30, 30, 55, 60, 70, 15, 6, 20, 10, 15, 60, 30, 75, 24, 30, 15, 55, 60, 55, 18, 30, 16, 25, 20, 60, 12, 10, 60, 28, 32, 60, 70, 24, 8, 20, 60, 30, 60, 60, 30, 25, 30, 12, 30, 4, 10, 60, 60, 14, 60, 15, 24, 20, 20, 54, 65, 25, 19, 55, 80, 25, 60, 16, 30, 20, 32, 55, 30, 60, 55, 30, 10, 25, 30, 30, 24, 8, 25, 20, 65, 70, 12, 20, 15, 25, 60, 17, 20, 30, 60, 72, 25, 70, 20, 54, 30, 12, 60, 30, 60, 66, 30, 30, 60, 60, 30, 32, 25, 56, 28, 80, 32, 26, 12, 60, 28, 60, 55, 30, 29, 30, 20, 60, 30, 25, 55, 20, 25, 30, 8, 65, 20, 20, 10, 12, 30, 65, 25, 65, 60, 25, 30, 20, 8, 18, 28, 85, 53, 20, 20, 24, 80, 55, 20, 15, 60, 29, 56, 25, 60, 32, 15, 21, 60, 65, 60, 55, 55, 30, 6, 25, 99, 4, 60, 56, 99, 27, 30, 70, 28, 30, 60, 32, 15, 25, 11, 80, 55, 55, 24, 24, 24, 65, 15, 60, 70, 16, 8, 20, 55, 25, 60, 56, 10, 17, 20, 55, 60, 24, 60, 60, 20, 20, 55, 25, 15, 75, 60, 70, 55, 25, 20, 25, 55, 19, 25, 30, 25, 28, 32, 25, 25, 77, 24, 55, 60, 85, 72, 12, 30, 60, 15, 60, 20, 60, 70, 32, 70, 20, 20, 21, 20, 60, 30, 64, 65, 30, 84, 12, 16, 80, 65, 99, 30, 20, 60, 20, 25, 30, 30, 60, 70, 9, 26, 15, 7, 60, 30, 16, 55, 30, 72, 30, 25, 32, 17, 60, 30, 60, 20, 19, 70, 26, 30, 55, 32, 32, 60, 85, 99, 60, 20, 60, 20, 18, 72, 26, 25, 20, 7, 30, 6, 15, 30, 25, 70, 25, 30, 63, 8, 70, 20, 14, 15, 60, 20, 60, 30, 30, 26, 15, 60, 25, 60, 30, 70, 96, 20, 4, 66, 20, 16, 11, 20, 24, 30, 24, 65, 12, 25, 20, 60, 8, 99, 65, 15, 25, 20, 60, 15, 24, 55, 20, 60, 55, 20, 20, 25, 57, 20, 25, 24, 25, 60, 56, 55, 30, 20, 56, 25, 20, 30, 60, 60, 60, 60, 60, 75, 25, 25, 6, 24, 65, 60, 15, 16, 60, 25, 14, 4, 25, 16, 30, 20, 30, 56, 55, 55, 30, 8, 4, 16, 30, 20, 55, 20, 82, 20, 70, 60, 20, 70, 20, 20, 72, 60, 30, 30, 20, 25, 10, 20, 25, 70, 60, 30, 25, 28, 20, 15, 2, 30, 20, 24, 60, 58, 55, 72, 10, 20, 30, 60, 55, 70, 30, 25, 55, 54, 60, 90, 3, 12, 25, 70, 20, 25, 55, 55, 30, 30, 25, 55, 25, 25, 55, 30, 99, 24, 25, 25, 60, 60, 57, 4, 60, 60, 30, 60, 55, 60, 60, 72, 8, 20, 3, 55, 21, 20, 60, 15, 65, 20, 30, 20, 60, 60, 25, 20, 60, 70, 60, 60, 30, 60, 80, 55, 30, 10, 10, 55, 30, 80, 24, 30, 25, 70, 55, 30, 60, 25, 60, 25, 30, 32, 20, 60, 72, 24, 10, 20, 20, 20, 15, 60, 70, 70, 60, 10, 20, 20, 30, 55, 15, 72, 5, 20, 30, 60, 30, 20, 20, 15, 60, 8, 9, 30, 6, 20, 60, 20, 30, 24, 25, 16, 15, 16, 72, 30, 32, 65, 20, 30, 19, 55, 6, 20, 15, 20, 30, 15, 25, 20, 60, 60, 25, 55, 18, 62, 1, 25, 16, 60, 27, 20, 65, 60, 65, 58, 66, 60, 10, 28, 60, 97, 6, 30, 60, 60, 20, 30, 30, 60, 20, 20, 20, 60, 55, 20, 25, 20, 10, 72, 72, 15, 60, 20, 12, 20, 65, 22, 55, 12, 15, 32, 30, 55, 20, 32, 60, 55, 25, 60, 8, 60, 16, 16, 60, 60, 55, 15, 20, 6, 60, 10, 26, 15, 55, 25, 12, 60, 24, 60, 30, 72, 20, 60, 60, 60, 30, 60, 60, 10, 20, 20, 30, 30, 12, 20, 15, 60, 25, 20, 15, 60, 30, 60, 2, 30, 60, 60, 32, 72, 7, 20, 60, 30, 60, 20, 20, 99, 84, 60, 60, 30, 60, 30, 32, 72, 20, 20, 30, 56, 30, 54, 30, 54, 55, 15, 60, 60, 20, 60, 60, 20, 30, 20, 70, 22, 8, 20, 12, 12, 60, 55, 60, 80, 20, 30, 30, 15, 30, 30, 30, 55, 55, 20, 60, 4, 20, 60, 26, 30, 30, 20, 25, 20, 30, 55, 12, 30, 60, 20, 25, 15, 60, 30, 12, 25, 60, 55, 5, 20, 30, 25, 56, 12, 30, 30, 30, 60, 60, 55, 30, 65, 16, 60, 55, 10, 60, 20, 8, 20, 60, 60, 20, 60, 20, 55, 20, 15, 16, 60, 30, 25, 20, 32, 70, 70, 30, 16, 8, 75, 30, 20, 80, 30, 24, 20, 25, 62, 25, 20, 25, 12, 25, 60, 20, 70, 30, 17, 28, 8, 28, 60, 60, 32, 20, 20, 60, 10, 60, 55, 16, 60, 60, 65, 30, 32, 65, 15, 55, 5, 23, 60, 16, 80, 20, 20, 65, 30, 30, 60, 30, 60, 30, 10, 32, 60, 65, 20, 65, 25, 10, 80, 30, 70, 99, 30, 55, 60, 60, 20, 4, 20, 25, 55, 15, 30, 25, 20, 30, 55, 15, 60, 24, 24, 75, 60, 30, 30, 65, 21, 60, 18, 60, 20, 25, 20, 60, 60, 25, 30, 55, 15, 99, 55, 24, 12, 32, 30, 20, 15, 6, 30, 7, 70, 55, 6, 55, 25, 60, 25, 60, 80, 14, 30, 62, 60, 16, 60, 32, 60, 55, 24, 20, 65, 25, 20, 2, 90, 24, 65, 55, 20, 60, 8, 25, 65, 28, 63, 28, 16, 60, 20, 3, 80, 8, 20, 60, 25, 25, 24, 80, 10, 25, 32, 30, 60, 25, 30, 60, 10, 25, 30, 60, 15, 25, 7, 20, 20, 20, 20, 25, 4, 20, 55, 57, 28, 24, 70, 72, 29, 64, 25, 9, 25, 16, 20, 30, 20, 20, 20, 70, 15, 20, 58, 60, 32, 60, 27, 55, 20, 60, 60, 72, 20, 30, 70, 25, 28, 21, 20, 55, 60, 25, 25, 30, 4, 60, 60, 55, 60, 60, 15, 21, 55, 60, 10, 60, 30, 25, 30, 20, 25, 30, 60, 86, 80, 55, 23, 15, 20, 25, 24, 55, 2, 20, 8, 70, 60, 55, 60, 30, 60, 25, 24, 20, 60, 20, 30, 75, 20, 25, 25, 20, 55, 20, 60, 20, 15, 55, 20, 20, 60, 16, 20, 30, 60, 60, 60, 18, 20, 30, 55, 24, 30, 55, 65, 60, 55, 20, 30, 99, 60, 28, 70, 60, 55, 20, 99, 60, 25, 60, 60, 23, 56, 12, 75, 30, 12, 99, 10, 60, 80, 30, 20, 65, 24, 10, 55, 17, 70, 26, 65, 70, 70, 6, 55, 60, 84, 75, 25, 75, 30, 15, 72, 60, 55, 55, 70, 30, 20, 15, 8, 20, 60, 60, 25, 25, 15, 55, 60, 20, 55, 55, 56, 30, 58, 15, 25, 12, 5, 20, 10, 4, 55, 25, 60, 99, 60, 16, 12, 72, 25, 60, 8, 25, 24, 60, 60, 20, 20, 20, 24, 25, 30, 20, 26, 55, 25, 84, 20, 60, 22, 30, 56, 15, 25, 20, 30, 55, 55, 15, 65, 20, 30, 30, 55, 55, 13, 2, 30, 17, 60, 28, 25, 56, 30, 28, 13, 24, 60, 25, 6, 10, 22, 20, 65, 30, 55, 58, 25, 10, 28, 30, 15, 8, 60, 30, 55, 20, 15, 24, 32, 24, 65, 60, 13, 30, 60, 10, 30, 65, 20, 20, 32, 20, 5, 30, 3, 25, 30, 30, 55, 12, 16, 55, 60, 30, 30, 32, 18, 30, 60, 60, 7, 70, 58, 60, 25, 25, 15, 70, 30, 20, 60, 25, 20, 20, 70, 70, 5, 20, 20, 25, 65, 70, 8, 60, 65, 62, 30, 20, 84, 15, 70, 20, 27, 30, 26, 30, 55, 30, 60, 70, 60, 60, 70, 60, 9, 23, 20, 25, 10, 16, 70, 30, 30, 20, 32, 10, 20, 17, 55, 30, 30, 60, 20, 20, 60, 30, 24, 80, 30, 84, 60, 60, 20, 32, 25, 12, 70, 15, 16, 4, 58, 30, 30, 55, 55, 20, 60, 60, 10, 24, 56, 24, 20, 80, 60, 20, 55, 11, 16, 30, 6, 20, 99, 64, 60, 25, 6, 25, 25, 54, 20, 60, 20, 70, 2, 60, 60, 60, 8, 25, 25, 25, 25, 24, 20, 60, 60, 55, 55, 20, 27, 65, 60, 72, 25, 30, 25, 20, 32, 5, 20, 60, 32, 56, 81, 30, 28, 15, 20, 8, 28, 15, 12, 70, 30, 30, 15, 6, 55, 20, 15, 28, 55, 30, 30, 60, 25, 7, 60, 15, 20, 17, 16, 30, 60, 20, 32, 20, 19, 60, 20, 55, 60, 15, 20, 65, 32, 72, 60, 55, 65, 55, 12, 32, 60, 60, 60, 25, 84, 70, 60, 15, 53, 60, 60, 20, 99, 20, 60, 16, 70, 60, 16, 20, 30, 32, 30, 60, 10, 25, 12, 30, 32, 55, 14, 15, 30, 30, 30, 60, 18, 20, 30, 20, 20, 55, 20, 25, 24, 55, 20, 99, 24, 25, 55, 60, 30, 4, 25, 20, 24, 20, 30, 20, 62, 55, 15, 20, 30, 70, 10, 60, 11, 20, 15, 65, 30, 20, 30, 20, 25, 8, 30, 60, 22, 55, 55, 60, 27, 30, 65, 76, 20, 65, 18, 60, 18, 80, 60, 16, 78, 60, 55, 12, 72, 60, 3, 20, 30, 60, 15, 55, 30, 24, 60, 75, 60, 20, 15, 99, 16, 60, 16, 16, 10, 24, 80, 20, 30, 55, 20, 25, 99, 15, 30, 25, 30, 56, 32, 60, 60, 20, 60, 32, 22, 18, 32, 30, 75, 4, 20, 60, 80, 55, 10, 30, 30, 60, 4, 60, 20, 70, 30, 4, 65, 55, 20, 72, 28, 65, 10, 8, 6, 24, 7, 55, 60, 60, 84, 20, 14, 20, 55, 55, 20, 55, 18, 55, 60, 30, 4, 55, 70, 24, 70, 25, 84, 30, 25, 25, 55, 10, 72, 32, 25, 15, 24, 55, 27, 60, 23, 20, 98, 30, 75, 21, 60, 20, 53, 55, 10, 28, 25, 60, 53, 25, 25, 20, 15, 20, 65, 70, 30, 27, 25, 20, 24, 60, 30, 8, 55, 30, 15, 30, 15, 80, 65, 60, 20, 75, 80, 25, 32, 60, 16, 65, 55, 60, 30, 25, 5, 20, 16, 60, 60, 30, 16, 8, 60, 8, 60, 30, 20, 20, 32, 10, 20, 32, 20, 25, 6, 20, 20, 66, 32, 20, 30, 32, 55, 15, 10, 30, 15, 30, 55, 20, 10, 15, 10, 15, 20, 72, 25, 60, 30, 16, 60, 60, 60, 70, 30, 80, 65, 12, 25, 20, 60, 25, 20, 60, 15, 26, 80, 60, 20, 60, 10, 8, 60, 15, 7, 24, 27, 32, 30, 15, 30, 56, 30, 15, 75, 20, 25, 30, 80, 32, 15, 70, 60, 30, 25, 15, 15, 20, 60, 20, 15, 30, 60, 25, 70, 10, 8, 16, 32, 60, 30, 30, 20, 56, 24, 30, 60, 20, 8, 24, 70, 15, 60, 25, 20, 55, 55, 20, 15, 56, 20, 60, 60, 20, 20, 25, 60, 6, 65, 65, 60, 60, 65, 25, 22, 25, 20, 30, 55, 65, 55, 30, 54, 24, 30, 56, 20, 60, 32, 20, 15, 55, 55, 30, 30, 32, 15, 60, 20, 60, 20, 18, 30, 32, 20, 24, 30, 25, 15, 15, 15, 55, 30, 60, 70, 10, 28, 25, 60, 22, 20, 25, 16, 56, 20, 15, 55, 32, 20, 20, 60, 60, 25, 25, 99, 65, 15, 20, 26, 25, 28, 60, 80, 10, 60, 70, 28, 15, 60, 88, 15, 20, 20, 98, 56, 53, 8, 20, 68, 13, 14, 30, 20, 20, 55, 60, 8, 30, 30, 7, 60, 20, 32, 10, 70, 65, 25, 25, 20, 30, 20, 20, 20, 20, 55, 25, 60, 32, 60, 60, 15, 60, 70, 30, 25, 20, 60, 29, 25, 80, 30, 15, 30, 20, 25, 12, 10, 55, 16, 30, 30, 20, 60, 65, 70, 60, 56, 25, 10, 55, 98, 60, 12, 60, 20, 25, 20, 80, 25, 30, 16, 20, 30, 24, 14, 60, 55, 7, 30, 80, 60, 25, 7, 60, 16, 15, 60, 60, 55, 30, 70, 12, 30, 20, 4, 65, 20, 16, 60, 4, 55, 28, 7, 60, 60, 28, 84, 21, 20, 25, 14, 60, 16, 12, 30, 30, 23, 25, 20, 8, 20, 25, 25, 60, 3, 30, 16, 56, 20, 24, 20, 60, 60, 20, 60, 13, 57, 55, 14, 60, 25, 20, 55, 60, 65, 8, 60, 72, 60, 81, 60, 20, 20, 30, 60, 55, 2, 20, 30, 60, 30, 15, 24, 15, 65, 20, 26, 30, 57, 60, 30, 70, 20, 32, 15, 60, 15, 18, 25, 12, 60, 70, 60, 55, 55, 20, 30, 55, 24, 25, 60, 32, 14, 16, 16, 60, 25, 55, 20, 25, 60, 65, 25, 84, 29, 60, 8, 60, 25, 60, 60, 70, 15, 60, 12, 8, 24, 20, 20, 30, 60, 60, 16, 15, 16, 20, 18, 30, 60, 16, 32, 20, 60, 17, 18, 30, 25, 65, 20, 16, 30, 18, 15, 26, 20, 55, 15, 20, 30, 18, 30, 25, 30, 70, 32, 60, 70, 55, 16, 15, 17, 60, 12, 30, 20, 30, 28, 30, 32, 20, 20, 60, 20, 20, 60, 55, 30, 25, 65, 60, 60, 60, 30, 60, 25, 6, 25, 25, 30, 65, 60, 20, 32, 6, 60, 32, 20, 65, 70, 58, 24, 25, 4, 70, 55, 60, 20, 24, 60, 27, 15, 60, 65, 30, 53, 32, 20, 65, 20, 15, 20, 8, 60, 70, 55, 30, 3, 15, 70, 56, 70, 30, 70, 55, 25, 5, 30, 60, 98, 30, 10, 55, 53, 30, 24, 60, 60, 25, 55, 55, 60, 13, 60, 70, 25, 60, 14, 30, 10, 60, 20, 10, 20, 60, 20, 30, 30, 60, 60, 25, 32, 20, 25, 55, 9, 60, 56, 20, 55, 54, 30, 30, 30, 70, 20, 20, 30, 60, 15, 20, 55, 55, 30, 25, 68, 16, 99, 25, 25, 55, 32, 20, 30, 55, 25, 30, 4, 25, 32, 15, 55, 10, 84, 60, 64, 60, 20, 32, 8, 60, 60, 65, 60, 20, 30, 15, 55, 84, 60, 55, 20, 30, 75, 60, 20, 60, 60, 15, 16, 25, 60, 60, 30, 20, 20, 30, 15, 30, 30, 55, 60, 30, 25, 84, 55, 60, 4, 30, 60, 65, 55, 32, 20, 32, 55, 60, 20, 99, 20, 55, 10, 32, 10, 25, 25, 18, 60, 20, 32, 60, 60, 20, 13, 30, 25, 65, 24, 20, 15, 3, 30, 20, 30, 80, 25, 20, 30, 60, 55, 56, 55, 10, 20, 20, 5, 55, 10, 8, 25, 99, 30, 32, 24, 15, 25, 30, 60, 8, 30, 55, 24, 25, 7, 20, 30, 12, 25, 15, 20, 20, 16, 18, 15, 55, 60, 24, 70, 76, 15, 53, 60, 92, 60, 15, 18, 20, 60, 25, 15, 15, 16, 15, 24, 25, 32, 15, 32, 54, 30, 32, 18, 30, 30, 24, 8, 20, 25, 20, 10, 60, 20, 28, 30, 55, 60, 30, 3, 60, 25, 20, 60, 20, 75, 55, 1, 30, 30, 2, 60, 25, 60, 55, 15, 68, 24, 55, 15, 30, 22, 70, 99, 20, 58, 30, 30, 60, 24, 80, 15, 55, 2, 55, 60, 10, 90, 55, 12, 12, 16, 30, 55, 30, 10, 25, 30, 20, 56, 56, 30, 30, 30, 12, 24, 30, 60, 55, 60, 20, 20, 99, 32, 55, 30, 20, 15, 25, 30, 5, 60, 55, 57, 25, 25, 56, 30, 32, 20, 30, 60, 8, 60, 10, 60, 30, 16, 60, 24, 60, 65, 75, 20, 12, 57, 65, 30, 32, 60, 25, 60, 25, 8, 60, 10, 15, 25, 20, 70, 16, 10, 65, 55, 60, 30, 55, 99, 56, 20, 65, 60, 12, 1, 55, 30, 20, 20, 10, 15, 3, 55, 25, 18, 8, 56, 55, 30, 30, 30, 60, 80, 70, 60, 30, 30, 30, 60, 24, 65, 70, 30, 60, 70, 15, 55, 10, 20, 24, 20, 60, 54, 32, 25, 60, 30, 60, 30, 60, 7, 25, 25, 30, 80, 10, 25, 16, 60, 30, 5, 80, 20, 56, 20, 20, 70, 60, 30, 22, 55, 25, 80, 20, 30, 15, 55, 15, 20, 55, 25, 65, 99, 28, 75, 80, 24, 60, 16, 12, 1, 20, 10, 60, 30, 25, 55, 10, 25, 30, 18, 6, 55, 15, 70, 68, 28, 30, 60, 25, 25, 15, 24, 20, 60, 60, 60, 30, 25, 30, 57, 20, 60, 25, 20, 65, 75, 32, 70, 20, 55, 55, 15, 70, 8, 60, 32, 13, 30, 8, 8, 30, 30, 25, 20, 8, 16, 16, 25, 15, 25, 55, 60, 32, 28, 8, 25, 10, 30, 60, 60, 30, 30, 56, 60, 30, 30, 55, 60, 32, 60, 60, 55, 60, 20, 20, 84, 24, 30, 24, 25, 55, 60, 20, 60, 20, 65, 25, 10, 20, 65, 10, 14, 67, 55, 20, 15, 65, 55, 25, 60, 60, 60, 20, 60, 55, 53, 70, 60, 55, 32, 55, 70, 70, 25, 65, 15, 70, 15, 60, 60, 21, 2, 20, 20, 70, 84, 65, 25, 30, 14, 19, 80, 80, 12, 25, 10, 2, 30, 15, 65, 13, 60, 22, 60, 54, 30, 60, 55, 25, 56, 25, 60, 17, 8, 30, 30, 80, 20, 10, 20, 60, 15, 20, 65, 30, 62, 15, 14, 24, 60, 55, 20, 65, 55, 20, 30, 60, 55, 75, 6, 24, 20, 20, 30, 24, 60, 60, 12, 20, 20, 64, 60, 57, 75, 25, 56, 72, 55, 24, 60, 24, 90, 30, 20, 60, 60, 15, 28, 65, 10, 55, 1, 20, 65, 20, 55, 30, 30, 10, 24, 20, 20, 65, 15, 25, 30, 32, 32, 60, 30, 70, 30, 60, 70, 20, 10, 60, 55, 24, 65, 60, 15, 60, 55, 60, 70, 22, 20, 99, 60, 30, 14, 65, 24, 30, 20, 15, 56, 30, 20, 16, 25, 30, 15, 56, 32, 24, 20, 60, 99, 10, 25, 28, 55, 17, 12, 32, 28, 16, 8, 60, 14, 16, 60, 20, 60, 60, 30, 27, 60, 65, 30, 84, 65, 20, 25, 10, 7, 12, 60, 6, 16, 20, 23, 20, 30, 10, 55, 70, 60, 20, 32, 25, 60, 61, 60, 62, 15, 65, 3, 15, 6, 55, 60, 55, 20, 25, 25, 15, 80, 70, 30, 30, 30, 60, 10, 20, 30, 28, 60, 25, 20, 60, 20, 24, 65, 10, 55, 70, 20, 32, 65, 20, 55, 60, 55, 25, 55, 65, 60, 20, 55, 10, 30, 8, 30, 60, 25, 60, 30, 20, 20, 65, 25, 25, 60, 60, 10, 70, 20, 65, 55, 60, 65, 32, 65, 15, 60, 80, 20, 65, 55, 20, 56, 30, 55, 20, 70, 55, 17, 20, 60, 65, 20, 72, 20, 55, 30, 60, 17, 15, 55, 25, 75, 22, 70, 7, 60, 30, 20, 30, 60, 25, 20, 19, 55, 55, 28, 12, 12, 60, 12, 32, 7, 14, 60, 10, 24, 60, 60, 60, 12, 30, 25, 30, 15, 20, 30, 60, 60, 55, 60, 85, 20, 55, 60, 60, 30, 15, 91, 85, 30, 22, 60, 55, 30, 28, 65, 55, 20, 80, 20, 30, 25, 18, 32, 56, 55, 16, 30, 72, 20, 20, 5, 27, 20, 30, 15, 30, 30, 60, 10, 30, 28, 20, 55, 80, 20, 25, 21, 20, 27, 60, 20, 60, 60, 60, 25, 20, 55, 60, 25, 25, 65, 18, 70, 24, 60, 54, 30, 15, 28, 60, 60, 30, 10, 24, 60, 24, 20, 65, 60, 2, 25, 70, 55, 65, 30, 10, 30, 30, 60, 15, 12, 23, 12, 80, 12, 60, 26, 6, 15, 10, 99, 72, 70, 30, 70, 15, 20, 60, 84, 15, 32, 25, 30, 16, 20, 32, 55, 60, 15, 30, 60, 30, 30, 55, 30, 70, 60, 25, 25, 30, 60, 99, 16, 24, 60, 20, 60, 60, 10, 55, 27, 55, 24, 60, 75, 70, 20, 55, 2, 60, 12, 55, 32, 20, 27, 30, 55, 70, 15, 55, 55, 60, 16, 15, 60, 30, 63, 60, 55, 25, 13, 32, 22, 20, 9, 30, 60, 22, 15, 60, 25, 55, 60, 25, 8, 99, 24, 55, 4, 30, 72, 16, 60, 20, 30, 60, 70, 55, 16, 10, 30, 60, 16, 20, 30, 32, 10, 60, 55, 15, 32, 20, 20, 21, 30, 15, 15, 65, 10, 64, 60, 10, 99, 15, 16, 4, 15, 30, 53, 20, 30, 60, 20, 15, 70, 8, 62, 29, 60, 55, 20, 60, 20, 22, 25, 70, 70, 30, 20, 55, 10, 20, 24, 20, 10, 20, 20, 30, 12, 15, 60, 25, 60, 20, 15, 55, 25, 20, 60, 4, 14, 15, 30, 15, 10, 3, 90, 20, 20, 4, 1, 60, 75, 70, 20, 65, 20, 30, 23, 55, 60, 55, 20, 60, 60, 55, 10, 60, 70, 60, 20, 12, 28, 10, 32, 60, 30, 4, 60, 57, 80, 30, 55, 20, 24, 98, 28, 25, 60, 12, 16, 32, 30, 12, 20, 24, 20, 30, 27, 60, 25, 12, 15, 10, 10, 16, 20, 55, 20, 60, 25, 60, 65, 55, 32, 55, 30, 28, 60, 32, 30, 3, 12, 24, 99, 30, 15, 20, 53, 12, 2, 20, 80, 55, 30, 20, 32, 20, 28, 25, 60, 20, 55, 30, 25, 8, 60, 60, 65, 65, 60, 25, 32, 25, 10, 23, 24, 15, 30, 60, 30, 25, 30, 20, 30, 55, 55, 10, 55, 60, 30, 65, 15, 25, 84, 57, 99, 70, 55, 15, 70, 60, 32, 20, 55, 56, 60, 70, 15, 25, 20, 32, 20, 80, 72, 80, 53, 60, 60, 30, 30, 60, 16, 20, 32, 55, 62, 6, 96, 25, 65, 25, 30, 30, 1, 60, 55, 10, 6, 55, 60, 30, 55, 15, 60, 10, 16, 25, 30, 80, 25, 65, 20, 24, 15, 25, 60, 20, 20, 32, 60, 74, 10, 4, 25, 99, 55, 30, 60, 30, 55, 90, 30, 12, 25, 25, 60, 20, 55, 30, 30, 20, 15, 12, 5, 65, 20, 20, 30, 20, 30, 90, 12, 15, 30, 20, 20, 60, 30, 60, 66, 20, 25, 16, 30, 30, 22, 70, 60, 32, 70, 12, 65, 15, 55, 99, 10, 32, 70, 10, 60, 55, 20, 20, 25, 20, 20, 60, 30, 60, 9, 20, 20, 90, 60, 30, 60, 55, 12, 18, 32, 30, 20, 60, 20, 28, 56, 12, 60, 16, 60, 60, 55, 25, 32, 20, 90, 20, 30, 60, 20, 22, 18, 60, 60, 60, 65, 70, 55, 25, 60, 30, 20, 20, 65, 20, 30, 55, 30, 60, 30, 30, 60, 70, 10, 20, 60, 30, 20, 24, 65, 60, 65, 20, 20, 60, 30, 60, 60, 65, 10, 60, 60, 20, 65, 55, 56, 15, 30, 60, 8, 20, 70, 15, 65, 25, 15, 12, 60, 78, 8, 12, 60, 30, 25, 58, 32, 1, 16, 60, 70, 6, 60, 20, 60, 55, 60, 20, 25, 21, 60, 24, 70, 10, 55, 20, 60, 20, 15, 30, 20, 60, 16, 20, 30, 80, 60, 60, 25, 60, 60, 17, 10, 16, 24, 20, 22, 32, 60, 65, 60, 15, 25, 28, 99, 25, 20, 55, 10, 30, 55, 30, 20, 8, 25, 30, 60, 15, 55, 65, 30, 55, 55, 60, 24, 60, 30, 20, 30, 95, 25, 20, 20, 15, 25, 64, 16, 60, 32, 25, 56, 60, 15, 15, 65, 65, 25, 55, 20, 30, 65, 20, 77, 30, 60, 67, 25, 56, 20, 20, 60, 25, 20, 72, 30, 20, 30, 60, 25, 85, 25, 20, 24, 55, 20, 10, 12, 24, 18, 60, 25, 30, 24, 60, 68, 32, 30, 30, 60, 30, 20, 20, 10, 30, 16, 20, 25, 20, 60, 60, 60, 28, 15, 30, 18, 86, 54, 10, 6, 56, 55, 12, 70, 30, 30, 60, 72, 20, 65, 23, 60, 55, 18, 18, 18, 20, 20, 16, 16, 25, 16, 25, 62, 55, 60, 20, 75, 55, 55, 60, 32, 20, 20, 60, 20, 72, 17, 55, 20, 20, 30, 20, 6, 60, 56, 20, 5, 1, 60, 60, 60, 70, 25, 20, 30, 55, 70, 12, 16, 15, 80, 20, 20, 16, 55, 80, 25, 60, 55, 20, 15, 30, 30, 20, 20, 32, 80, 30, 30, 30, 6, 24, 60, 20, 30, 15, 65, 60, 30, 70, 55, 60, 70, 4, 28, 20, 80, 20, 10, 55, 55, 20, 60, 9, 60, 20, 20, 30, 85, 60, 84, 10, 60, 30, 65, 99, 60, 80, 60, 55, 60, 30, 20, 30, 13, 70, 60, 55, 15, 25, 32, 30, 60, 24, 20, 25, 30, 25, 32, 12, 66, 12, 60, 53, 32, 60, 20, 15, 25, 23, 25, 8, 32, 60, 65, 15, 30, 25, 24, 30, 55, 72, 30, 5, 25, 24, 20, 60, 12, 15, 30, 13, 10, 10, 30, 12, 60, 20, 70, 24, 60, 30, 80, 25, 60, 25, 32, 70, 55, 25, 54, 60, 25, 8, 14, 72, 80, 4, 55, 32, 55, 20, 24, 20, 99, 90, 60, 20, 54, 16, 70, 60, 55, 30, 72, 10, 32, 20, 30, 25, 25, 25, 6, 24, 30, 15, 72, 20, 20, 55, 28, 72, 60, 60, 99, 25, 30, 60, 15, 25, 6, 24, 30, 20, 30, 32, 70, 14, 55, 70, 30, 25, 16, 8, 70, 70, 70, 60, 70, 61, 20, 30, 8, 60, 30, 55, 60, 54, 15, 55, 84, 31, 12, 30, 20, 60, 24, 99, 16, 30, 25, 30, 23, 60, 30, 20, 15, 30, 30, 15, 25, 24, 10, 30, 30, 25, 30, 55, 20, 28, 55, 15, 15, 25, 60, 30, 60, 70, 16, 80, 32, 60, 30, 80, 60, 55, 20, 80, 24, 30, 10, 30, 55, 20, 19, 18, 32, 22, 60, 55, 60, 60, 15, 12, 60, 25, 30, 25, 30, 20, 60, 20, 5, 99, 60, 60, 55, 60, 55, 55, 12, 20, 32, 6, 30, 20, 60, 16, 3, 60, 20, 60, 70, 15, 70, 32, 55, 20, 20, 30, 20, 60, 20, 84, 55, 60, 55, 12, 60, 30, 55, 84, 20, 25, 30, 60, 32, 30, 24, 65, 6, 30, 55, 15, 16, 6, 60, 4, 20, 20, 75, 12, 32, 32, 70, 70, 60, 70, 25, 30, 20, 60, 20, 12, 32, 60, 99, 60, 22, 8, 60, 16, 65, 20, 20, 10, 99, 16, 10, 60, 25, 30, 55, 20, 20, 4, 20, 15, 55, 60, 30, 22, 30, 10, 20, 20, 12, 20, 55, 60, 60, 20, 58, 8, 90, 20, 20, 30, 60, 56, 16, 8, 90, 60, 30, 55, 55, 60, 20, 25, 8, 25, 20, 60, 70, 54, 60, 60, 62, 55, 99, 30, 5, 32, 14, 60, 80, 32, 20, 26, 8, 20, 31, 60, 30, 15, 55, 30, 12, 17, 60, 10, 16, 16, 20, 20, 20, 70, 30, 60, 20, 60, 57, 30, 12, 25, 25, 55, 65, 30, 60, 60, 65, 20, 55, 55, 60, 20, 56, 30, 30, 10, 55, 30, 30, 30, 55, 25, 30, 32, 60, 10, 18, 10, 24, 60, 65, 60, 60, 15, 72, 20, 72, 60, 60, 30, 32, 60, 20, 25, 80, 98, 20, 60, 32, 30, 12, 54, 70, 20, 99, 15, 30, 25, 20, 19, 24, 30, 8, 12, 7, 15, 60, 12, 25, 16, 20, 5, 30, 60, 70, 22, 60, 23, 30, 20, 60, 7, 60, 60, 60, 60, 20, 12, 55, 20, 60, 15, 30, 30, 30, 60, 55, 60, 20, 30, 25, 12, 60, 60, 65, 20, 10, 25, 27, 16, 20, 13, 8, 18, 32, 25, 19, 20, 55, 4, 25, 25, 30, 15, 20, 70, 70, 20, 20, 60, 30, 55, 70, 55, 20, 30, 20, 10, 29, 20, 3, 60, 30, 20, 96, 60, 54, 32, 55, 80, 30, 12, 25, 30, 56, 20, 70, 65, 75, 5, 60, 16, 20, 30, 60, 12, 10, 25, 20, 70, 55, 20, 20, 20, 65, 12, 25, 70, 84, 15, 55, 20, 30, 55, 30, 4, 20, 60, 15, 60, 99, 30, 30, 15, 30, 30, 20, 60, 15, 17, 30, 25, 99, 26, 68, 55, 56, 16, 20, 84, 20, 20, 25, 70, 60, 60, 32, 70, 18, 25, 20, 25, 25, 55, 20, 60, 12, 55, 32, 75, 65, 32, 15, 30, 55, 30, 6, 55, 14, 64, 30, 30, 20, 65, 25, 60, 30, 60, 20, 24, 15, 55, 20, 32, 20, 60, 55, 10, 23, 62, 20, 30, 12, 58, 60, 30, 99, 60, 60, 70, 5, 70, 20, 55, 55, 75, 60, 60, 15, 16, 30, 30, 60, 55, 60, 24, 30, 55, 60, 25, 55, 30, 30, 10, 60, 24, 20, 32, 30, 70, 60, 60, 70, 20, 24, 15, 70, 60, 65, 60, 20, 5, 20, 60, 20, 60, 56, 30, 25, 55, 55, 20, 8, 16, 16, 90, 10, 73, 25, 75, 25, 16, 55, 20, 55, 10, 55, 55, 10, 80, 8, 55, 55, 20, 30, 6, 55, 15, 60, 65, 65, 14, 80, 95, 30, 60, 66, 55, 25, 30, 55, 15, 24, 15, 30, 8, 70, 16, 70, 8, 22, 24, 55, 20, 60, 10, 32, 60, 80, 56, 55, 60, 30, 65, 84, 60, 6, 16, 16, 32, 20, 60, 30, 30, 60, 30, 55, 20, 22, 30, 70, 60, 25, 22, 60, 60, 60, 15, 5, 55, 25, 24, 30, 12, 30, 24, 60, 62, 30, 16, 25, 70, 20, 12, 20, 30, 10, 15, 16, 32, 55, 70, 32, 30, 60, 30, 20, 60, 5, 22, 25, 25, 55, 65, 60, 25, 60, 25, 60, 5, 55, 60, 30, 25, 15, 20, 55, 20, 20, 60, 25, 55, 20, 30, 80, 30, 60, 30, 70, 20, 56, 16, 30, 55, 30, 15, 16, 30, 55, 25, 30, 32, 15, 60, 60, 55, 60, 20, 28, 20, 16, 60, 60, 80, 72, 60, 4, 25, 54, 24, 60, 66, 2, 30, 55, 70, 56, 25, 55, 15, 54, 15, 55, 20, 60, 25, 16, 8, 20, 55, 70, 60, 30, 12, 15, 12, 30, 30, 8, 32, 6, 16, 60, 60, 99, 70, 20, 16, 30, 20, 68, 65, 24, 25, 5, 72, 65, 20, 30, 20, 60, 20, 11, 55, 30, 60, 91, 55, 55, 25, 80, 55, 30, 25, 32, 25, 25, 18, 60, 30, 25, 60, 65, 60, 15, 55, 30, 60, 55, 20, 20, 15, 30, 32, 12, 30, 55, 5, 65, 60, 60, 25, 66, 55, 15, 60, 60, 70, 25, 55, 65, 32, 20, 20, 20, 60, 10, 72, 60, 84, 70, 20, 20, 55, 25, 25, 4, 55, 60, 20, 10, 70, 55, 20, 80, 32, 25, 55, 15, 55, 10, 3, 32, 15, 55, 12, 15, 60, 30, 24, 65, 65, 55, 25, 60, 20, 60, 20, 30, 24, 60, 20, 55, 30, 60, 24, 70, 32, 60, 30, 20, 30, 12, 24, 6, 60, 15, 20, 60, 80, 20, 30, 78, 20, 10, 5, 68, 75, 32, 60, 16, 15, 16, 60, 56, 20, 72, 25, 55, 60, 55, 30, 60, 99, 1, 30, 10, 70, 20, 60, 30, 60, 96, 30, 60, 65, 55, 15, 20, 60, 10, 30, 32, 20, 20, 55, 55, 20, 20, 60, 2, 30, 30, 20, 17, 75, 30, 30, 25, 65, 60, 16, 30, 60, 15, 30, 10, 10, 24, 20, 14, 30, 20, 3, 70, 15, 23, 60, 12, 60, 32, 30, 25, 77, 72, 55, 10, 30, 99, 55, 20, 56, 2, 15, 12, 84, 60, 30, 20, 20, 22, 15, 60, 99, 32, 20, 6, 60, 56, 25, 20, 57, 24, 10, 54, 18, 30, 30, 20, 18, 60, 60, 56, 60, 60, 15, 20, 55, 57, 60, 20, 60, 20, 25, 20, 55, 20, 30, 30, 5, 30, 10, 60, 5, 25, 25, 25, 12, 2, 90, 5, 20, 8, 60, 60, 20, 55, 20, 12, 15, 25, 4, 25, 24, 17, 55, 15, 60, 8, 15, 11, 60, 10, 30, 55, 25, 25, 20, 22, 60, 20, 20, 70, 60, 30, 30, 20, 26, 78, 60, 53, 18, 55, 18, 70, 30, 4, 55, 25, 20, 20, 55, 32, 60, 70, 25, 20, 30, 25, 60, 55, 60, 30, 57, 20, 15, 15, 60, 30, 25, 60, 30, 10, 60, 60, 32, 12, 15, 30, 32, 10, 25, 84, 25, 65, 20, 30, 80, 60, 20, 60, 30, 15, 30, 30, 85, 60, 30, 60, 60, 13, 20, 55, 65, 30, 10, 60, 55, 99, 25, 15, 32, 10, 32, 30, 30, 60, 60, 55, 30, 65, 25, 60, 60, 55, 70, 28, 16, 18, 30, 68, 28, 30, 30, 15, 12, 20, 70, 65, 30, 3, 65, 20, 24, 20, 25, 28, 99, 30, 25, 99, 25, 30, 55, 20, 8, 5, 55, 25, 20, 60, 10, 25, 70, 90, 60, 24, 20, 55, 25, 25, 53, 30, 80, 20, 30, 60, 24, 30, 20, 20, 30, 30, 72, 9, 20, 12, 15, 25, 7, 70, 30, 20, 60, 65, 18, 17, 30, 60, 20, 60, 30, 65, 13, 16, 20, 60, 70, 60, 55, 53, 27, 58, 60, 60, 99, 60, 60, 8, 60, 32, 30, 62, 60, 30, 60, 55, 12, 60, 8, 60, 80, 25, 20, 60, 60, 25, 60, 15, 20, 55, 20, 60, 25, 8, 30, 60, 25, 24, 60, 90, 55, 60, 5, 55, 20, 30, 15, 5, 20, 10, 55, 70, 70, 60, 30, 60, 75, 8, 28, 20, 90, 70, 60, 25, 25, 60, 10, 20, 65, 25, 20, 60, 55, 60, 25, 60, 15, 60, 65, 20, 66, 20, 20, 25, 32, 16, 60, 8, 60, 20, 20, 60, 30, 60, 25, 60, 70, 27, 20, 16, 20, 58, 15, 32, 15, 25, 3, 30, 55, 20, 30, 55, 55, 30, 17, 60, 25, 20, 55, 30, 20, 55, 16, 55, 20, 30, 20, 25, 25, 60, 20, 10, 20, 25, 30, 80, 64, 54, 32, 55, 4, 30, 80, 30, 55, 20, 9, 55, 55, 20, 80, 20, 60, 60, 60, 53, 30, 16, 22, 25, 60, 60, 58, 90, 60, 70, 24, 25, 32, 60, 65, 60, 55, 20, 65, 99, 20, 25, 30, 55, 20, 99, 12, 70, 65, 20, 4, 24, 55, 75, 32, 10, 30, 55, 60, 30, 55, 30, 55, 55, 17, 15, 18, 80, 30, 20, 25, 25, 15, 55, 25, 25, 30, 60, 23, 30, 70, 70, 60, 3, 30, 55, 55, 60, 55, 65, 68, 3, 60, 10, 60, 30, 98, 16, 30, 25, 15, 65, 25, 60, 24, 60, 55, 30, 24, 20, 55, 25, 60, 56, 30, 30, 25, 18, 20, 15, 60, 30, 55, 60, 32, 60, 15, 24, 12, 70, 30, 65, 60, 20, 30, 20, 14, 70, 12, 15, 80, 62, 25, 55, 60, 20, 5, 28, 25, 55, 30, 20, 5, 60, 60, 60, 30, 60, 30, 30, 30, 16, 60, 20, 60, 80, 24, 15, 55, 60, 10, 56, 60, 30, 30, 60, 10, 32, 20, 70, 15, 24, 65, 5, 25, 25, 20, 80, 8, 20, 60, 12, 30, 60, 60, 30, 55, 12, 55, 65, 20, 60, 20, 20, 60, 20, 30, 60, 65, 10, 20, 55, 25, 30, 60, 31, 16, 30, 32, 72, 20, 30, 60, 25, 70, 10, 60, 20, 56, 30, 60, 4, 8, 5, 72, 72, 25, 55, 8, 12, 20, 55, 20, 15, 55, 76, 60, 60, 70, 20, 32, 81, 30, 89, 25, 56, 55, 32, 30, 32, 20, 60, 20, 20, 20, 32, 30, 32, 32, 25, 65, 99, 55, 84, 25, 60, 65, 28, 60, 55, 22, 24, 64, 55, 15, 55, 99, 60, 55, 10, 32, 25, 30, 20, 60, 11, 20]\n"
     ]
    }
   ],
   "source": [
    "age_outliers=iqr_outliers(df['hours-per-week'])"
   ]
  },
  {
   "cell_type": "code",
   "execution_count": 18,
   "id": "aeb26882",
   "metadata": {},
   "outputs": [],
   "source": [
    "#Removing the outliers\n",
    "\n",
    "df['hours-per-week']=df[(df['hours-per-week']> 32.5) & (df['hours-per-week']<52.5)]"
   ]
  },
  {
   "cell_type": "code",
   "execution_count": 19,
   "id": "3bdaa38d",
   "metadata": {},
   "outputs": [
    {
     "data": {
      "image/png": "[encoded data removed]",
      "text/plain": [
       "<Figure size 432x288 with 1 Axes>"
      ]
     },
     "metadata": {
      "needs_background": "light"
     },
     "output_type": "display_data"
    }
   ],
   "source": [
    "sns.boxplot(df['hours-per-week'])\n",
    "plt.title(\"Box Plot After outlier removing\")\n",
    "plt.show()"
   ]
  },
  {
   "cell_type": "markdown",
   "id": "a1194fe0",
   "metadata": {},
   "source": [
    "# One hot encoding:"
   ]
  },
  {
   "cell_type": "markdown",
   "id": "f6ac7b13",
   "metadata": {},
   "source": [
    "# Encoding categorical Values:"
   ]
  },
  {
   "cell_type": "code",
   "execution_count": 45,
   "id": "61d56aca",
   "metadata": {},
   "outputs": [],
   "source": [
    "#workclass\n",
    "df['workclass'].replace(['Private','Self-emp-not-inc','Local-gov',np.nan,'State-gov','Self-emp-inc','Federal-gov','Without-pay','Never-worked'],\n",
    "                          ['Private','inc','gov',np.nan,'gov','inc','gov','Without-pay','Never-worked'],inplace=True)\n",
    "#marital-status\n",
    "df['marital-status'].replace(['Never-married', 'Married-civ-spouse', 'Widowed', 'Divorced',\n",
    "       'Separated', 'Married-spouse-absent', 'Married-AF-spouse'],['not-married','married','not-married','not-married','not-married','married','married'],inplace=True)\n",
    "#gender\n",
    "df['gender'] = df['gender'].map({'Male': 0, 'Female': 1})\n"
   ]
  },
  {
   "cell_type": "code",
   "execution_count": 46,
   "id": "f623f273",
   "metadata": {},
   "outputs": [],
   "source": [
    "#mapping the data into numerical data using map function\n",
    "df['income'] = df['income'].map({'<=50K': 0, '>50K': 1})"
   ]
  },
  {
   "cell_type": "code",
   "execution_count": 47,
   "id": "05e7626b",
   "metadata": {},
   "outputs": [
    {
     "data": {
      "text/plain": [
       "0    34259\n",
       "1    11247\n",
       "Name: income, dtype: int64"
      ]
     },
     "execution_count": 47,
     "metadata": {},
     "output_type": "execute_result"
    }
   ],
   "source": [
    "df['income'].value_counts()"
   ]
  },
  {
   "cell_type": "code",
   "execution_count": 48,
   "id": "d104f7ef",
   "metadata": {},
   "outputs": [],
   "source": [
    "#Dropping capital-gain and capital-loss\n",
    "\n",
    "df.drop(['capital-gain','capital-loss'],axis=1,inplace=True)"
   ]
  },
  {
   "cell_type": "code",
   "execution_count": 49,
   "id": "521e418f",
   "metadata": {},
   "outputs": [],
   "source": [
    "#Dropping noe more column and mapping the marital status column\n",
    "\n",
    "df.drop(['education'],axis=1,inplace=True)"
   ]
  },
  {
   "cell_type": "code",
   "execution_count": 50,
   "id": "51ef96d3",
   "metadata": {},
   "outputs": [],
   "source": [
    "\n",
    "# Mapping the gender column\n",
    "#Dropping native country and racedata.drop(['education'],axis=1,inplace=True)\n",
    "df.drop(['race','native-country'],axis=1,inplace=True)"
   ]
  },
  {
   "cell_type": "code",
   "execution_count": 51,
   "id": "5b42e79f",
   "metadata": {},
   "outputs": [
    {
     "data": {
      "text/plain": [
       "Husband           18242\n",
       "Not-in-family     11741\n",
       "Own-child          7233\n",
       "Unmarried          4760\n",
       "Wife               2213\n",
       "Other-relative     1317\n",
       "Name: relationship, dtype: int64"
      ]
     },
     "execution_count": 51,
     "metadata": {},
     "output_type": "execute_result"
    }
   ],
   "source": [
    "df['relationship'].value_counts()"
   ]
  },
  {
   "cell_type": "markdown",
   "id": "bb20a06a",
   "metadata": {},
   "source": [
    "# New transformed dataset:"
   ]
  },
  {
   "cell_type": "code",
   "execution_count": 52,
   "id": "16c9c49c",
   "metadata": {
    "scrolled": true
   },
   "outputs": [
    {
     "data": {
      "text/html": [
       "<div>\n",
       "<style scoped>\n",
       "    .dataframe tbody tr th:only-of-type {\n",
       "        vertical-align: middle;\n",
       "    }\n",
       "\n",
       "    .dataframe tbody tr th {\n",
       "        vertical-align: top;\n",
       "    }\n",
       "\n",
       "    .dataframe thead th {\n",
       "        text-align: right;\n",
       "    }\n",
       "</style>\n",
       "<table border=\"1\" class=\"dataframe\">\n",
       "  <thead>\n",
       "    <tr style=\"text-align: right;\">\n",
       "      <th></th>\n",
       "      <th>age</th>\n",
       "      <th>workclass</th>\n",
       "      <th>fnlwgt</th>\n",
       "      <th>educational-num</th>\n",
       "      <th>marital-status</th>\n",
       "      <th>occupation</th>\n",
       "      <th>relationship</th>\n",
       "      <th>gender</th>\n",
       "      <th>hours-per-week</th>\n",
       "      <th>income</th>\n",
       "    </tr>\n",
       "  </thead>\n",
       "  <tbody>\n",
       "    <tr>\n",
       "      <th>0</th>\n",
       "      <td>25</td>\n",
       "      <td>Private</td>\n",
       "      <td>226802</td>\n",
       "      <td>7</td>\n",
       "      <td>not-married</td>\n",
       "      <td>Machine-op-inspct</td>\n",
       "      <td>Own-child</td>\n",
       "      <td>0</td>\n",
       "      <td>40</td>\n",
       "      <td>0</td>\n",
       "    </tr>\n",
       "    <tr>\n",
       "      <th>1</th>\n",
       "      <td>38</td>\n",
       "      <td>Private</td>\n",
       "      <td>89814</td>\n",
       "      <td>9</td>\n",
       "      <td>married</td>\n",
       "      <td>Farming-fishing</td>\n",
       "      <td>Husband</td>\n",
       "      <td>0</td>\n",
       "      <td>50</td>\n",
       "      <td>0</td>\n",
       "    </tr>\n",
       "    <tr>\n",
       "      <th>2</th>\n",
       "      <td>28</td>\n",
       "      <td>gov</td>\n",
       "      <td>336951</td>\n",
       "      <td>12</td>\n",
       "      <td>married</td>\n",
       "      <td>Protective-serv</td>\n",
       "      <td>Husband</td>\n",
       "      <td>0</td>\n",
       "      <td>40</td>\n",
       "      <td>1</td>\n",
       "    </tr>\n",
       "    <tr>\n",
       "      <th>3</th>\n",
       "      <td>44</td>\n",
       "      <td>Private</td>\n",
       "      <td>160323</td>\n",
       "      <td>10</td>\n",
       "      <td>married</td>\n",
       "      <td>Machine-op-inspct</td>\n",
       "      <td>Husband</td>\n",
       "      <td>0</td>\n",
       "      <td>40</td>\n",
       "      <td>1</td>\n",
       "    </tr>\n",
       "    <tr>\n",
       "      <th>4</th>\n",
       "      <td>18</td>\n",
       "      <td>Private</td>\n",
       "      <td>103497</td>\n",
       "      <td>10</td>\n",
       "      <td>not-married</td>\n",
       "      <td>Prof-specialty</td>\n",
       "      <td>Own-child</td>\n",
       "      <td>1</td>\n",
       "      <td>30</td>\n",
       "      <td>0</td>\n",
       "    </tr>\n",
       "  </tbody>\n",
       "</table>\n",
       "</div>"
      ],
      "text/plain": [
       "   age workclass  fnlwgt  educational-num marital-status         occupation  \\\n",
       "0   25   Private  226802                7    not-married  Machine-op-inspct   \n",
       "1   38   Private   89814                9        married    Farming-fishing   \n",
       "2   28       gov  336951               12        married    Protective-serv   \n",
       "3   44   Private  160323               10        married  Machine-op-inspct   \n",
       "4   18   Private  103497               10    not-married     Prof-specialty   \n",
       "\n",
       "  relationship  gender  hours-per-week  income  \n",
       "0    Own-child       0              40       0  \n",
       "1      Husband       0              50       0  \n",
       "2      Husband       0              40       1  \n",
       "3      Husband       0              40       1  \n",
       "4    Own-child       1              30       0  "
      ]
     },
     "execution_count": 52,
     "metadata": {},
     "output_type": "execute_result"
    }
   ],
   "source": [
    "df.head()"
   ]
  },
  {
   "cell_type": "code",
   "execution_count": 70,
   "id": "01126106",
   "metadata": {},
   "outputs": [],
   "source": [
    "\n",
    "#Doing one hot-encoding\n",
    "\n",
    "data=pd.get_dummies(df,drop_first=True)"
   ]
  },
  {
   "cell_type": "code",
   "execution_count": 71,
   "id": "ff04fc68",
   "metadata": {},
   "outputs": [
    {
     "data": {
      "text/html": [
       "<div>\n",
       "<style scoped>\n",
       "    .dataframe tbody tr th:only-of-type {\n",
       "        vertical-align: middle;\n",
       "    }\n",
       "\n",
       "    .dataframe tbody tr th {\n",
       "        vertical-align: top;\n",
       "    }\n",
       "\n",
       "    .dataframe thead th {\n",
       "        text-align: right;\n",
       "    }\n",
       "</style>\n",
       "<table border=\"1\" class=\"dataframe\">\n",
       "  <thead>\n",
       "    <tr style=\"text-align: right;\">\n",
       "      <th></th>\n",
       "      <th>age</th>\n",
       "      <th>fnlwgt</th>\n",
       "      <th>educational-num</th>\n",
       "      <th>gender</th>\n",
       "      <th>hours-per-week</th>\n",
       "      <th>income</th>\n",
       "      <th>workclass_Private</th>\n",
       "      <th>workclass_Without-pay</th>\n",
       "      <th>workclass_gov</th>\n",
       "      <th>workclass_inc</th>\n",
       "      <th>...</th>\n",
       "      <th>occupation_Prof-specialty</th>\n",
       "      <th>occupation_Protective-serv</th>\n",
       "      <th>occupation_Sales</th>\n",
       "      <th>occupation_Tech-support</th>\n",
       "      <th>occupation_Transport-moving</th>\n",
       "      <th>relationship_Not-in-family</th>\n",
       "      <th>relationship_Other-relative</th>\n",
       "      <th>relationship_Own-child</th>\n",
       "      <th>relationship_Unmarried</th>\n",
       "      <th>relationship_Wife</th>\n",
       "    </tr>\n",
       "  </thead>\n",
       "  <tbody>\n",
       "    <tr>\n",
       "      <th>0</th>\n",
       "      <td>25</td>\n",
       "      <td>226802</td>\n",
       "      <td>7</td>\n",
       "      <td>0</td>\n",
       "      <td>40</td>\n",
       "      <td>0</td>\n",
       "      <td>1</td>\n",
       "      <td>0</td>\n",
       "      <td>0</td>\n",
       "      <td>0</td>\n",
       "      <td>...</td>\n",
       "      <td>0</td>\n",
       "      <td>0</td>\n",
       "      <td>0</td>\n",
       "      <td>0</td>\n",
       "      <td>0</td>\n",
       "      <td>0</td>\n",
       "      <td>0</td>\n",
       "      <td>1</td>\n",
       "      <td>0</td>\n",
       "      <td>0</td>\n",
       "    </tr>\n",
       "    <tr>\n",
       "      <th>1</th>\n",
       "      <td>38</td>\n",
       "      <td>89814</td>\n",
       "      <td>9</td>\n",
       "      <td>0</td>\n",
       "      <td>50</td>\n",
       "      <td>0</td>\n",
       "      <td>1</td>\n",
       "      <td>0</td>\n",
       "      <td>0</td>\n",
       "      <td>0</td>\n",
       "      <td>...</td>\n",
       "      <td>0</td>\n",
       "      <td>0</td>\n",
       "      <td>0</td>\n",
       "      <td>0</td>\n",
       "      <td>0</td>\n",
       "      <td>0</td>\n",
       "      <td>0</td>\n",
       "      <td>0</td>\n",
       "      <td>0</td>\n",
       "      <td>0</td>\n",
       "    </tr>\n",
       "    <tr>\n",
       "      <th>2</th>\n",
       "      <td>28</td>\n",
       "      <td>336951</td>\n",
       "      <td>12</td>\n",
       "      <td>0</td>\n",
       "      <td>40</td>\n",
       "      <td>1</td>\n",
       "      <td>0</td>\n",
       "      <td>0</td>\n",
       "      <td>1</td>\n",
       "      <td>0</td>\n",
       "      <td>...</td>\n",
       "      <td>0</td>\n",
       "      <td>1</td>\n",
       "      <td>0</td>\n",
       "      <td>0</td>\n",
       "      <td>0</td>\n",
       "      <td>0</td>\n",
       "      <td>0</td>\n",
       "      <td>0</td>\n",
       "      <td>0</td>\n",
       "      <td>0</td>\n",
       "    </tr>\n",
       "    <tr>\n",
       "      <th>3</th>\n",
       "      <td>44</td>\n",
       "      <td>160323</td>\n",
       "      <td>10</td>\n",
       "      <td>0</td>\n",
       "      <td>40</td>\n",
       "      <td>1</td>\n",
       "      <td>1</td>\n",
       "      <td>0</td>\n",
       "      <td>0</td>\n",
       "      <td>0</td>\n",
       "      <td>...</td>\n",
       "      <td>0</td>\n",
       "      <td>0</td>\n",
       "      <td>0</td>\n",
       "      <td>0</td>\n",
       "      <td>0</td>\n",
       "      <td>0</td>\n",
       "      <td>0</td>\n",
       "      <td>0</td>\n",
       "      <td>0</td>\n",
       "      <td>0</td>\n",
       "    </tr>\n",
       "    <tr>\n",
       "      <th>4</th>\n",
       "      <td>18</td>\n",
       "      <td>103497</td>\n",
       "      <td>10</td>\n",
       "      <td>1</td>\n",
       "      <td>30</td>\n",
       "      <td>0</td>\n",
       "      <td>1</td>\n",
       "      <td>0</td>\n",
       "      <td>0</td>\n",
       "      <td>0</td>\n",
       "      <td>...</td>\n",
       "      <td>1</td>\n",
       "      <td>0</td>\n",
       "      <td>0</td>\n",
       "      <td>0</td>\n",
       "      <td>0</td>\n",
       "      <td>0</td>\n",
       "      <td>0</td>\n",
       "      <td>1</td>\n",
       "      <td>0</td>\n",
       "      <td>0</td>\n",
       "    </tr>\n",
       "  </tbody>\n",
       "</table>\n",
       "<p>5 rows × 29 columns</p>\n",
       "</div>"
      ],
      "text/plain": [
       "   age  fnlwgt  educational-num  gender  hours-per-week  income  \\\n",
       "0   25  226802                7       0              40       0   \n",
       "1   38   89814                9       0              50       0   \n",
       "2   28  336951               12       0              40       1   \n",
       "3   44  160323               10       0              40       1   \n",
       "4   18  103497               10       1              30       0   \n",
       "\n",
       "   workclass_Private  workclass_Without-pay  workclass_gov  workclass_inc  \\\n",
       "0                  1                      0              0              0   \n",
       "1                  1                      0              0              0   \n",
       "2                  0                      0              1              0   \n",
       "3                  1                      0              0              0   \n",
       "4                  1                      0              0              0   \n",
       "\n",
       "   ...  occupation_Prof-specialty  occupation_Protective-serv  \\\n",
       "0  ...                          0                           0   \n",
       "1  ...                          0                           0   \n",
       "2  ...                          0                           1   \n",
       "3  ...                          0                           0   \n",
       "4  ...                          1                           0   \n",
       "\n",
       "   occupation_Sales  occupation_Tech-support  occupation_Transport-moving  \\\n",
       "0                 0                        0                            0   \n",
       "1                 0                        0                            0   \n",
       "2                 0                        0                            0   \n",
       "3                 0                        0                            0   \n",
       "4                 0                        0                            0   \n",
       "\n",
       "   relationship_Not-in-family  relationship_Other-relative  \\\n",
       "0                           0                            0   \n",
       "1                           0                            0   \n",
       "2                           0                            0   \n",
       "3                           0                            0   \n",
       "4                           0                            0   \n",
       "\n",
       "   relationship_Own-child  relationship_Unmarried  relationship_Wife  \n",
       "0                       1                       0                  0  \n",
       "1                       0                       0                  0  \n",
       "2                       0                       0                  0  \n",
       "3                       0                       0                  0  \n",
       "4                       1                       0                  0  \n",
       "\n",
       "[5 rows x 29 columns]"
      ]
     },
     "execution_count": 71,
     "metadata": {},
     "output_type": "execute_result"
    }
   ],
   "source": [
    "data.head()"
   ]
  },
  {
   "cell_type": "code",
   "execution_count": 72,
   "id": "69a2d54c",
   "metadata": {},
   "outputs": [
    {
     "data": {
      "text/plain": [
       "age                             0\n",
       "fnlwgt                          0\n",
       "educational-num                 0\n",
       "gender                          0\n",
       "hours-per-week                  0\n",
       "income                          0\n",
       "workclass_Private               0\n",
       "workclass_Without-pay           0\n",
       "workclass_gov                   0\n",
       "workclass_inc                   0\n",
       "marital-status_not-married      0\n",
       "occupation_Armed-Forces         0\n",
       "occupation_Craft-repair         0\n",
       "occupation_Exec-managerial      0\n",
       "occupation_Farming-fishing      0\n",
       "occupation_Handlers-cleaners    0\n",
       "occupation_Machine-op-inspct    0\n",
       "occupation_Other-service        0\n",
       "occupation_Priv-house-serv      0\n",
       "occupation_Prof-specialty       0\n",
       "occupation_Protective-serv      0\n",
       "occupation_Sales                0\n",
       "occupation_Tech-support         0\n",
       "occupation_Transport-moving     0\n",
       "relationship_Not-in-family      0\n",
       "relationship_Other-relative     0\n",
       "relationship_Own-child          0\n",
       "relationship_Unmarried          0\n",
       "relationship_Wife               0\n",
       "dtype: int64"
      ]
     },
     "execution_count": 72,
     "metadata": {},
     "output_type": "execute_result"
    }
   ],
   "source": [
    "data.isnull().sum()"
   ]
  },
  {
   "cell_type": "code",
   "execution_count": 73,
   "id": "abaeda1d",
   "metadata": {},
   "outputs": [
    {
     "data": {
      "text/html": [
       "<div>\n",
       "<style scoped>\n",
       "    .dataframe tbody tr th:only-of-type {\n",
       "        vertical-align: middle;\n",
       "    }\n",
       "\n",
       "    .dataframe tbody tr th {\n",
       "        vertical-align: top;\n",
       "    }\n",
       "\n",
       "    .dataframe thead th {\n",
       "        text-align: right;\n",
       "    }\n",
       "</style>\n",
       "<table border=\"1\" class=\"dataframe\">\n",
       "  <thead>\n",
       "    <tr style=\"text-align: right;\">\n",
       "      <th></th>\n",
       "      <th>age</th>\n",
       "      <th>fnlwgt</th>\n",
       "      <th>educational-num</th>\n",
       "      <th>gender</th>\n",
       "      <th>hours-per-week</th>\n",
       "      <th>income</th>\n",
       "      <th>workclass_Private</th>\n",
       "      <th>workclass_Without-pay</th>\n",
       "      <th>workclass_gov</th>\n",
       "      <th>workclass_inc</th>\n",
       "      <th>...</th>\n",
       "      <th>occupation_Prof-specialty</th>\n",
       "      <th>occupation_Protective-serv</th>\n",
       "      <th>occupation_Sales</th>\n",
       "      <th>occupation_Tech-support</th>\n",
       "      <th>occupation_Transport-moving</th>\n",
       "      <th>relationship_Not-in-family</th>\n",
       "      <th>relationship_Other-relative</th>\n",
       "      <th>relationship_Own-child</th>\n",
       "      <th>relationship_Unmarried</th>\n",
       "      <th>relationship_Wife</th>\n",
       "    </tr>\n",
       "  </thead>\n",
       "  <tbody>\n",
       "    <tr>\n",
       "      <th>0</th>\n",
       "      <td>25</td>\n",
       "      <td>226802</td>\n",
       "      <td>7</td>\n",
       "      <td>0</td>\n",
       "      <td>40</td>\n",
       "      <td>0</td>\n",
       "      <td>1</td>\n",
       "      <td>0</td>\n",
       "      <td>0</td>\n",
       "      <td>0</td>\n",
       "      <td>...</td>\n",
       "      <td>0</td>\n",
       "      <td>0</td>\n",
       "      <td>0</td>\n",
       "      <td>0</td>\n",
       "      <td>0</td>\n",
       "      <td>0</td>\n",
       "      <td>0</td>\n",
       "      <td>1</td>\n",
       "      <td>0</td>\n",
       "      <td>0</td>\n",
       "    </tr>\n",
       "    <tr>\n",
       "      <th>1</th>\n",
       "      <td>38</td>\n",
       "      <td>89814</td>\n",
       "      <td>9</td>\n",
       "      <td>0</td>\n",
       "      <td>50</td>\n",
       "      <td>0</td>\n",
       "      <td>1</td>\n",
       "      <td>0</td>\n",
       "      <td>0</td>\n",
       "      <td>0</td>\n",
       "      <td>...</td>\n",
       "      <td>0</td>\n",
       "      <td>0</td>\n",
       "      <td>0</td>\n",
       "      <td>0</td>\n",
       "      <td>0</td>\n",
       "      <td>0</td>\n",
       "      <td>0</td>\n",
       "      <td>0</td>\n",
       "      <td>0</td>\n",
       "      <td>0</td>\n",
       "    </tr>\n",
       "    <tr>\n",
       "      <th>2</th>\n",
       "      <td>28</td>\n",
       "      <td>336951</td>\n",
       "      <td>12</td>\n",
       "      <td>0</td>\n",
       "      <td>40</td>\n",
       "      <td>1</td>\n",
       "      <td>0</td>\n",
       "      <td>0</td>\n",
       "      <td>1</td>\n",
       "      <td>0</td>\n",
       "      <td>...</td>\n",
       "      <td>0</td>\n",
       "      <td>1</td>\n",
       "      <td>0</td>\n",
       "      <td>0</td>\n",
       "      <td>0</td>\n",
       "      <td>0</td>\n",
       "      <td>0</td>\n",
       "      <td>0</td>\n",
       "      <td>0</td>\n",
       "      <td>0</td>\n",
       "    </tr>\n",
       "    <tr>\n",
       "      <th>3</th>\n",
       "      <td>44</td>\n",
       "      <td>160323</td>\n",
       "      <td>10</td>\n",
       "      <td>0</td>\n",
       "      <td>40</td>\n",
       "      <td>1</td>\n",
       "      <td>1</td>\n",
       "      <td>0</td>\n",
       "      <td>0</td>\n",
       "      <td>0</td>\n",
       "      <td>...</td>\n",
       "      <td>0</td>\n",
       "      <td>0</td>\n",
       "      <td>0</td>\n",
       "      <td>0</td>\n",
       "      <td>0</td>\n",
       "      <td>0</td>\n",
       "      <td>0</td>\n",
       "      <td>0</td>\n",
       "      <td>0</td>\n",
       "      <td>0</td>\n",
       "    </tr>\n",
       "    <tr>\n",
       "      <th>4</th>\n",
       "      <td>18</td>\n",
       "      <td>103497</td>\n",
       "      <td>10</td>\n",
       "      <td>1</td>\n",
       "      <td>30</td>\n",
       "      <td>0</td>\n",
       "      <td>1</td>\n",
       "      <td>0</td>\n",
       "      <td>0</td>\n",
       "      <td>0</td>\n",
       "      <td>...</td>\n",
       "      <td>1</td>\n",
       "      <td>0</td>\n",
       "      <td>0</td>\n",
       "      <td>0</td>\n",
       "      <td>0</td>\n",
       "      <td>0</td>\n",
       "      <td>0</td>\n",
       "      <td>1</td>\n",
       "      <td>0</td>\n",
       "      <td>0</td>\n",
       "    </tr>\n",
       "  </tbody>\n",
       "</table>\n",
       "<p>5 rows × 29 columns</p>\n",
       "</div>"
      ],
      "text/plain": [
       "   age  fnlwgt  educational-num  gender  hours-per-week  income  \\\n",
       "0   25  226802                7       0              40       0   \n",
       "1   38   89814                9       0              50       0   \n",
       "2   28  336951               12       0              40       1   \n",
       "3   44  160323               10       0              40       1   \n",
       "4   18  103497               10       1              30       0   \n",
       "\n",
       "   workclass_Private  workclass_Without-pay  workclass_gov  workclass_inc  \\\n",
       "0                  1                      0              0              0   \n",
       "1                  1                      0              0              0   \n",
       "2                  0                      0              1              0   \n",
       "3                  1                      0              0              0   \n",
       "4                  1                      0              0              0   \n",
       "\n",
       "   ...  occupation_Prof-specialty  occupation_Protective-serv  \\\n",
       "0  ...                          0                           0   \n",
       "1  ...                          0                           0   \n",
       "2  ...                          0                           1   \n",
       "3  ...                          0                           0   \n",
       "4  ...                          1                           0   \n",
       "\n",
       "   occupation_Sales  occupation_Tech-support  occupation_Transport-moving  \\\n",
       "0                 0                        0                            0   \n",
       "1                 0                        0                            0   \n",
       "2                 0                        0                            0   \n",
       "3                 0                        0                            0   \n",
       "4                 0                        0                            0   \n",
       "\n",
       "   relationship_Not-in-family  relationship_Other-relative  \\\n",
       "0                           0                            0   \n",
       "1                           0                            0   \n",
       "2                           0                            0   \n",
       "3                           0                            0   \n",
       "4                           0                            0   \n",
       "\n",
       "   relationship_Own-child  relationship_Unmarried  relationship_Wife  \n",
       "0                       1                       0                  0  \n",
       "1                       0                       0                  0  \n",
       "2                       0                       0                  0  \n",
       "3                       0                       0                  0  \n",
       "4                       1                       0                  0  \n",
       "\n",
       "[5 rows x 29 columns]"
      ]
     },
     "execution_count": 73,
     "metadata": {},
     "output_type": "execute_result"
    }
   ],
   "source": [
    "data.head()"
   ]
  },
  {
   "cell_type": "markdown",
   "id": "8f0a5d72",
   "metadata": {},
   "source": [
    "# Data preparation:"
   ]
  },
  {
   "cell_type": "code",
   "execution_count": 74,
   "id": "1cc0e69c",
   "metadata": {},
   "outputs": [],
   "source": [
    "# Splitting the data into features and target\n",
    "\n",
    "x=data.drop(['income'],axis=1)\n",
    "y=data[['income']]"
   ]
  },
  {
   "cell_type": "code",
   "execution_count": 75,
   "id": "204c9701",
   "metadata": {},
   "outputs": [
    {
     "data": {
      "text/html": [
       "<div>\n",
       "<style scoped>\n",
       "    .dataframe tbody tr th:only-of-type {\n",
       "        vertical-align: middle;\n",
       "    }\n",
       "\n",
       "    .dataframe tbody tr th {\n",
       "        vertical-align: top;\n",
       "    }\n",
       "\n",
       "    .dataframe thead th {\n",
       "        text-align: right;\n",
       "    }\n",
       "</style>\n",
       "<table border=\"1\" class=\"dataframe\">\n",
       "  <thead>\n",
       "    <tr style=\"text-align: right;\">\n",
       "      <th></th>\n",
       "      <th>age</th>\n",
       "      <th>fnlwgt</th>\n",
       "      <th>educational-num</th>\n",
       "      <th>gender</th>\n",
       "      <th>hours-per-week</th>\n",
       "      <th>income</th>\n",
       "      <th>workclass_Private</th>\n",
       "      <th>workclass_Without-pay</th>\n",
       "      <th>workclass_gov</th>\n",
       "      <th>workclass_inc</th>\n",
       "      <th>...</th>\n",
       "      <th>occupation_Prof-specialty</th>\n",
       "      <th>occupation_Protective-serv</th>\n",
       "      <th>occupation_Sales</th>\n",
       "      <th>occupation_Tech-support</th>\n",
       "      <th>occupation_Transport-moving</th>\n",
       "      <th>relationship_Not-in-family</th>\n",
       "      <th>relationship_Other-relative</th>\n",
       "      <th>relationship_Own-child</th>\n",
       "      <th>relationship_Unmarried</th>\n",
       "      <th>relationship_Wife</th>\n",
       "    </tr>\n",
       "  </thead>\n",
       "  <tbody>\n",
       "    <tr>\n",
       "      <th>0</th>\n",
       "      <td>25</td>\n",
       "      <td>226802</td>\n",
       "      <td>7</td>\n",
       "      <td>0</td>\n",
       "      <td>40</td>\n",
       "      <td>0</td>\n",
       "      <td>1</td>\n",
       "      <td>0</td>\n",
       "      <td>0</td>\n",
       "      <td>0</td>\n",
       "      <td>...</td>\n",
       "      <td>0</td>\n",
       "      <td>0</td>\n",
       "      <td>0</td>\n",
       "      <td>0</td>\n",
       "      <td>0</td>\n",
       "      <td>0</td>\n",
       "      <td>0</td>\n",
       "      <td>1</td>\n",
       "      <td>0</td>\n",
       "      <td>0</td>\n",
       "    </tr>\n",
       "    <tr>\n",
       "      <th>1</th>\n",
       "      <td>38</td>\n",
       "      <td>89814</td>\n",
       "      <td>9</td>\n",
       "      <td>0</td>\n",
       "      <td>50</td>\n",
       "      <td>0</td>\n",
       "      <td>1</td>\n",
       "      <td>0</td>\n",
       "      <td>0</td>\n",
       "      <td>0</td>\n",
       "      <td>...</td>\n",
       "      <td>0</td>\n",
       "      <td>0</td>\n",
       "      <td>0</td>\n",
       "      <td>0</td>\n",
       "      <td>0</td>\n",
       "      <td>0</td>\n",
       "      <td>0</td>\n",
       "      <td>0</td>\n",
       "      <td>0</td>\n",
       "      <td>0</td>\n",
       "    </tr>\n",
       "    <tr>\n",
       "      <th>2</th>\n",
       "      <td>28</td>\n",
       "      <td>336951</td>\n",
       "      <td>12</td>\n",
       "      <td>0</td>\n",
       "      <td>40</td>\n",
       "      <td>1</td>\n",
       "      <td>0</td>\n",
       "      <td>0</td>\n",
       "      <td>1</td>\n",
       "      <td>0</td>\n",
       "      <td>...</td>\n",
       "      <td>0</td>\n",
       "      <td>1</td>\n",
       "      <td>0</td>\n",
       "      <td>0</td>\n",
       "      <td>0</td>\n",
       "      <td>0</td>\n",
       "      <td>0</td>\n",
       "      <td>0</td>\n",
       "      <td>0</td>\n",
       "      <td>0</td>\n",
       "    </tr>\n",
       "    <tr>\n",
       "      <th>3</th>\n",
       "      <td>44</td>\n",
       "      <td>160323</td>\n",
       "      <td>10</td>\n",
       "      <td>0</td>\n",
       "      <td>40</td>\n",
       "      <td>1</td>\n",
       "      <td>1</td>\n",
       "      <td>0</td>\n",
       "      <td>0</td>\n",
       "      <td>0</td>\n",
       "      <td>...</td>\n",
       "      <td>0</td>\n",
       "      <td>0</td>\n",
       "      <td>0</td>\n",
       "      <td>0</td>\n",
       "      <td>0</td>\n",
       "      <td>0</td>\n",
       "      <td>0</td>\n",
       "      <td>0</td>\n",
       "      <td>0</td>\n",
       "      <td>0</td>\n",
       "    </tr>\n",
       "    <tr>\n",
       "      <th>4</th>\n",
       "      <td>18</td>\n",
       "      <td>103497</td>\n",
       "      <td>10</td>\n",
       "      <td>1</td>\n",
       "      <td>30</td>\n",
       "      <td>0</td>\n",
       "      <td>1</td>\n",
       "      <td>0</td>\n",
       "      <td>0</td>\n",
       "      <td>0</td>\n",
       "      <td>...</td>\n",
       "      <td>1</td>\n",
       "      <td>0</td>\n",
       "      <td>0</td>\n",
       "      <td>0</td>\n",
       "      <td>0</td>\n",
       "      <td>0</td>\n",
       "      <td>0</td>\n",
       "      <td>1</td>\n",
       "      <td>0</td>\n",
       "      <td>0</td>\n",
       "    </tr>\n",
       "  </tbody>\n",
       "</table>\n",
       "<p>5 rows × 29 columns</p>\n",
       "</div>"
      ],
      "text/plain": [
       "   age  fnlwgt  educational-num  gender  hours-per-week  income  \\\n",
       "0   25  226802                7       0              40       0   \n",
       "1   38   89814                9       0              50       0   \n",
       "2   28  336951               12       0              40       1   \n",
       "3   44  160323               10       0              40       1   \n",
       "4   18  103497               10       1              30       0   \n",
       "\n",
       "   workclass_Private  workclass_Without-pay  workclass_gov  workclass_inc  \\\n",
       "0                  1                      0              0              0   \n",
       "1                  1                      0              0              0   \n",
       "2                  0                      0              1              0   \n",
       "3                  1                      0              0              0   \n",
       "4                  1                      0              0              0   \n",
       "\n",
       "   ...  occupation_Prof-specialty  occupation_Protective-serv  \\\n",
       "0  ...                          0                           0   \n",
       "1  ...                          0                           0   \n",
       "2  ...                          0                           1   \n",
       "3  ...                          0                           0   \n",
       "4  ...                          1                           0   \n",
       "\n",
       "   occupation_Sales  occupation_Tech-support  occupation_Transport-moving  \\\n",
       "0                 0                        0                            0   \n",
       "1                 0                        0                            0   \n",
       "2                 0                        0                            0   \n",
       "3                 0                        0                            0   \n",
       "4                 0                        0                            0   \n",
       "\n",
       "   relationship_Not-in-family  relationship_Other-relative  \\\n",
       "0                           0                            0   \n",
       "1                           0                            0   \n",
       "2                           0                            0   \n",
       "3                           0                            0   \n",
       "4                           0                            0   \n",
       "\n",
       "   relationship_Own-child  relationship_Unmarried  relationship_Wife  \n",
       "0                       1                       0                  0  \n",
       "1                       0                       0                  0  \n",
       "2                       0                       0                  0  \n",
       "3                       0                       0                  0  \n",
       "4                       1                       0                  0  \n",
       "\n",
       "[5 rows x 29 columns]"
      ]
     },
     "execution_count": 75,
     "metadata": {},
     "output_type": "execute_result"
    }
   ],
   "source": [
    "data.head()"
   ]
  },
  {
   "cell_type": "code",
   "execution_count": 76,
   "id": "988d5556",
   "metadata": {},
   "outputs": [
    {
     "name": "stdout",
     "output_type": "stream",
     "text": [
      "(45506, 29)\n",
      "(45506, 28)\n"
     ]
    }
   ],
   "source": [
    "print(data.shape)\n",
    "print(x.shape)"
   ]
  },
  {
   "cell_type": "code",
   "execution_count": 77,
   "id": "8c07f671",
   "metadata": {},
   "outputs": [
    {
     "data": {
      "text/plain": [
       "income    0\n",
       "dtype: int64"
      ]
     },
     "execution_count": 77,
     "metadata": {},
     "output_type": "execute_result"
    }
   ],
   "source": [
    "y.isnull().sum()"
   ]
  },
  {
   "cell_type": "markdown",
   "id": "0010cd20",
   "metadata": {},
   "source": [
    "# Data standardization:"
   ]
  },
  {
   "cell_type": "code",
   "execution_count": 78,
   "id": "cbb23ad7",
   "metadata": {},
   "outputs": [
    {
     "name": "stdout",
     "output_type": "stream",
     "text": [
      "(45506, 29)\n"
     ]
    }
   ],
   "source": [
    "\n",
    "# Data-preprocessing: Standardizing the data\n",
    "\n",
    "from sklearn.preprocessing import StandardScaler\n",
    "standardized_data = StandardScaler().fit_transform(data)\n",
    "print(standardized_data.shape)"
   ]
  },
  {
   "cell_type": "markdown",
   "id": "c67eee8e",
   "metadata": {},
   "source": [
    "# Data Preparation - Stratified fold:"
   ]
  },
  {
   "cell_type": "code",
   "execution_count": 84,
   "id": "97fa0545",
   "metadata": {},
   "outputs": [],
   "source": [
    "# Splitting the data into test and train \n",
    "\n",
    "from sklearn.model_selection import train_test_split,StratifiedKFold\n",
    "from sklearn.metrics import accuracy_score,confusion_matrix,classification_report"
   ]
  },
  {
   "cell_type": "code",
   "execution_count": 85,
   "id": "06427d30",
   "metadata": {},
   "outputs": [],
   "source": [
    "def stratifiedModelling(x,y,lg):\n",
    "  skf = StratifiedKFold(n_splits=10, shuffle=True, random_state=1)\n",
    "  lst_accu_stratified = []\n",
    "\n",
    "  for train_index, test_index in skf.split(x, y):\n",
    "    x_train_fold, x_test_fold = x.iloc[train_index], x.iloc[test_index]\n",
    "    y_train_fold, y_test_fold = y.iloc[train_index], y.iloc[test_index]\n",
    "    lg.fit(x_train_fold, y_train_fold)\n",
    "    lst_accu_stratified.append(lg.score(x_test_fold, y_test_fold))\n",
    "  print(\"List of accuracy are: \",lst_accu_stratified)\n",
    "  print(\"The mean accuracy is: \",sum(lst_accu_stratified)/len(lst_accu_stratified))\n",
    "  y_predict=lg.predict(x_test_fold)\n",
    "  print(f\"The accuracy score is {accuracy_score(y_test_fold,y_predict)}\")\n",
    "  print(\"The Classification report is:\")\n",
    "  print(classification_report(y_test_fold,y_predict))\n",
    "  plt.figure(figsize=(8,8))"
   ]
  },
  {
   "cell_type": "markdown",
   "id": "ad642a7f",
   "metadata": {},
   "source": [
    "# 1. Training using Logistic Regression Model:"
   ]
  },
  {
   "cell_type": "code",
   "execution_count": 86,
   "id": "93028da4",
   "metadata": {},
   "outputs": [
    {
     "name": "stdout",
     "output_type": "stream",
     "text": [
      "List of accuracy are:  [0.7528015820698748, 0.7528015820698748, 0.7528015820698748, 0.7528015820698748, 0.7528015820698748, 0.7528015820698748, 0.7529670329670329, 0.7529670329670329, 0.7529670329670329, 0.7527472527472527]\n",
      "The mean accuracy is:  0.75284578440676\n",
      "The accuracy score is 0.7527472527472527\n",
      "The Classification report is:\n",
      "              precision    recall  f1-score   support\n",
      "\n",
      "           0       0.75      1.00      0.86      3425\n",
      "           1       0.00      0.00      0.00      1125\n",
      "\n",
      "    accuracy                           0.75      4550\n",
      "   macro avg       0.38      0.50      0.43      4550\n",
      "weighted avg       0.57      0.75      0.65      4550\n",
      "\n"
     ]
    },
    {
     "data": {
      "text/plain": [
       "<Figure size 576x576 with 0 Axes>"
      ]
     },
     "metadata": {},
     "output_type": "display_data"
    }
   ],
   "source": [
    "from sklearn.linear_model import LogisticRegression\n",
    "lg=LogisticRegression()\n",
    "\n",
    "stratifiedModelling(x,y,lg)"
   ]
  },
  {
   "cell_type": "markdown",
   "id": "2af05a28",
   "metadata": {},
   "source": [
    "# 2. Training using Decision tree model:"
   ]
  },
  {
   "cell_type": "code",
   "execution_count": 101,
   "id": "fd59d42d",
   "metadata": {},
   "outputs": [
    {
     "name": "stdout",
     "output_type": "stream",
     "text": [
      "List of accuracy are:  [0.8134475939353988, 0.8123489343001538, 0.8134475939353988, 0.8182816963304769, 0.8145462535706438, 0.8143265216435949, 0.8171428571428572, 0.8140659340659341, 0.8101098901098901, 0.8085714285714286]\n",
      "The mean accuracy is:  0.8136288703605776\n",
      "The accuracy score is 0.8085714285714286\n",
      "The Classification report is:\n",
      "              precision    recall  f1-score   support\n",
      "\n",
      "           0       0.83      0.94      0.88      3425\n",
      "           1       0.69      0.41      0.51      1125\n",
      "\n",
      "    accuracy                           0.81      4550\n",
      "   macro avg       0.76      0.67      0.70      4550\n",
      "weighted avg       0.79      0.81      0.79      4550\n",
      "\n"
     ]
    },
    {
     "data": {
      "text/plain": [
       "<Figure size 576x576 with 0 Axes>"
      ]
     },
     "metadata": {},
     "output_type": "display_data"
    }
   ],
   "source": [
    "from sklearn.tree import DecisionTreeClassifier\n",
    "Dtree = DecisionTreeClassifier(max_depth = 2)\n",
    "\n",
    "stratifiedModelling(x,y,Dtree)"
   ]
  },
  {
   "cell_type": "markdown",
   "id": "fc0c0682",
   "metadata": {},
   "source": [
    "## comparing models:"
   ]
  },
  {
   "cell_type": "code",
   "execution_count": 46,
   "id": "bc64da8b",
   "metadata": {},
   "outputs": [
    {
     "name": "stdout",
     "output_type": "stream",
     "text": [
      "                      Model  Accuracy\n",
      "0       Logistic Regression      0.75\n",
      "1  Decision Tree classifier      0.81\n"
     ]
    }
   ],
   "source": [
    "models = {'Model':['Logistic Regression','Decision Tree classifier'],'Accuracy':[0.75,0.81,]}\n",
    "tab = pd.DataFrame(models,columns=['Model','Accuracy'])\n",
    "print(tab)"
   ]
  },
  {
   "cell_type": "markdown",
   "id": "b0bfd613",
   "metadata": {},
   "source": [
    "## Observation:\n",
    "- 2 machine learning models are used.\n",
    "- first is Logistic Regression\n",
    "  - It gives accuracy of 75.\n",
    "- Second is Decision Tree Classifier\n",
    "  - It gives accuracy of 81%.\n",
    "- Decision Tree Classifier gives more accuracy."
   ]
  },
  {
   "cell_type": "markdown",
   "id": "17720b8b",
   "metadata": {},
   "source": [
    "# Conclusion:\n",
    "\n",
    "- The given data set have 48842 rows × 15 columns.\n",
    "- The average age id 38 years.\n",
    "- With Univariate analysis we understand the frequency distribution of each categorical Variable/Column and probability and frequency distribution of each numerical column.\n",
    "- With Binary analysis we discover the relationships between numerical columns and identify the patterns between categorical and numerical columns.\n",
    "- There were missing values in the dataset and they were treated .\n",
    "- The discovered outliers are treated and removed .\n",
    "- Data is transformed using one hot encoding .\n",
    "- Data is standardized.\n",
    "- Two machine learning models are used on the transformed data.\n",
    "- The two research papers were used to perform operations on the data.\n",
    "- Research paper 1 was used  to perform some experiments and match the results.\n",
    "- Research paper 2 was used implement Extra Tree Classifier, Handling missing values, categorical variable encoding for classification.\n"
   ]
  },
  {
   "cell_type": "markdown",
   "id": "ee3d973e",
   "metadata": {},
   "source": [
    "# Resources:\n",
    "\n",
    "- [Research-paper:1](https://drive.google.com/file/d/1rfTR8bgYPSV8LlpPpsMNBTa4FM2LafZ6/view)\n",
    "- [Research-paper:2](https://drive.google.com/file/d/1nXBcKeYFtgQvGjj2QxYngn7zvqKAB12f/view)\n",
    "- [Outlier!!! The Silent Killer](https://www.kaggle.com/nareshbhat/outlier-the-silent-killer)"
   ]
  }
 ],
 "metadata": {
  "kernelspec": {
   "display_name": "Python 3 (ipykernel)",
   "language": "python",
   "name": "python3"
  },
  "language_info": {
   "codemirror_mode": {
    "name": "ipython",
    "version": 3
   },
   "file_extension": ".py",
   "mimetype": "text/x-python",
   "name": "python",
   "nbconvert_exporter": "python",
   "pygments_lexer": "ipython3",
   "version": "3.9.12"
  }
 },
 "nbformat": 4,
 "nbformat_minor": 5
}
